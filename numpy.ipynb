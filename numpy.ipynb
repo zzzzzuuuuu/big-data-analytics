{
  "nbformat": 4,
  "nbformat_minor": 0,
  "metadata": {
    "colab": {
      "provenance": [],
      "authorship_tag": "ABX9TyNj1QP90ZjpUzqZdVNRK6MJ"
    },
    "kernelspec": {
      "name": "python3",
      "display_name": "Python 3"
    },
    "language_info": {
      "name": "python"
    }
  },
  "cells": [
    {
      "cell_type": "markdown",
      "source": [
        "# 넘파이\n",
        "### 넘파이란?\n",
        "- 넘파이에서 텐서 데이터를 다루는 객체 타입\n",
        "- 넘파이에서 데이터를 저장, 관리하는 기본 클래스\n",
        "\n",
        "\\*텐서(tensor): 선형 대수의 데이터 배열\n",
        "\n",
        "- 대규모 연산 수행 가능\n",
        "- 일반적 배열 처리\n",
        "- 효과적인 기술 통계, 데이터 수집, 요약\n",
        "- 데이터 병합, 데이터 정렬, 데이터 간의 관계 조작\n",
        "- 수집, 변형, 함수 적용과 같은 그룹별 데이터 조작\n",
        "- if...else문이 아닌 배열 표현식으로 조건부 로직 구현"
      ],
      "metadata": {
        "id": "r_FOcCdCdlby"
      }
    },
    {
      "cell_type": "code",
      "source": [
        "# 임포트하기. 일반적으로 np로 호출\n",
        "import numpy as np"
      ],
      "metadata": {
        "id": "WwJN4J26hfXB"
      },
      "execution_count": null,
      "outputs": []
    },
    {
      "cell_type": "markdown",
      "source": [
        "## 넘파이 배열 객체 array\n",
        "\n",
        "```py\n",
        "import numpy as np\n",
        "test_array = np.array([1,4,5,8], np.float32)\n",
        "```\n",
        "- 매개변수1: 데이터(리스트, 튜플)\n",
        "- 매개변수2: 넘파이 배열로 표현하려는 데이터 타입 (생략가능, 추론)\n",
        "\n",
        "- 차원 ndim, 모양 shape, 크기 size, 데이터타입 dtype\n",
        "- 다차원 배열 생성 가능\n",
        "\n",
        "### 리스트와 넘파이 배열 차이점\n",
        "- 텐서 구조에 따라 배열 생성 (배열의 모든 구성 요소 크기 동일)\n",
        "```py\n",
        "test_list = [[1,4,5,8], [1,4,5]] # 텐서 아님\n",
        "```\n",
        "- 동적 타이핑 지원 X, 하나의 데이터 타입만 사용\n",
        "- 메모리에 연속적으로 나열\n",
        "  - 검색이나 연산에 있어서 훨씬 빠르게 처리 가능"
      ],
      "metadata": {
        "id": "pNsAQurKhtRj"
      }
    },
    {
      "cell_type": "code",
      "source": [
        "data = np.array([[1.5, -0.1, 3], [0, -3, 6.5]])\n",
        "data"
      ],
      "metadata": {
        "colab": {
          "base_uri": "https://localhost:8080/"
        },
        "id": "TMCRza_ch_9D",
        "outputId": "d1a9bbd8-3fc6-481f-b458-5c3b02a0234e"
      },
      "execution_count": null,
      "outputs": [
        {
          "output_type": "execute_result",
          "data": {
            "text/plain": [
              "array([[ 1.5, -0.1,  3. ],\n",
              "       [ 0. , -3. ,  6.5]])"
            ]
          },
          "metadata": {},
          "execution_count": 203
        }
      ]
    },
    {
      "cell_type": "code",
      "source": [
        "data * 10"
      ],
      "metadata": {
        "colab": {
          "base_uri": "https://localhost:8080/"
        },
        "id": "IG1Xybx-jKKB",
        "outputId": "9a3805f7-e6b4-43e4-ad7a-9d4b991cbcc4"
      },
      "execution_count": null,
      "outputs": [
        {
          "output_type": "execute_result",
          "data": {
            "text/plain": [
              "array([[ 15.,  -1.,  30.],\n",
              "       [  0., -30.,  65.]])"
            ]
          },
          "metadata": {},
          "execution_count": 204
        }
      ]
    },
    {
      "cell_type": "code",
      "source": [
        "data + data"
      ],
      "metadata": {
        "colab": {
          "base_uri": "https://localhost:8080/"
        },
        "id": "TMkzGoNUjTUU",
        "outputId": "fa814c77-94ac-420c-e381-fc5bd9595626"
      },
      "execution_count": null,
      "outputs": [
        {
          "output_type": "execute_result",
          "data": {
            "text/plain": [
              "array([[ 3. , -0.2,  6. ],\n",
              "       [ 0. , -6. , 13. ]])"
            ]
          },
          "metadata": {},
          "execution_count": 205
        }
      ]
    },
    {
      "cell_type": "code",
      "source": [
        "list_data = [[1.5, -0.1, 3], [0, -3, 6.5]]\n",
        "list_data + list_data"
      ],
      "metadata": {
        "colab": {
          "base_uri": "https://localhost:8080/"
        },
        "id": "GCoj0jacjU-k",
        "outputId": "22919d22-aae5-4299-b02e-722b138a44c1"
      },
      "execution_count": null,
      "outputs": [
        {
          "output_type": "execute_result",
          "data": {
            "text/plain": [
              "[[1.5, -0.1, 3], [0, -3, 6.5], [1.5, -0.1, 3], [0, -3, 6.5]]"
            ]
          },
          "metadata": {},
          "execution_count": 206
        }
      ]
    },
    {
      "cell_type": "code",
      "source": [
        "list_data * 10"
      ],
      "metadata": {
        "colab": {
          "base_uri": "https://localhost:8080/"
        },
        "id": "BTBQzZOuja-k",
        "outputId": "411bcc69-32c1-41ac-a3fd-8f7149f5cf80"
      },
      "execution_count": null,
      "outputs": [
        {
          "output_type": "execute_result",
          "data": {
            "text/plain": [
              "[[1.5, -0.1, 3],\n",
              " [0, -3, 6.5],\n",
              " [1.5, -0.1, 3],\n",
              " [0, -3, 6.5],\n",
              " [1.5, -0.1, 3],\n",
              " [0, -3, 6.5],\n",
              " [1.5, -0.1, 3],\n",
              " [0, -3, 6.5],\n",
              " [1.5, -0.1, 3],\n",
              " [0, -3, 6.5],\n",
              " [1.5, -0.1, 3],\n",
              " [0, -3, 6.5],\n",
              " [1.5, -0.1, 3],\n",
              " [0, -3, 6.5],\n",
              " [1.5, -0.1, 3],\n",
              " [0, -3, 6.5],\n",
              " [1.5, -0.1, 3],\n",
              " [0, -3, 6.5],\n",
              " [1.5, -0.1, 3],\n",
              " [0, -3, 6.5]]"
            ]
          },
          "metadata": {},
          "execution_count": 207
        }
      ]
    },
    {
      "cell_type": "code",
      "source": [
        "data1 = [6, 7.5, 8, 0, 1]\n",
        "arr1 = np.array(data1, np.float32)\n",
        "arr1"
      ],
      "metadata": {
        "colab": {
          "base_uri": "https://localhost:8080/"
        },
        "id": "-ODlRYkFjpDy",
        "outputId": "4b9e113b-97bf-477d-e795-788d34fbc831"
      },
      "execution_count": null,
      "outputs": [
        {
          "output_type": "execute_result",
          "data": {
            "text/plain": [
              "array([6. , 7.5, 8. , 0. , 1. ], dtype=float32)"
            ]
          },
          "metadata": {},
          "execution_count": 208
        }
      ]
    },
    {
      "cell_type": "code",
      "source": [
        "arr2 = np.array((1,2,3,4))\n",
        "arr2"
      ],
      "metadata": {
        "colab": {
          "base_uri": "https://localhost:8080/"
        },
        "id": "sgnWTA2yjq2g",
        "outputId": "b9f39d73-480c-4ff1-ffde-1f60d2e379be"
      },
      "execution_count": null,
      "outputs": [
        {
          "output_type": "execute_result",
          "data": {
            "text/plain": [
              "array([1, 2, 3, 4])"
            ]
          },
          "metadata": {},
          "execution_count": 209
        }
      ]
    },
    {
      "cell_type": "code",
      "source": [
        "arr1.ndim, arr1.shape, arr1.size # 축(개수), 차원(모양, 튜플형태), 크기(요소 개수)"
      ],
      "metadata": {
        "colab": {
          "base_uri": "https://localhost:8080/"
        },
        "id": "yEgyYaCMju0z",
        "outputId": "51f02c20-c309-4d84-99ad-2a6959abb6b5"
      },
      "execution_count": null,
      "outputs": [
        {
          "output_type": "execute_result",
          "data": {
            "text/plain": [
              "(1, (5,), 5)"
            ]
          },
          "metadata": {},
          "execution_count": 210
        }
      ]
    },
    {
      "cell_type": "code",
      "source": [
        "arr1.dtype # 타입"
      ],
      "metadata": {
        "colab": {
          "base_uri": "https://localhost:8080/"
        },
        "id": "ALfTJrIPkpNp",
        "outputId": "f5f1b4ef-8416-4ffc-cace-3f9d1224a52d"
      },
      "execution_count": null,
      "outputs": [
        {
          "output_type": "execute_result",
          "data": {
            "text/plain": [
              "dtype('float32')"
            ]
          },
          "metadata": {},
          "execution_count": 211
        }
      ]
    },
    {
      "cell_type": "code",
      "source": [
        "data2 = [[1,2,3,4], [5,6,7,8]]\n",
        "arr2 = np.array(data2, np.int32)\n",
        "arr2"
      ],
      "metadata": {
        "colab": {
          "base_uri": "https://localhost:8080/"
        },
        "id": "OTs8QgGMktRt",
        "outputId": "2432b1b2-04bf-4204-acac-9edbf6ad5431"
      },
      "execution_count": null,
      "outputs": [
        {
          "output_type": "execute_result",
          "data": {
            "text/plain": [
              "array([[1, 2, 3, 4],\n",
              "       [5, 6, 7, 8]], dtype=int32)"
            ]
          },
          "metadata": {},
          "execution_count": 212
        }
      ]
    },
    {
      "cell_type": "code",
      "source": [
        "arr2.shape, arr2.size # 행 2개, 열 4개 => 0번 축 2개의 요소, 1번 축 4개의 요소"
      ],
      "metadata": {
        "colab": {
          "base_uri": "https://localhost:8080/"
        },
        "id": "FzlYcqW5kzau",
        "outputId": "a70b8d3d-1b7d-4535-a5f0-2982d9d999e6"
      },
      "execution_count": null,
      "outputs": [
        {
          "output_type": "execute_result",
          "data": {
            "text/plain": [
              "((2, 4), 8)"
            ]
          },
          "metadata": {},
          "execution_count": 213
        }
      ]
    },
    {
      "cell_type": "code",
      "source": [
        "data3 = [[[1,2,3,4], [5,6,7,8]], [[9,10,11,12], [13,14,15,16]]]\n",
        "arr3 = np.array(data3, np.int32)\n",
        "arr3"
      ],
      "metadata": {
        "colab": {
          "base_uri": "https://localhost:8080/"
        },
        "id": "wEV4ajWolEBe",
        "outputId": "6d155e55-5de7-49c1-84d8-2ac4fe249079"
      },
      "execution_count": null,
      "outputs": [
        {
          "output_type": "execute_result",
          "data": {
            "text/plain": [
              "array([[[ 1,  2,  3,  4],\n",
              "        [ 5,  6,  7,  8]],\n",
              "\n",
              "       [[ 9, 10, 11, 12],\n",
              "        [13, 14, 15, 16]]], dtype=int32)"
            ]
          },
          "metadata": {},
          "execution_count": 214
        }
      ]
    },
    {
      "cell_type": "code",
      "source": [
        "arr3.shape, arr3.size # 바깥 []부터 0번축, 1번축, 2번축"
      ],
      "metadata": {
        "colab": {
          "base_uri": "https://localhost:8080/"
        },
        "id": "7fbQRkwvlYYX",
        "outputId": "119bd2b3-1754-4006-8e67-337fd3a0f59e"
      },
      "execution_count": null,
      "outputs": [
        {
          "output_type": "execute_result",
          "data": {
            "text/plain": [
              "((2, 2, 4), 16)"
            ]
          },
          "metadata": {},
          "execution_count": 215
        }
      ]
    },
    {
      "cell_type": "markdown",
      "source": [
        "### 효율성 확인"
      ],
      "metadata": {
        "id": "_8zt-n9klt5V"
      }
    },
    {
      "cell_type": "code",
      "source": [
        "my_arr = np.arange(1_000_000) # range 넘파일 배열형태로 0부터 나열\n",
        "my_list = list(range(1_000_000))\n",
        "\n",
        "%timeit my_arr2 = my_arr * 2 # 넘파이 배열형태가 훨씬 빠름\n",
        "%timeit my_list2 = [x * 2 for x in my_list]"
      ],
      "metadata": {
        "colab": {
          "base_uri": "https://localhost:8080/",
          "height": 211
        },
        "id": "oggpTFZql07p",
        "outputId": "9a532b7f-daac-4e68-e1dc-8d04b652512d"
      },
      "execution_count": 221,
      "outputs": [
        {
          "output_type": "error",
          "ename": "TypeError",
          "evalue": "'numpy.ndarray' object is not callable",
          "traceback": [
            "\u001b[0;31m---------------------------------------------------------------------------\u001b[0m",
            "\u001b[0;31mTypeError\u001b[0m                                 Traceback (most recent call last)",
            "\u001b[0;32m<ipython-input-221-6c4a73bcc272>\u001b[0m in \u001b[0;36m<cell line: 2>\u001b[0;34m()\u001b[0m\n\u001b[1;32m      1\u001b[0m \u001b[0mmy_arr\u001b[0m \u001b[0;34m=\u001b[0m \u001b[0mnp\u001b[0m\u001b[0;34m.\u001b[0m\u001b[0marange\u001b[0m\u001b[0;34m(\u001b[0m\u001b[0;36m1_000_000\u001b[0m\u001b[0;34m)\u001b[0m \u001b[0;31m# range 넘파일 배열형태로 0부터 나열\u001b[0m\u001b[0;34m\u001b[0m\u001b[0;34m\u001b[0m\u001b[0m\n\u001b[0;32m----> 2\u001b[0;31m \u001b[0mmy_list\u001b[0m \u001b[0;34m=\u001b[0m \u001b[0mlist\u001b[0m\u001b[0;34m(\u001b[0m\u001b[0mrange\u001b[0m\u001b[0;34m(\u001b[0m\u001b[0;36m1_000_000\u001b[0m\u001b[0;34m)\u001b[0m\u001b[0;34m)\u001b[0m\u001b[0;34m\u001b[0m\u001b[0;34m\u001b[0m\u001b[0m\n\u001b[0m\u001b[1;32m      3\u001b[0m \u001b[0;34m\u001b[0m\u001b[0m\n\u001b[1;32m      4\u001b[0m \u001b[0mget_ipython\u001b[0m\u001b[0;34m(\u001b[0m\u001b[0;34m)\u001b[0m\u001b[0;34m.\u001b[0m\u001b[0mrun_line_magic\u001b[0m\u001b[0;34m(\u001b[0m\u001b[0;34m'timeit'\u001b[0m\u001b[0;34m,\u001b[0m \u001b[0;34m'my_arr2 = my_arr * 2 # 넘파이 배열형태가 훨씬 빠름'\u001b[0m\u001b[0;34m)\u001b[0m\u001b[0;34m\u001b[0m\u001b[0;34m\u001b[0m\u001b[0m\n\u001b[1;32m      5\u001b[0m \u001b[0mget_ipython\u001b[0m\u001b[0;34m(\u001b[0m\u001b[0;34m)\u001b[0m\u001b[0;34m.\u001b[0m\u001b[0mrun_line_magic\u001b[0m\u001b[0;34m(\u001b[0m\u001b[0;34m'timeit'\u001b[0m\u001b[0;34m,\u001b[0m \u001b[0;34m'my_list2 = [x * 2 for x in my_list]'\u001b[0m\u001b[0;34m)\u001b[0m\u001b[0;34m\u001b[0m\u001b[0;34m\u001b[0m\u001b[0m\n",
            "\u001b[0;31mTypeError\u001b[0m: 'numpy.ndarray' object is not callable"
          ]
        }
      ]
    },
    {
      "cell_type": "markdown",
      "source": [
        "### 다른 생성 함수"
      ],
      "metadata": {
        "id": "MELlzEZEmZPd"
      }
    },
    {
      "cell_type": "code",
      "source": [
        "np.zeros(10) # 0으로 구성"
      ],
      "metadata": {
        "id": "sZ9UuqiEl7jR"
      },
      "execution_count": null,
      "outputs": []
    },
    {
      "cell_type": "code",
      "source": [
        "np.zeros((3, 6))"
      ],
      "metadata": {
        "id": "F0b8GRysmjKL"
      },
      "execution_count": null,
      "outputs": []
    },
    {
      "cell_type": "code",
      "source": [
        "# 특정 array와 같은(like) 크기와 데이터 타입을 가지는 모든 요소가 0인 배열을 생성\n",
        "np.zeros_like(arr2)\n",
        "#arr2"
      ],
      "metadata": {
        "id": "46gMx77UmoPP"
      },
      "execution_count": null,
      "outputs": []
    },
    {
      "cell_type": "code",
      "source": [
        "np.empty((2, 3, 2)) # 초기화 되지 않은 값으로 array 생성"
      ],
      "metadata": {
        "id": "Ls8ct1pfmwPn"
      },
      "execution_count": null,
      "outputs": []
    },
    {
      "cell_type": "code",
      "source": [
        "np.full((2,3,2), 2) # 따로 입력한 값으로 채움"
      ],
      "metadata": {
        "id": "STZIoZiFm8nq"
      },
      "execution_count": null,
      "outputs": []
    },
    {
      "cell_type": "code",
      "source": [
        "# np.arange(시작점(생략 시 0), 끝점(미포함), step size(생략 시 1))\n",
        "np.arange(15)  # range 넘파일 배열형태로 0부터 나열"
      ],
      "metadata": {
        "id": "TibchIxUnBYS"
      },
      "execution_count": null,
      "outputs": []
    },
    {
      "cell_type": "code",
      "source": [
        "np.eye(6) # 항등 행렬로 대각선분1, 나머지 전부 0"
      ],
      "metadata": {
        "id": "mp4HRjbfnDqw"
      },
      "execution_count": null,
      "outputs": []
    },
    {
      "cell_type": "code",
      "source": [
        "np.identity(6)\n",
        "# np.eyed와 마찬가지.."
      ],
      "metadata": {
        "id": "viM4cDdxnKmB"
      },
      "execution_count": null,
      "outputs": []
    },
    {
      "cell_type": "markdown",
      "source": [
        "### 넘파이 배열(array)의 자료형\n",
        "dtype을 통해 타입 지정 설정, 확인 가능\n",
        "- int8-int64\n",
        "- float16-float128\n",
        "- complex64, 128, 256\n",
        "- boolean\n",
        "- object\n",
        "- string_\n",
        "- unicode_\n",
        "\n",
        "*astype을 통해 다양한 형변환 가능"
      ],
      "metadata": {
        "id": "BpSL4RFkgSry"
      }
    },
    {
      "cell_type": "code",
      "source": [
        "arr1 = np.array([1, 2, 3], dtype=np.float64)\n",
        "arr1.dtype"
      ],
      "metadata": {
        "id": "X-L5tf82g016"
      },
      "execution_count": null,
      "outputs": []
    },
    {
      "cell_type": "code",
      "source": [
        "arr2 = np.array([1, 2, 3], dtype=np.int64)\n",
        "arr2.dtype"
      ],
      "metadata": {
        "id": "9zKNp79Gh8Yi"
      },
      "execution_count": null,
      "outputs": []
    },
    {
      "cell_type": "code",
      "source": [
        "arr = np.array([1, 2, 3, 4, 5])\n",
        "arr.dtype"
      ],
      "metadata": {
        "id": "fCqFkxSiiIr5"
      },
      "execution_count": null,
      "outputs": []
    },
    {
      "cell_type": "code",
      "source": [
        "float_arr = arr.astype(np.float64)\n",
        "float_arr.dtype"
      ],
      "metadata": {
        "id": "GD7Ijd_DiLoV"
      },
      "execution_count": null,
      "outputs": []
    },
    {
      "cell_type": "code",
      "source": [
        "arr = np.array([1+2j, 3+4j], dtype=np.complex64)\n",
        "arr, arr.dtype"
      ],
      "metadata": {
        "id": "HTPlhHREidAf"
      },
      "execution_count": null,
      "outputs": []
    },
    {
      "cell_type": "code",
      "source": [
        "arr = np.array([3.7, -1.2, -2.6, 0.5, 12.9, 10.1])\n",
        "arr, arr.dtype"
      ],
      "metadata": {
        "id": "K2cVfZP_io5G"
      },
      "execution_count": null,
      "outputs": []
    },
    {
      "cell_type": "code",
      "source": [
        "# astype의 활용\n",
        "arr = np.array([3.7, -1.2, -2.6, 0.5, 12.9, 10.1])\n",
        "print(arr, arr.dtype)\n",
        "arr.astype(np.int32) # np.을 붙여야함!!\n",
        "arr"
      ],
      "metadata": {
        "id": "HvivP-SAi29g"
      },
      "execution_count": null,
      "outputs": []
    },
    {
      "cell_type": "code",
      "source": [
        "numeric_strings = np.array([\"1.25\", \"-9.6\", \"42\"], dtype=np.string_)\n",
        "numeric_strings.astype(np.float32)\n",
        "numeric_strings"
      ],
      "metadata": {
        "id": "DL7ptWeSjSub"
      },
      "execution_count": null,
      "outputs": []
    },
    {
      "cell_type": "code",
      "source": [
        "int_array = np.arange(10)\n",
        "print(int_array)\n",
        "calibers = np.array([.22, .270, .357, .380, .44, .50], dtype=np.float64)\n",
        "int_array.astype(calibers.dtype)"
      ],
      "metadata": {
        "id": "kHaxJWAij47Q"
      },
      "execution_count": null,
      "outputs": []
    },
    {
      "cell_type": "markdown",
      "source": [
        "### 넘파이 배열의 산술 연산\n",
        "- for문을 작성하지 않고 일괄처리 가능\n",
        "- 기본적으로, 크기가 동일한 배열 간의 연산은 각 원소 단위로 이루어짐\n",
        "  - 그렇지 않을 경우, 브로드캐스팅의 원리를 따라 계산됨"
      ],
      "metadata": {
        "id": "-qhGe-_NkJGU"
      }
    },
    {
      "cell_type": "code",
      "source": [
        "arr0 = np.array(([1,2,3], [4,5,6]))\n",
        "arr0"
      ],
      "metadata": {
        "id": "FXwjT6TekUqU"
      },
      "execution_count": null,
      "outputs": []
    },
    {
      "cell_type": "code",
      "source": [
        "arr0 + np.array(3) # 브로드캐스트 원리로, 각 원소마다 3씩 더해짐."
      ],
      "metadata": {
        "id": "Mr0yz1U7kd3l"
      },
      "execution_count": null,
      "outputs": []
    },
    {
      "cell_type": "code",
      "source": [
        "arr0 + np.array([1, 2, 3]) # 0번째 축의 두 요소(배열)에 각각 [1, 2, 3]이 더해짐"
      ],
      "metadata": {
        "id": "mLPO9K5Yki-U"
      },
      "execution_count": null,
      "outputs": []
    },
    {
      "cell_type": "code",
      "source": [
        "arr = np.array([[1., 2., 3.], [4., 5., 6.]])"
      ],
      "metadata": {
        "id": "5STagR5vlhBA"
      },
      "execution_count": null,
      "outputs": []
    },
    {
      "cell_type": "code",
      "source": [
        "# array 산술 연산\n",
        "arr * arr"
      ],
      "metadata": {
        "id": "geOGrXqDlBJj"
      },
      "execution_count": null,
      "outputs": []
    },
    {
      "cell_type": "code",
      "source": [
        "arr - arr"
      ],
      "metadata": {
        "id": "vFNSoZC-lHjo"
      },
      "execution_count": null,
      "outputs": []
    },
    {
      "cell_type": "code",
      "source": [
        "1 / arr"
      ],
      "metadata": {
        "id": "DKJd-NrTlIYL"
      },
      "execution_count": null,
      "outputs": []
    },
    {
      "cell_type": "code",
      "source": [
        "arr ** 2"
      ],
      "metadata": {
        "id": "PteLT547lJU_"
      },
      "execution_count": null,
      "outputs": []
    },
    {
      "cell_type": "code",
      "source": [
        "arr2 = np.array([[0., 4., 1.], [7., 2., 12.]])\n",
        "arr2 > arr # 축이 맞아야 하는듯.."
      ],
      "metadata": {
        "id": "P-nx8N1hlK_k"
      },
      "execution_count": null,
      "outputs": []
    },
    {
      "cell_type": "markdown",
      "source": [
        "### 색인(index)와 슬라이싱(slicing)\n",
        "- 파이썬의 리스트에서와 비슷하게 작동\n",
        "  - arr[a:b]는 index가 a부터 b-1까지 슬라이싱\n",
        "- 다른 점은?\n",
        "  - **배열 슬라이스가 복사되지 않는, 원본 배열의 뷰(view)라는 점**"
      ],
      "metadata": {
        "id": "5qVdqPbJluMN"
      }
    },
    {
      "cell_type": "code",
      "source": [
        "arr = np.arange(10)\n",
        "arr"
      ],
      "metadata": {
        "id": "8cGKbrX5l9N6"
      },
      "execution_count": null,
      "outputs": []
    },
    {
      "cell_type": "code",
      "source": [
        "arr[5:8] = 12\n",
        "arr"
      ],
      "metadata": {
        "id": "KSO8KQ7gmACJ"
      },
      "execution_count": null,
      "outputs": []
    },
    {
      "cell_type": "code",
      "source": [
        "# 넘파이 배열의 슬라이스는 뷰(view)\n",
        "list_a = list(range(10))\n",
        "list_slice = list_a[5:8]\n",
        "list_slice = [12, 12, 12]\n",
        "list_a # 원본 배열 바뀌지 않는다."
      ],
      "metadata": {
        "id": "Q1hEMfk5mDrM"
      },
      "execution_count": null,
      "outputs": []
    },
    {
      "cell_type": "code",
      "source": [
        "arr = np.arange(10)\n",
        "arr_slice = arr[5:8]\n",
        "arr_slice[:] = 12\n",
        "arr_slice, arr # 원본도 바뀐다!!! 뷰 이기 때문!!"
      ],
      "metadata": {
        "id": "GIrjXpqRmN9X"
      },
      "execution_count": null,
      "outputs": []
    },
    {
      "cell_type": "markdown",
      "source": [
        "### 다차원 배열 색인 (index)\n",
        "- 2차원 이상의 배열의 인덱싱에서, 리스트와 다르게 쉼표로도 호출이 가능\n",
        "  - A[0,1] vs A[0][1]\n",
        "  - 괄호를 통해 인덱싱하는 것보다 더 직관적이고 활용하기 쉬움\n",
        "  - **넘파이 배열에서는 주로 쉼표를 활용해서 인덱싱 및 슬라이싱 진행**\n",
        "- 쉼표를 통해 호출하는 것은 축을 기준으로 색인하는 방법\n",
        "  - A[a,b,c]는 0번 축에서 a번, 1번 축에서 b번, 2번 축에서 c번인 원소\n"
      ],
      "metadata": {
        "id": "uNkUB84gnck9"
      }
    },
    {
      "cell_type": "code",
      "source": [
        "arr2d = np.array([[1, 2, 3], [4, 5, 6], [7, 8, 9]])\n",
        "arr2d, arr2d[0][1], arr2d[0, 1]"
      ],
      "metadata": {
        "id": "45N-0Ce7oFjT"
      },
      "execution_count": null,
      "outputs": []
    },
    {
      "cell_type": "code",
      "source": [
        "arr3d = np.array([[[1, 2, 3], [4, 5, 6]], [[7, 8, 9], [10, 11, 12]]])\n",
        "arr3d, arr3d[0]"
      ],
      "metadata": {
        "id": "yAKDYxGdoQA5"
      },
      "execution_count": null,
      "outputs": []
    },
    {
      "cell_type": "code",
      "source": [
        "old_values = arr3d[0].copy()\n",
        "arr3d[0] = 42\n",
        "arr3d"
      ],
      "metadata": {
        "id": "yQ1RZmtbopQw"
      },
      "execution_count": null,
      "outputs": []
    },
    {
      "cell_type": "code",
      "source": [
        "arr3d[0] = old_values\n",
        "arr3d"
      ],
      "metadata": {
        "id": "CCGPpsrpowbZ"
      },
      "execution_count": null,
      "outputs": []
    },
    {
      "cell_type": "markdown",
      "source": [
        "### 다차원 배열 슬라이싱(slicing)\n",
        "- 1차원 슬라이싱은 리스트와 동일\n",
        "- 2차원부터는 쉼표로 구분하냐, 괄호로 구분하냐의 차이 존재\n",
        "  - arr2d[:][:2] vs arr2d[:, :2]\n",
        "    - 쉼표로 구분시, 축을 따라 선택 영역 내의 원소 선택\n",
        "    - 괄호로 구분시, 리스트처럼 축의 개념 없이 원소의 나열로 이해\n",
        "    - 쉼표로 구분하는 것이 직관적이고 유용\n",
        "\n",
        "*3x3의 2차원 배열이 있다고 했을 때, (코드 | 형태)\n",
        "- arr[2] → (3, ) # 차원이 줄어듦\n",
        "- arr[2, :] → (3, )\n",
        "- arr[2:, :] → (1, 3) # 차원이 줄어들지 않음\n",
        "- arr[:, :2] → (3, 2)\n",
        "- arr[1, :2] → (2, ) # 차원이 줄어듦. 지정했으므로\n",
        "- arr[1:2, :2] → (1, 2) # 차원이 줄어들지 않음"
      ],
      "metadata": {
        "id": "xUTz9DOGo2Mb"
      }
    },
    {
      "cell_type": "code",
      "source": [
        "arr, arr[1:6]"
      ],
      "metadata": {
        "id": "FjJOUr5sqC2y"
      },
      "execution_count": null,
      "outputs": []
    },
    {
      "cell_type": "code",
      "source": [
        "arr2d"
      ],
      "metadata": {
        "id": "H7zHuVgrrRL5"
      },
      "execution_count": null,
      "outputs": []
    },
    {
      "cell_type": "code",
      "source": [
        "arr2d[:][:2] # 축의 개념 없이 원소의 나열로 이해 → 모든 행 반환 후, 첫번째 결과에 대해 다시 첫 두 행 선택."
      ],
      "metadata": {
        "id": "32hQEFTnrTKr"
      },
      "execution_count": null,
      "outputs": []
    },
    {
      "cell_type": "code",
      "source": [
        "arr2d[:, :2]"
      ],
      "metadata": {
        "id": "DefhmY7trfSe"
      },
      "execution_count": null,
      "outputs": []
    },
    {
      "cell_type": "markdown",
      "source": [
        "### 색인(index)와 슬라이싱(slicing) 기초\n",
        "- [[[1,2,3], [4,5,6]], [[7,8,9], [10,11,12]], [[13,14,15], [16,17,18]]] 을 아래와 같이 바꿔보자.\n",
        "\n",
        "1. [[[1000,2,3], [1000,5,6]], [[1000,8,9], [1000,11,12]], [[13,14,15], [16,17,18]]]\n",
        "1-A. A=np.array([[[1,2,3], [4,5,6]], [[7,8,9], [10,11,12]], [[13,14,15], [16,17,18]]])\n",
        "\n",
        "A[:2,:,0] = 1000\n",
        "\n",
        "→ 세 개의 축 중 0, 1번째의 축까지 자른 뒤, 그 중 모든 요소의 0번째 값에 1000 대입\n",
        "\n",
        "---\n",
        "\n",
        "2. [[[1000,1000,3], [4,5,6]], [[1000,1000,9], [10,11,12]], [[1000,1000,15], [16,17,18]]]\n",
        "2-A. A[:,0,:2]=1000\n",
        "\n",
        "→ 세 개의 모든 축의 0번째 요소의 0, 1번째 값에 1000 대입"
      ],
      "metadata": {
        "id": "K7nbs41vtHxs"
      }
    },
    {
      "cell_type": "markdown",
      "source": [
        "### 불리언 값으로 선택하기\n",
        "- 넘파이 배열 인덱싱에 불리언 배열을 대입하여 선택 가능\n",
        "- 불리언 배열을 포함한 다차원 색인\n",
        "  - 슬라이싱과 원소 선택에 있어서 혼합적으로 활용 가능\n",
        "- 그 밖, 다양한 조건연산자를 활용한 불리언 색인 예시.."
      ],
      "metadata": {
        "id": "SkVKNMWaFWgR"
      }
    },
    {
      "cell_type": "code",
      "source": [
        "names = np.array([\"Bob\", \"Joe\", \"Will\", \"Bob\", \"Will\", \"Joe\", \"Joe\"])\n",
        "data = np.array([[4, 7], [0, 2], [-5, 6], [0, 0], [1, 2],\n",
        "                 [-12, -4], [3, 4]])\n",
        "print(names, data)"
      ],
      "metadata": {
        "id": "wuHSfZaUFsA3",
        "colab": {
          "base_uri": "https://localhost:8080/"
        },
        "outputId": "ad164a85-8f56-414e-dead-874e8e3e4aaf"
      },
      "execution_count": 227,
      "outputs": [
        {
          "output_type": "stream",
          "name": "stdout",
          "text": [
            "['Bob' 'Joe' 'Will' 'Bob' 'Will' 'Joe' 'Joe'] [[  4   7]\n",
            " [  0   2]\n",
            " [ -5   6]\n",
            " [  0   0]\n",
            " [  1   2]\n",
            " [-12  -4]\n",
            " [  3   4]]\n"
          ]
        }
      ]
    },
    {
      "cell_type": "code",
      "source": [
        "names == \"Bob\""
      ],
      "metadata": {
        "id": "qjxjv9DzGB_V",
        "colab": {
          "base_uri": "https://localhost:8080/"
        },
        "outputId": "0ebe3bb7-4d19-4082-b419-cff56dea505f"
      },
      "execution_count": 228,
      "outputs": [
        {
          "output_type": "execute_result",
          "data": {
            "text/plain": [
              "array([ True, False, False,  True, False, False, False])"
            ]
          },
          "metadata": {},
          "execution_count": 228
        }
      ]
    },
    {
      "cell_type": "code",
      "source": [
        "data[names == \"Bob\"]"
      ],
      "metadata": {
        "id": "1t7bDz0oGD31",
        "colab": {
          "base_uri": "https://localhost:8080/"
        },
        "outputId": "0c60efc0-3303-4ba1-ec3c-c41e48a32528"
      },
      "execution_count": 229,
      "outputs": [
        {
          "output_type": "execute_result",
          "data": {
            "text/plain": [
              "array([[4, 7],\n",
              "       [0, 0]])"
            ]
          },
          "metadata": {},
          "execution_count": 229
        }
      ]
    },
    {
      "cell_type": "code",
      "source": [
        "list = np.array([[4, 7], [0, 2], [-5, 6], [0, 0], [1, 2],\n",
        "        [-12, -4], [-3, 4]])\n",
        "list > 3"
      ],
      "metadata": {
        "id": "raOIcgB6GGY_",
        "colab": {
          "base_uri": "https://localhost:8080/"
        },
        "outputId": "e1512f98-6ec1-4f4a-b1b3-40d16cc94ad3"
      },
      "execution_count": 230,
      "outputs": [
        {
          "output_type": "execute_result",
          "data": {
            "text/plain": [
              "array([[ True,  True],\n",
              "       [False, False],\n",
              "       [False,  True],\n",
              "       [False, False],\n",
              "       [False, False],\n",
              "       [False, False],\n",
              "       [False,  True]])"
            ]
          },
          "metadata": {},
          "execution_count": 230
        }
      ]
    },
    {
      "cell_type": "code",
      "source": [
        "# 불리언 배열을 포함한 다차원 색인\n",
        "data[names == \"Bob\", 1:] # Bob이 있는지 확인하고, 두 번째 열부터 끝까지 선택 (현재는 두 번째 열까지만 존재)\n",
        "# Bob에 해당하는 행은 첫 번째와 네 번째 행이고, 그들의 두 번째 열 값을 선택시 [7]과 [0]이 나옴"
      ],
      "metadata": {
        "id": "naj1NdHcGNa8",
        "colab": {
          "base_uri": "https://localhost:8080/"
        },
        "outputId": "b5ebd0b5-b2c5-4b02-de8e-c848d998dc39"
      },
      "execution_count": 231,
      "outputs": [
        {
          "output_type": "execute_result",
          "data": {
            "text/plain": [
              "array([[7],\n",
              "       [0]])"
            ]
          },
          "metadata": {},
          "execution_count": 231
        }
      ]
    },
    {
      "cell_type": "code",
      "source": [
        "data[names == \"Bob\", 1] # Bob에 해당하는 행을 선택한 후, 두 번째 열만 선택"
      ],
      "metadata": {
        "id": "Hfhe4DKrHrFj",
        "colab": {
          "base_uri": "https://localhost:8080/"
        },
        "outputId": "50732e1e-51e3-45fc-8ea6-4e09c1a31546"
      },
      "execution_count": 232,
      "outputs": [
        {
          "output_type": "execute_result",
          "data": {
            "text/plain": [
              "array([7, 0])"
            ]
          },
          "metadata": {},
          "execution_count": 232
        }
      ]
    },
    {
      "cell_type": "code",
      "source": [
        "# 조건 연산자나, 불리언 연산자 활용\n",
        "names != \"Bob\""
      ],
      "metadata": {
        "id": "VWM2O4vnH0sg",
        "colab": {
          "base_uri": "https://localhost:8080/"
        },
        "outputId": "792ac06c-acab-41d6-dceb-86dda901d7e7"
      },
      "execution_count": 233,
      "outputs": [
        {
          "output_type": "execute_result",
          "data": {
            "text/plain": [
              "array([False,  True,  True, False,  True,  True,  True])"
            ]
          },
          "metadata": {},
          "execution_count": 233
        }
      ]
    },
    {
      "cell_type": "code",
      "source": [
        "~(names == \"Bob\")"
      ],
      "metadata": {
        "id": "u8Z1grX-I2kM",
        "colab": {
          "base_uri": "https://localhost:8080/"
        },
        "outputId": "5000fcc9-4b69-44d0-f4cb-8789fb716131"
      },
      "execution_count": 234,
      "outputs": [
        {
          "output_type": "execute_result",
          "data": {
            "text/plain": [
              "array([False,  True,  True, False,  True,  True,  True])"
            ]
          },
          "metadata": {},
          "execution_count": 234
        }
      ]
    },
    {
      "cell_type": "code",
      "source": [
        "data[~(names == \"Bob\")]"
      ],
      "metadata": {
        "id": "B3DOBi8FI32d",
        "colab": {
          "base_uri": "https://localhost:8080/"
        },
        "outputId": "f995153e-0506-4519-afce-4842fa08fd24"
      },
      "execution_count": 235,
      "outputs": [
        {
          "output_type": "execute_result",
          "data": {
            "text/plain": [
              "array([[  0,   2],\n",
              "       [ -5,   6],\n",
              "       [  1,   2],\n",
              "       [-12,  -4],\n",
              "       [  3,   4]])"
            ]
          },
          "metadata": {},
          "execution_count": 235
        }
      ]
    },
    {
      "cell_type": "code",
      "source": [
        "# # numpy2 p.3  다양한 조건연산자를 활용한 불리언 색인 예시\n",
        "# names2 = np.array([\"Bob\", \"Steven\", \"Susan\", \"Stella\"])\n",
        "# genders = np.array([\"M\", \"M\", \"F\", \"F\"])\n",
        "# ages = np.array([36, 22, 42, 26])\n",
        "\n",
        "# names[ages>30], genders[(names2!='Susan') & (names2!=\"Stella\")], ages[genders == 'F']"
      ],
      "metadata": {
        "id": "0SQD-QfyI_VM"
      },
      "execution_count": 239,
      "outputs": []
    },
    {
      "cell_type": "code",
      "source": [
        "# 불리언 배열을 따로 변수로 지정해서 활용\n",
        "cond = names == \"Bob\"\n",
        "cond"
      ],
      "metadata": {
        "id": "8mAkJz0-JmXD",
        "colab": {
          "base_uri": "https://localhost:8080/"
        },
        "outputId": "418c3223-1ea1-4173-899e-f96cb3b03def"
      },
      "execution_count": 237,
      "outputs": [
        {
          "output_type": "execute_result",
          "data": {
            "text/plain": [
              "array([ True, False, False,  True, False, False, False])"
            ]
          },
          "metadata": {},
          "execution_count": 237
        }
      ]
    },
    {
      "cell_type": "code",
      "source": [
        "data[~cond] # names == \"Bob\"이 아닌 애들만 출력."
      ],
      "metadata": {
        "id": "5e5U7Zh8J2AV",
        "colab": {
          "base_uri": "https://localhost:8080/"
        },
        "outputId": "a52b8c4f-e72b-473b-fda2-d606e817038a"
      },
      "execution_count": 242,
      "outputs": [
        {
          "output_type": "execute_result",
          "data": {
            "text/plain": [
              "array([[  0,   2],\n",
              "       [ -5,   6],\n",
              "       [  1,   2],\n",
              "       [-12,  -4],\n",
              "       [  3,   4]])"
            ]
          },
          "metadata": {},
          "execution_count": 242
        }
      ]
    },
    {
      "cell_type": "code",
      "source": [
        "# and나 or 사용 불가능, &나 |를 사용해야함\n",
        "mask = (names == \"Bob\") | (names == \"Will\")\n",
        "mask"
      ],
      "metadata": {
        "id": "cNCfAkCbwcsA",
        "colab": {
          "base_uri": "https://localhost:8080/"
        },
        "outputId": "4f1bd776-5912-423e-f065-2d7f43421310"
      },
      "execution_count": 243,
      "outputs": [
        {
          "output_type": "execute_result",
          "data": {
            "text/plain": [
              "array([ True, False,  True,  True,  True, False, False])"
            ]
          },
          "metadata": {},
          "execution_count": 243
        }
      ]
    },
    {
      "cell_type": "code",
      "source": [
        "data[mask] # Bob이나 Wil인 애들의 데이터만 출력"
      ],
      "metadata": {
        "colab": {
          "base_uri": "https://localhost:8080/"
        },
        "id": "HZWXO_94zAVy",
        "outputId": "8b4b5ab0-e5aa-47c2-f89a-6142a99f00c3"
      },
      "execution_count": 245,
      "outputs": [
        {
          "output_type": "execute_result",
          "data": {
            "text/plain": [
              "array([[ 4,  7],\n",
              "       [-5,  6],\n",
              "       [ 0,  0],\n",
              "       [ 1,  2]])"
            ]
          },
          "metadata": {},
          "execution_count": 245
        }
      ]
    },
    {
      "cell_type": "code",
      "source": [
        "# 불리언 값 선택과 브로드 캐스팅\n",
        "data < 0"
      ],
      "metadata": {
        "colab": {
          "base_uri": "https://localhost:8080/"
        },
        "id": "q0486Y8xzCTk",
        "outputId": "0928f5ef-98bc-4d4a-9537-80afa712d1fa"
      },
      "execution_count": 247,
      "outputs": [
        {
          "output_type": "execute_result",
          "data": {
            "text/plain": [
              "array([[False, False],\n",
              "       [False, False],\n",
              "       [ True, False],\n",
              "       [False, False],\n",
              "       [False, False],\n",
              "       [ True,  True],\n",
              "       [False, False]])"
            ]
          },
          "metadata": {},
          "execution_count": 247
        }
      ]
    },
    {
      "cell_type": "code",
      "source": [
        "data[data < 0] = 0 # 음수인 값을 0으로 대체\n",
        "data"
      ],
      "metadata": {
        "colab": {
          "base_uri": "https://localhost:8080/"
        },
        "id": "IG_jBDl8zKPH",
        "outputId": "2f7161ef-62b7-4f58-f888-ead7a2057110"
      },
      "execution_count": 251,
      "outputs": [
        {
          "output_type": "execute_result",
          "data": {
            "text/plain": [
              "array([[4, 7],\n",
              "       [0, 2],\n",
              "       [0, 6],\n",
              "       [0, 0],\n",
              "       [1, 2],\n",
              "       [0, 0],\n",
              "       [3, 4]])"
            ]
          },
          "metadata": {},
          "execution_count": 251
        }
      ]
    },
    {
      "cell_type": "code",
      "source": [
        "data[names != \"Joe\"] = 7\n",
        "data"
      ],
      "metadata": {
        "colab": {
          "base_uri": "https://localhost:8080/"
        },
        "id": "YDxMQiiU0HdX",
        "outputId": "f1084c06-c1b8-40ea-fa74-4b307840c0ba"
      },
      "execution_count": 252,
      "outputs": [
        {
          "output_type": "execute_result",
          "data": {
            "text/plain": [
              "array([[7, 7],\n",
              "       [0, 2],\n",
              "       [7, 7],\n",
              "       [7, 7],\n",
              "       [7, 7],\n",
              "       [0, 0],\n",
              "       [3, 4]])"
            ]
          },
          "metadata": {},
          "execution_count": 252
        }
      ]
    },
    {
      "cell_type": "code",
      "source": [
        "names = np.array([\"B\", \"S\", \"Su\", \"St\"])\n",
        "ages = np.array([36, 22, 42, 46])\n",
        "genders = np.array(['M', 'M', \"F\", \"F\"])\n",
        "names[ages > 30]"
      ],
      "metadata": {
        "colab": {
          "base_uri": "https://localhost:8080/"
        },
        "id": "u-nIsNDu0QC3",
        "outputId": "124e16b3-2c53-4945-ad53-01f24b22d466"
      },
      "execution_count": 253,
      "outputs": [
        {
          "output_type": "execute_result",
          "data": {
            "text/plain": [
              "array(['B', 'Su', 'St'], dtype='<U2')"
            ]
          },
          "metadata": {},
          "execution_count": 253
        }
      ]
    },
    {
      "cell_type": "code",
      "source": [
        "genders[(names != 'Su') & (names != 'St')]"
      ],
      "metadata": {
        "colab": {
          "base_uri": "https://localhost:8080/"
        },
        "id": "nxI7IOxB0hCO",
        "outputId": "4912ed0e-0e78-455d-c05d-c932d6faccf2"
      },
      "execution_count": 254,
      "outputs": [
        {
          "output_type": "execute_result",
          "data": {
            "text/plain": [
              "array(['M', 'M'], dtype='<U1')"
            ]
          },
          "metadata": {},
          "execution_count": 254
        }
      ]
    },
    {
      "cell_type": "code",
      "source": [
        "ages[genders == 'F']"
      ],
      "metadata": {
        "colab": {
          "base_uri": "https://localhost:8080/"
        },
        "id": "0UPu-0O00n9-",
        "outputId": "e701b1d4-657c-4f72-af60-d872fcc4edea"
      },
      "execution_count": 255,
      "outputs": [
        {
          "output_type": "execute_result",
          "data": {
            "text/plain": [
              "array([42, 46])"
            ]
          },
          "metadata": {},
          "execution_count": 255
        }
      ]
    },
    {
      "cell_type": "markdown",
      "source": [
        "### 팬시 색인\n",
        "- 정수 배열을 사용한 색인을 뜻함 (인덱싱)\n",
        "  - 예시) Data[[0,1,5,8]] -> 0번축의 0, 1, 5, 8번 요소 순서대로 나열.\n",
        "- 넘파이 배열에서의 활용도가 높음\n",
        "- **다차원 팬시 색인**"
      ],
      "metadata": {
        "id": "97rn5fFs0t1g"
      }
    },
    {
      "cell_type": "code",
      "source": [
        "arr = np.zeros((8, 4))\n",
        "for i in range(8):\n",
        "  arr[i] = i\n",
        "arr"
      ],
      "metadata": {
        "colab": {
          "base_uri": "https://localhost:8080/"
        },
        "id": "M1Fo7ycL03_k",
        "outputId": "10bd2788-4337-4b6d-a8fd-5a13d6d235ad"
      },
      "execution_count": 261,
      "outputs": [
        {
          "output_type": "execute_result",
          "data": {
            "text/plain": [
              "array([[0., 0., 0., 0.],\n",
              "       [1., 1., 1., 1.],\n",
              "       [2., 2., 2., 2.],\n",
              "       [3., 3., 3., 3.],\n",
              "       [4., 4., 4., 4.],\n",
              "       [5., 5., 5., 5.],\n",
              "       [6., 6., 6., 6.],\n",
              "       [7., 7., 7., 7.]])"
            ]
          },
          "metadata": {},
          "execution_count": 261
        }
      ]
    },
    {
      "cell_type": "code",
      "source": [
        "arr[[4, 3, 0, 6]]"
      ],
      "metadata": {
        "colab": {
          "base_uri": "https://localhost:8080/"
        },
        "id": "GkZFHw770-Fs",
        "outputId": "da95a4d0-6fac-494c-f4dc-0371e094470e"
      },
      "execution_count": 262,
      "outputs": [
        {
          "output_type": "execute_result",
          "data": {
            "text/plain": [
              "array([[4., 4., 4., 4.],\n",
              "       [3., 3., 3., 3.],\n",
              "       [0., 0., 0., 0.],\n",
              "       [6., 6., 6., 6.]])"
            ]
          },
          "metadata": {},
          "execution_count": 262
        }
      ]
    },
    {
      "cell_type": "code",
      "source": [
        "arr[[-3, -5, -7]] # 마지막에서 3번째, 5번째, 7번째 요소 출력"
      ],
      "metadata": {
        "colab": {
          "base_uri": "https://localhost:8080/"
        },
        "id": "srb_8Wzj1Buv",
        "outputId": "726514c6-2bed-430f-e119-1e7dd434b970"
      },
      "execution_count": 264,
      "outputs": [
        {
          "output_type": "execute_result",
          "data": {
            "text/plain": [
              "array([[5., 5., 5., 5.],\n",
              "       [3., 3., 3., 3.],\n",
              "       [1., 1., 1., 1.]])"
            ]
          },
          "metadata": {},
          "execution_count": 264
        }
      ]
    },
    {
      "cell_type": "markdown",
      "source": [
        "### 다차원 팬시 색인. 중요!!!"
      ],
      "metadata": {
        "id": "Aoc87NaK1mA2"
      }
    },
    {
      "cell_type": "code",
      "source": [
        "# reshape 메서드를 활용해서 파라미터의 튜플 형태를 shape, 해당 shape에 맞게 재배열\n",
        "arr = np.arange(32).reshape((8, 4)) # 0부터 31까지의 숫자를 순차적으로 생성..\n",
        "arr"
      ],
      "metadata": {
        "colab": {
          "base_uri": "https://localhost:8080/"
        },
        "id": "Up5M38bW1YRC",
        "outputId": "41af5ca3-5370-46d2-d161-8c4ce4efc10d"
      },
      "execution_count": 288,
      "outputs": [
        {
          "output_type": "execute_result",
          "data": {
            "text/plain": [
              "array([[ 0,  1,  2,  3],\n",
              "       [ 4,  5,  6,  7],\n",
              "       [ 8,  9, 10, 11],\n",
              "       [12, 13, 14, 15],\n",
              "       [16, 17, 18, 19],\n",
              "       [20, 21, 22, 23],\n",
              "       [24, 25, 26, 27],\n",
              "       [28, 29, 30, 31]])"
            ]
          },
          "metadata": {},
          "execution_count": 288
        }
      ]
    },
    {
      "cell_type": "code",
      "source": [
        "arr[[1,5,7,2]] # 0번 축의 1, 5, 7, 2번 요소 순서대로 나열 (특정 행 선택)"
      ],
      "metadata": {
        "colab": {
          "base_uri": "https://localhost:8080/"
        },
        "id": "mvs5DF2j1xUq",
        "outputId": "1787eda4-18ae-40af-d36d-9fdebb93f390"
      },
      "execution_count": 289,
      "outputs": [
        {
          "output_type": "execute_result",
          "data": {
            "text/plain": [
              "array([[ 4,  5,  6,  7],\n",
              "       [20, 21, 22, 23],\n",
              "       [28, 29, 30, 31],\n",
              "       [ 8,  9, 10, 11]])"
            ]
          },
          "metadata": {},
          "execution_count": 289
        }
      ]
    },
    {
      "cell_type": "code",
      "source": [
        "arr[[1,5,7,2], [0,3,1,2]] # 1, 5, 7, 2번 행들 선택 후 0번 행의 0번, 1번 행의 3번, 2번 행의 1번, 3번 행의 2번을 출력."
      ],
      "metadata": {
        "colab": {
          "base_uri": "https://localhost:8080/"
        },
        "id": "WRR9A-b02Mu1",
        "outputId": "99009146-4560-454c-8787-f71c7ff18104"
      },
      "execution_count": 297,
      "outputs": [
        {
          "output_type": "execute_result",
          "data": {
            "text/plain": [
              "array([ 4, 23, 29, 10])"
            ]
          },
          "metadata": {},
          "execution_count": 297
        }
      ]
    },
    {
      "cell_type": "code",
      "source": [
        "arr[[1, 5, 7, 2]][:, [0, 3, 1, 2]] # 특정 행, 모든 열 선택 후 -> 0, 3, 1, 2번 열을 순서대로 출력."
      ],
      "metadata": {
        "colab": {
          "base_uri": "https://localhost:8080/"
        },
        "id": "ugjbazS52Vin",
        "outputId": "ff520037-3ab6-43e2-96f6-b5e226c27bed"
      },
      "execution_count": 291,
      "outputs": [
        {
          "output_type": "execute_result",
          "data": {
            "text/plain": [
              "array([[ 4,  7,  5,  6],\n",
              "       [20, 23, 21, 22],\n",
              "       [28, 31, 29, 30],\n",
              "       [ 8, 11,  9, 10]])"
            ]
          },
          "metadata": {},
          "execution_count": 291
        }
      ]
    },
    {
      "cell_type": "code",
      "source": [
        "arr[[1, 5, 7, 2], [0, 3, 1, 2]] # 특정 행 선택 후 0번 열의 0번요소, 1번 행의 3번 요소, 2번 행의 1번 요소, 3번 행의 2번요소 선택\n",
        "arr[[1, 5, 7, 2], [0, 3, 1, 2]] = 0 # 그 요소들을 0으로 대체\n",
        "arr"
      ],
      "metadata": {
        "colab": {
          "base_uri": "https://localhost:8080/"
        },
        "id": "Q3U4iU732zhd",
        "outputId": "cddf8767-0aba-4eba-a8db-fa0518e07d2d"
      },
      "execution_count": 303,
      "outputs": [
        {
          "output_type": "execute_result",
          "data": {
            "text/plain": [
              "array([[ 0,  1,  2,  3],\n",
              "       [ 0,  5,  6,  7],\n",
              "       [ 8,  9,  0, 11],\n",
              "       [12, 13, 14, 15],\n",
              "       [16, 17, 18, 19],\n",
              "       [20, 21, 22,  0],\n",
              "       [24, 25, 26, 27],\n",
              "       [28,  0, 30, 31]])"
            ]
          },
          "metadata": {},
          "execution_count": 303
        }
      ]
    },
    {
      "cell_type": "markdown",
      "source": [
        "### 행렬 전치, 배열 축 바꾸기, 행렬 곱\n",
        "- 행렬 전치 (transpose)\n",
        "  - transpose() 메서드\n",
        "  - T 속성\n",
        "  - 행과 열이 바뀐 view를 반환.\n",
        "- 축 바꾸기 메서드 (A.swapaxes(0,1))\n",
        "  - 축을 바꾼 view를 반환.\n",
        "\n",
        "-> 배열을 변형하진 않고, 원본 배열을 참조하는 새로운 배열을 생성함.\n",
        "view에서 특정 요소를 수정하면 원본 배열의 해당 요소도 변경됨\n",
        "\n",
        "- 행렬의 곱\n",
        "  - np.dot(A,B)\n",
        "  - A.dot(B)"
      ],
      "metadata": {
        "id": "qExEJ2KD5VcP"
      }
    },
    {
      "cell_type": "code",
      "source": [
        "arr = np.arange(15).reshape((3,5))\n",
        "arr"
      ],
      "metadata": {
        "colab": {
          "base_uri": "https://localhost:8080/"
        },
        "id": "1Z_JHsd93b3g",
        "outputId": "0d129761-68e4-4f79-8da8-bf7b886a878b"
      },
      "execution_count": 306,
      "outputs": [
        {
          "output_type": "execute_result",
          "data": {
            "text/plain": [
              "array([[ 0,  1,  2,  3,  4],\n",
              "       [ 5,  6,  7,  8,  9],\n",
              "       [10, 11, 12, 13, 14]])"
            ]
          },
          "metadata": {},
          "execution_count": 306
        }
      ]
    },
    {
      "cell_type": "code",
      "source": [
        "arr.T # 전치.. (행<->열)"
      ],
      "metadata": {
        "colab": {
          "base_uri": "https://localhost:8080/"
        },
        "id": "R2GOogrd5rQH",
        "outputId": "3916908f-7bbb-4b42-9ba2-3a5d0916f82e"
      },
      "execution_count": 315,
      "outputs": [
        {
          "output_type": "execute_result",
          "data": {
            "text/plain": [
              "array([[ 1,  1,  1],\n",
              "       [ 1,  6, 11],\n",
              "       [ 2,  7, 12],\n",
              "       [ 3,  8, 13],\n",
              "       [ 4,  9, 14]])"
            ]
          },
          "metadata": {},
          "execution_count": 315
        }
      ]
    },
    {
      "cell_type": "code",
      "source": [
        "arr_t = arr.transpose() # 전치 (행<->열)\n",
        "arr_t, arr # 원본 배열 자체가 전치되진 않는다."
      ],
      "metadata": {
        "colab": {
          "base_uri": "https://localhost:8080/"
        },
        "id": "5ZMPa3vr5u6V",
        "outputId": "e1a201df-e1f1-46fe-b591-fff94654b4fc"
      },
      "execution_count": 316,
      "outputs": [
        {
          "output_type": "execute_result",
          "data": {
            "text/plain": [
              "(array([[ 1,  1,  1],\n",
              "        [ 1,  6, 11],\n",
              "        [ 2,  7, 12],\n",
              "        [ 3,  8, 13],\n",
              "        [ 4,  9, 14]]),\n",
              " array([[ 1,  1,  2,  3,  4],\n",
              "        [ 1,  6,  7,  8,  9],\n",
              "        [ 1, 11, 12, 13, 14]]))"
            ]
          },
          "metadata": {},
          "execution_count": 316
        }
      ]
    },
    {
      "cell_type": "code",
      "source": [
        "arr_t[0,:] = 1\n",
        "arr # transpose는 view (복사하지 않고 메모리 상에서 재배열된 형태를 보여줌. 원본 데이터와 연결)"
      ],
      "metadata": {
        "colab": {
          "base_uri": "https://localhost:8080/"
        },
        "id": "QWjbNANP50jW",
        "outputId": "fdbbd24e-cea4-4a8f-d1fe-362f6e6fed77"
      },
      "execution_count": 317,
      "outputs": [
        {
          "output_type": "execute_result",
          "data": {
            "text/plain": [
              "array([[ 1,  1,  2,  3,  4],\n",
              "       [ 1,  6,  7,  8,  9],\n",
              "       [ 1, 11, 12, 13, 14]])"
            ]
          },
          "metadata": {},
          "execution_count": 317
        }
      ]
    },
    {
      "cell_type": "code",
      "source": [
        "arr_swap = arr.swapaxes(0,1) # 축 바꾸기 (0번<->1번축)\n",
        "arr_swap[1,:] = 1\n",
        "arr_swap, arr"
      ],
      "metadata": {
        "colab": {
          "base_uri": "https://localhost:8080/"
        },
        "id": "N2_cA35D7X03",
        "outputId": "c5aa12f8-8b3b-4116-ca6c-1fefdf7e87f6"
      },
      "execution_count": 320,
      "outputs": [
        {
          "output_type": "execute_result",
          "data": {
            "text/plain": [
              "(array([[ 1,  1,  1],\n",
              "        [ 1,  1,  1],\n",
              "        [ 2,  7, 12],\n",
              "        [ 3,  8, 13],\n",
              "        [ 4,  9, 14]]),\n",
              " array([[ 1,  1,  2,  3,  4],\n",
              "        [ 1,  1,  7,  8,  9],\n",
              "        [ 1,  1, 12, 13, 14]]))"
            ]
          },
          "metadata": {},
          "execution_count": 320
        }
      ]
    },
    {
      "cell_type": "code",
      "source": [
        "# 행렬의 곱\n",
        "arr = np.array([[0, 1, 0], [1, 2, -2], [6, 3, 2], [-1, 0, -1], [1, 0, 1]])\n",
        "arr"
      ],
      "metadata": {
        "colab": {
          "base_uri": "https://localhost:8080/"
        },
        "id": "Bo4OgPwU8JMM",
        "outputId": "ec379f21-8d77-4736-e935-ccb39be38c3a"
      },
      "execution_count": 321,
      "outputs": [
        {
          "output_type": "execute_result",
          "data": {
            "text/plain": [
              "array([[ 0,  1,  0],\n",
              "       [ 1,  2, -2],\n",
              "       [ 6,  3,  2],\n",
              "       [-1,  0, -1],\n",
              "       [ 1,  0,  1]])"
            ]
          },
          "metadata": {},
          "execution_count": 321
        }
      ]
    },
    {
      "cell_type": "code",
      "source": [
        "np.dot(arr.T, arr) # 기존 arr과 전치된 arr를 곱함"
      ],
      "metadata": {
        "colab": {
          "base_uri": "https://localhost:8080/"
        },
        "id": "apRcfFdp8w6Z",
        "outputId": "f791398e-f718-4259-afb3-40e3cdb84ceb"
      },
      "execution_count": 323,
      "outputs": [
        {
          "output_type": "execute_result",
          "data": {
            "text/plain": [
              "array([[39, 20, 12],\n",
              "       [20, 14,  2],\n",
              "       [12,  2, 10]])"
            ]
          },
          "metadata": {},
          "execution_count": 323
        }
      ]
    },
    {
      "cell_type": "code",
      "source": [
        "arr.T.dot(arr) # arr.T에 arr를 곱함"
      ],
      "metadata": {
        "colab": {
          "base_uri": "https://localhost:8080/"
        },
        "id": "Btx_ByXo82-i",
        "outputId": "d91ed6fe-ab4f-436a-9e31-691bf05d6a03"
      },
      "execution_count": 324,
      "outputs": [
        {
          "output_type": "execute_result",
          "data": {
            "text/plain": [
              "array([[39, 20, 12],\n",
              "       [20, 14,  2],\n",
              "       [12,  2, 10]])"
            ]
          },
          "metadata": {},
          "execution_count": 324
        }
      ]
    },
    {
      "cell_type": "markdown",
      "source": [
        "## 난수 생성\n",
        "### numpy.random 모듈\n",
        "- 파이썬 random 모듈을 발전시켜서, 효과적으로 넘파이 배열 난수를 생성\n",
        "  ex. 표준 정규분포를 따르는 난수 생성\n",
        "  - np.random.standard_normal(size=(4,4))\n",
        "- 같은 수의 난수를 생성시킬 때 random 모듈에 비해 훨씬 효율적\n",
        "\n",
        "- 난수 generator\n",
        "  - 난수 생성은 엄밀히 말하면 완전한 random은 아님\n",
        "  - 특정 seed를 따라서 생성 -> 고정해두면 randomness가 포함된 코드를 여러번 실행해도 같은 결과를 얻음.\n",
        "    ex. rng = np.random.default_rang(seed=10000)\n",
        "  - 난수 generator는 이러한 seed를 활용하여 난수를 생성할 수 있게 함\n",
        "\n",
        "  - 다양한 분포 생성 가능\n",
        "  rng.chisquare(df=4, size=4) ????"
      ],
      "metadata": {
        "id": "8_UKznvU9JgD"
      }
    },
    {
      "cell_type": "code",
      "source": [
        "samples = np.random.standard_normal(size=(4,4))\n",
        "samples"
      ],
      "metadata": {
        "colab": {
          "base_uri": "https://localhost:8080/"
        },
        "id": "AnIlkgdz88Ut",
        "outputId": "5897bb10-ba82-477f-b7cb-b24ca033823e"
      },
      "execution_count": 325,
      "outputs": [
        {
          "output_type": "execute_result",
          "data": {
            "text/plain": [
              "array([[-0.78209005,  0.20131857,  1.6807287 , -1.12170327],\n",
              "       [ 0.22165872, -1.05364882, -0.03723182, -0.43398426],\n",
              "       [ 0.49533942, -0.61892183, -0.4960598 ,  0.30384219],\n",
              "       [ 0.53485156, -1.19780628,  0.50320422, -0.01892751]])"
            ]
          },
          "metadata": {},
          "execution_count": 325
        }
      ]
    },
    {
      "cell_type": "code",
      "source": [
        "# numpy 효율성...\n",
        "from random import normalvariate\n",
        "N = 1_000_000\n",
        "%timeit samples = [normalvariate(0, 1) for _ in range(N)]\n",
        "%timeit np.random.standard_normal(N)"
      ],
      "metadata": {
        "colab": {
          "base_uri": "https://localhost:8080/"
        },
        "id": "5-oXw05o_O0N",
        "outputId": "10850a95-4fcc-4a2f-80ad-875832c27539"
      },
      "execution_count": 326,
      "outputs": [
        {
          "output_type": "stream",
          "name": "stdout",
          "text": [
            "847 ms ± 17.5 ms per loop (mean ± std. dev. of 7 runs, 1 loop each)\n",
            "48 ms ± 15.7 ms per loop (mean ± std. dev. of 7 runs, 10 loops each)\n"
          ]
        }
      ]
    },
    {
      "cell_type": "code",
      "source": [
        "rng = np.random.default_rng(seed=12345) # generator 객체\n",
        "data = rng.standard_normal((2, 3)) # 표준정규분포 샘플링하는 메소드 (몇바이몇 인풋값)\n",
        "data"
      ],
      "metadata": {
        "colab": {
          "base_uri": "https://localhost:8080/"
        },
        "id": "Uv4FfRWx_Wms",
        "outputId": "36ff01b0-bc82-439c-aed2-c66cc4a8be28"
      },
      "execution_count": 329,
      "outputs": [
        {
          "output_type": "execute_result",
          "data": {
            "text/plain": [
              "array([[-1.42382504,  1.26372846, -0.87066174],\n",
              "       [-0.25917323, -0.07534331, -0.74088465]])"
            ]
          },
          "metadata": {},
          "execution_count": 329
        }
      ]
    },
    {
      "cell_type": "code",
      "source": [
        "data = rng.standard_normal((2, 3))\n",
        "data"
      ],
      "metadata": {
        "colab": {
          "base_uri": "https://localhost:8080/"
        },
        "id": "Nb3ToTEK_mUx",
        "outputId": "1053e2b4-150d-44d1-89c6-0f54567a44bb"
      },
      "execution_count": 332,
      "outputs": [
        {
          "output_type": "execute_result",
          "data": {
            "text/plain": [
              "array([[ 0.57585751,  1.39897899,  1.32229806],\n",
              "       [-0.29969852,  0.90291934, -1.62158273]])"
            ]
          },
          "metadata": {},
          "execution_count": 332
        }
      ]
    },
    {
      "cell_type": "code",
      "source": [
        "rng = np.random.default_rng(seed=12345) # generator 객체, seed 고정\n",
        "data = rng.standard_normal((2,3))\n",
        "data"
      ],
      "metadata": {
        "colab": {
          "base_uri": "https://localhost:8080/"
        },
        "id": "dUZ6BBFp_wo0",
        "outputId": "73f5e93e-4924-4b04-f794-6e38be5bc874"
      },
      "execution_count": 334,
      "outputs": [
        {
          "output_type": "execute_result",
          "data": {
            "text/plain": [
              "array([[-1.42382504,  1.26372846, -0.87066174],\n",
              "       [-0.25917323, -0.07534331, -0.74088465]])"
            ]
          },
          "metadata": {},
          "execution_count": 334
        }
      ]
    },
    {
      "cell_type": "code",
      "source": [
        "type(rng)"
      ],
      "metadata": {
        "colab": {
          "base_uri": "https://localhost:8080/"
        },
        "id": "AClaJzwB_3Nf",
        "outputId": "0fdd330d-7bd9-4511-d57a-f162eb832a91"
      },
      "execution_count": 335,
      "outputs": [
        {
          "output_type": "execute_result",
          "data": {
            "text/plain": [
              "numpy.random._generator.Generator"
            ]
          },
          "metadata": {},
          "execution_count": 335
        }
      ]
    },
    {
      "cell_type": "code",
      "source": [
        "# 이게 뭔데........\n",
        "rng.chisquare(df=[1,25,50,100], size=4)"
      ],
      "metadata": {
        "colab": {
          "base_uri": "https://localhost:8080/"
        },
        "id": "118T923y_9Yt",
        "outputId": "f37fe838-0a85-469b-a8b6-4c9fe40d5590"
      },
      "execution_count": 341,
      "outputs": [
        {
          "output_type": "execute_result",
          "data": {
            "text/plain": [
              "array([1.33153476e-02, 3.11913753e+01, 4.77786456e+01, 8.15734035e+01])"
            ]
          },
          "metadata": {},
          "execution_count": 341
        }
      ]
    },
    {
      "cell_type": "code",
      "source": [
        "rng.binomial(10,0.5,3)"
      ],
      "metadata": {
        "colab": {
          "base_uri": "https://localhost:8080/"
        },
        "id": "mg1dbY9D__-H",
        "outputId": "810aaeb5-d39c-4462-815a-dc3fa0967244"
      },
      "execution_count": 340,
      "outputs": [
        {
          "output_type": "execute_result",
          "data": {
            "text/plain": [
              "array([5, 7, 6])"
            ]
          },
          "metadata": {},
          "execution_count": 340
        }
      ]
    },
    {
      "cell_type": "markdown",
      "source": [
        "## 유니버설(universal) 함수\n",
        "- 다양한 종류의 유니버설 함수\n",
        "- 유니버설 함수란 넘파이 배열의 원소별 연산을 수행하는 넘파이 함수\n",
        "  - sqrt, exp, maximum, modf 등등..\n",
        "  - out 매개변수를 통해 기존 배열로 결과 할당 가능"
      ],
      "metadata": {
        "id": "DxkURNHHAj4p"
      }
    },
    {
      "cell_type": "code",
      "source": [
        "arr = np.arange(10)\n",
        "arr, np.sqrt(arr) # 원소별로 적용 (별개로), 루트.."
      ],
      "metadata": {
        "colab": {
          "base_uri": "https://localhost:8080/"
        },
        "id": "a37dgTX8Ackb",
        "outputId": "849c7e35-8a1e-4f52-959b-1eb3a85458a8"
      },
      "execution_count": 346,
      "outputs": [
        {
          "output_type": "execute_result",
          "data": {
            "text/plain": [
              "(array([0, 1, 2, 3, 4, 5, 6, 7, 8, 9]),\n",
              " array([0.        , 1.        , 1.41421356, 1.73205081, 2.        ,\n",
              "        2.23606798, 2.44948974, 2.64575131, 2.82842712, 3.        ]))"
            ]
          },
          "metadata": {},
          "execution_count": 346
        }
      ]
    },
    {
      "cell_type": "code",
      "source": [
        "np.exp(arr) # 지수, e^0, e^1, e^2..."
      ],
      "metadata": {
        "colab": {
          "base_uri": "https://localhost:8080/"
        },
        "id": "uiLH3f4RA2d9",
        "outputId": "678ee87c-3c32-4feb-bc6b-ec19dd1c9912"
      },
      "execution_count": 347,
      "outputs": [
        {
          "output_type": "execute_result",
          "data": {
            "text/plain": [
              "array([1.00000000e+00, 2.71828183e+00, 7.38905610e+00, 2.00855369e+01,\n",
              "       5.45981500e+01, 1.48413159e+02, 4.03428793e+02, 1.09663316e+03,\n",
              "       2.98095799e+03, 8.10308393e+03])"
            ]
          },
          "metadata": {},
          "execution_count": 347
        }
      ]
    },
    {
      "cell_type": "code",
      "source": [
        "x = rng.standard_normal(8) # rng = np.random.default_rng(seed=12345)로, generator 객체\n",
        "y = rng.standard_normal(8)\n",
        "np.maximum(x, y) # x와 y 각 요소 중 더 큰 값 반환"
      ],
      "metadata": {
        "colab": {
          "base_uri": "https://localhost:8080/"
        },
        "id": "g1FXv89oBGpV",
        "outputId": "7955f5d9-f9c4-406b-d275-4bd301904e3e"
      },
      "execution_count": 349,
      "outputs": [
        {
          "output_type": "execute_result",
          "data": {
            "text/plain": [
              "array([0.53025239, 0.53672097, 0.61835001, 1.34707776, 0.30003095,\n",
              "       0.0709146 , 0.43365454, 0.27748366])"
            ]
          },
          "metadata": {},
          "execution_count": 349
        }
      ]
    },
    {
      "cell_type": "code",
      "source": [
        "arr = rng.standard_normal(7) * 5 # 브로드캐스팅 특징에 따라 모든 요소에 *5 적용\n",
        "remainder, whole_part = np.modf(arr) # 각 요소별로 소수, 정수 부분 반환\n",
        "arr, remainder, whole_part"
      ],
      "metadata": {
        "colab": {
          "base_uri": "https://localhost:8080/"
        },
        "id": "yRUyV1a_ClgS",
        "outputId": "d0cd7d67-d0b5-4649-ead0-cc85b24fe077"
      },
      "execution_count": 355,
      "outputs": [
        {
          "output_type": "execute_result",
          "data": {
            "text/plain": [
              "(array([-0.30952343, -1.79739824, -3.74321992, -4.82739454,  1.80017329,\n",
              "        -1.22276266, -9.97928306]),\n",
              " array([-0.30952343, -0.79739824, -0.74321992, -0.82739454,  0.80017329,\n",
              "        -0.22276266, -0.97928306]),\n",
              " array([-0., -1., -3., -4.,  1., -1., -9.]))"
            ]
          },
          "metadata": {},
          "execution_count": 355
        }
      ]
    },
    {
      "cell_type": "code",
      "source": [
        "arr = np.zeros_like(arr)\n",
        "np.add(arr, 1)\n",
        "arr # 원본 배열 수정되지 않음"
      ],
      "metadata": {
        "colab": {
          "base_uri": "https://localhost:8080/"
        },
        "id": "_O0WGIxTDEVI",
        "outputId": "dcd0f59c-6645-4729-ace2-ba0b8f4f5b4e"
      },
      "execution_count": 357,
      "outputs": [
        {
          "output_type": "execute_result",
          "data": {
            "text/plain": [
              "array([0., 0., 0., 0., 0., 0., 0.])"
            ]
          },
          "metadata": {},
          "execution_count": 357
        }
      ]
    },
    {
      "cell_type": "code",
      "source": [
        "np.add(arr, 1, out=arr) # out 옵션 사용해서 arr에 반환\n",
        "arr"
      ],
      "metadata": {
        "colab": {
          "base_uri": "https://localhost:8080/"
        },
        "id": "aly3QiOJDVS9",
        "outputId": "0d8ec8f1-a41a-4a82-efe3-71c9d1dbd7cd"
      },
      "execution_count": 359,
      "outputs": [
        {
          "output_type": "execute_result",
          "data": {
            "text/plain": [
              "array([2., 2., 2., 2., 2., 2., 2.])"
            ]
          },
          "metadata": {},
          "execution_count": 359
        }
      ]
    },
    {
      "cell_type": "code",
      "source": [
        "# numpy2 p.8\n",
        "#1\n",
        "A = np.array([3, 6, 0.7, np.NaN, np.inf]) # 배열 생성\n",
        "print(np.isnan(A)) # 각 원소가 NaN인지 아닌지 불리언 배열 반환\n",
        "print(np.isinf(A)) # 각 원소가 inf인지 아닌지 불링너 배열 반환\n",
        "A[np.isnan(A) | np.isinf(A)] = 0\n",
        "A"
      ],
      "metadata": {
        "colab": {
          "base_uri": "https://localhost:8080/"
        },
        "id": "xXXrkHYLEEGF",
        "outputId": "6f1d848e-8a6c-4c79-dff2-dca1daef8974"
      },
      "execution_count": 361,
      "outputs": [
        {
          "output_type": "stream",
          "name": "stdout",
          "text": [
            "[False False False  True False]\n",
            "[False False False False  True]\n"
          ]
        },
        {
          "output_type": "execute_result",
          "data": {
            "text/plain": [
              "array([3. , 6. , 0.7, 0. , 0. ])"
            ]
          },
          "metadata": {},
          "execution_count": 361
        }
      ]
    },
    {
      "cell_type": "code",
      "source": [
        "#2\n",
        "B = np.array([np.pi, np.pi/2, np.pi/3])\n",
        "C = np.cos(B)\n",
        "S = np.sin(B)\n",
        "np.maximum(C, S, out=B)"
      ],
      "metadata": {
        "colab": {
          "base_uri": "https://localhost:8080/"
        },
        "id": "-oovBc9WEvnk",
        "outputId": "b18afb95-be24-4617-a0bf-2ed7fcb8cab5"
      },
      "execution_count": 362,
      "outputs": [
        {
          "output_type": "execute_result",
          "data": {
            "text/plain": [
              "array([1.22464680e-16, 1.00000000e+00, 8.66025404e-01])"
            ]
          },
          "metadata": {},
          "execution_count": 362
        }
      ]
    },
    {
      "cell_type": "markdown",
      "source": [
        "## 배열을 이용한 배열 기반 프로그래밍\n",
        "### 벡터화\n",
        "- 반복문을 제거하여 병렬적으로 연산이 가능하도록 하는 기법\n",
        "- 넘파이 배열 활용시 반복문을 없애는 벡터화 및 브로드캐스팅을 통해 연산 속도를 비약적으로 끌어올릴 수 있음\n",
        "\n",
        "### 넘파이 배열/함수 활용한 다양한 예제\n",
        "- numpy.meshgrid\n",
        "  - 격자 만드는 함수 (각 축의 범위를 파라미터로 받음)\n",
        "- **조건부 표현하기 (np.where)**\n",
        "  - np.where 활용하여 벡터화 가능\n",
        "  - np.where은 특히 데이터 정제에서 다른 배열에 기반해 새로운 배열을 생성하기 위해 자주 쓰임\n",
        "- 수학 메서드, 통계 메서드\n",
        "  - 합, 평균, 표준편차, 누적합"
      ],
      "metadata": {
        "id": "xvv3AxPaF0hd"
      }
    },
    {
      "cell_type": "code",
      "source": [
        "points = np.arange(-5, 5, 0.01) # -5 ~ 5까지의 범위에서0.01씩 증가하는 배열들\n",
        "points, points.size"
      ],
      "metadata": {
        "colab": {
          "base_uri": "https://localhost:8080/"
        },
        "id": "iWPm_3lGHSqb",
        "outputId": "c2547986-89d5-4d39-c62c-edba0401b33f"
      },
      "execution_count": 366,
      "outputs": [
        {
          "output_type": "execute_result",
          "data": {
            "text/plain": [
              "(array([-5.0000000e+00, -4.9900000e+00, -4.9800000e+00, -4.9700000e+00,\n",
              "        -4.9600000e+00, -4.9500000e+00, -4.9400000e+00, -4.9300000e+00,\n",
              "        -4.9200000e+00, -4.9100000e+00, -4.9000000e+00, -4.8900000e+00,\n",
              "        -4.8800000e+00, -4.8700000e+00, -4.8600000e+00, -4.8500000e+00,\n",
              "        -4.8400000e+00, -4.8300000e+00, -4.8200000e+00, -4.8100000e+00,\n",
              "        -4.8000000e+00, -4.7900000e+00, -4.7800000e+00, -4.7700000e+00,\n",
              "        -4.7600000e+00, -4.7500000e+00, -4.7400000e+00, -4.7300000e+00,\n",
              "        -4.7200000e+00, -4.7100000e+00, -4.7000000e+00, -4.6900000e+00,\n",
              "        -4.6800000e+00, -4.6700000e+00, -4.6600000e+00, -4.6500000e+00,\n",
              "        -4.6400000e+00, -4.6300000e+00, -4.6200000e+00, -4.6100000e+00,\n",
              "        -4.6000000e+00, -4.5900000e+00, -4.5800000e+00, -4.5700000e+00,\n",
              "        -4.5600000e+00, -4.5500000e+00, -4.5400000e+00, -4.5300000e+00,\n",
              "        -4.5200000e+00, -4.5100000e+00, -4.5000000e+00, -4.4900000e+00,\n",
              "        -4.4800000e+00, -4.4700000e+00, -4.4600000e+00, -4.4500000e+00,\n",
              "        -4.4400000e+00, -4.4300000e+00, -4.4200000e+00, -4.4100000e+00,\n",
              "        -4.4000000e+00, -4.3900000e+00, -4.3800000e+00, -4.3700000e+00,\n",
              "        -4.3600000e+00, -4.3500000e+00, -4.3400000e+00, -4.3300000e+00,\n",
              "        -4.3200000e+00, -4.3100000e+00, -4.3000000e+00, -4.2900000e+00,\n",
              "        -4.2800000e+00, -4.2700000e+00, -4.2600000e+00, -4.2500000e+00,\n",
              "        -4.2400000e+00, -4.2300000e+00, -4.2200000e+00, -4.2100000e+00,\n",
              "        -4.2000000e+00, -4.1900000e+00, -4.1800000e+00, -4.1700000e+00,\n",
              "        -4.1600000e+00, -4.1500000e+00, -4.1400000e+00, -4.1300000e+00,\n",
              "        -4.1200000e+00, -4.1100000e+00, -4.1000000e+00, -4.0900000e+00,\n",
              "        -4.0800000e+00, -4.0700000e+00, -4.0600000e+00, -4.0500000e+00,\n",
              "        -4.0400000e+00, -4.0300000e+00, -4.0200000e+00, -4.0100000e+00,\n",
              "        -4.0000000e+00, -3.9900000e+00, -3.9800000e+00, -3.9700000e+00,\n",
              "        -3.9600000e+00, -3.9500000e+00, -3.9400000e+00, -3.9300000e+00,\n",
              "        -3.9200000e+00, -3.9100000e+00, -3.9000000e+00, -3.8900000e+00,\n",
              "        -3.8800000e+00, -3.8700000e+00, -3.8600000e+00, -3.8500000e+00,\n",
              "        -3.8400000e+00, -3.8300000e+00, -3.8200000e+00, -3.8100000e+00,\n",
              "        -3.8000000e+00, -3.7900000e+00, -3.7800000e+00, -3.7700000e+00,\n",
              "        -3.7600000e+00, -3.7500000e+00, -3.7400000e+00, -3.7300000e+00,\n",
              "        -3.7200000e+00, -3.7100000e+00, -3.7000000e+00, -3.6900000e+00,\n",
              "        -3.6800000e+00, -3.6700000e+00, -3.6600000e+00, -3.6500000e+00,\n",
              "        -3.6400000e+00, -3.6300000e+00, -3.6200000e+00, -3.6100000e+00,\n",
              "        -3.6000000e+00, -3.5900000e+00, -3.5800000e+00, -3.5700000e+00,\n",
              "        -3.5600000e+00, -3.5500000e+00, -3.5400000e+00, -3.5300000e+00,\n",
              "        -3.5200000e+00, -3.5100000e+00, -3.5000000e+00, -3.4900000e+00,\n",
              "        -3.4800000e+00, -3.4700000e+00, -3.4600000e+00, -3.4500000e+00,\n",
              "        -3.4400000e+00, -3.4300000e+00, -3.4200000e+00, -3.4100000e+00,\n",
              "        -3.4000000e+00, -3.3900000e+00, -3.3800000e+00, -3.3700000e+00,\n",
              "        -3.3600000e+00, -3.3500000e+00, -3.3400000e+00, -3.3300000e+00,\n",
              "        -3.3200000e+00, -3.3100000e+00, -3.3000000e+00, -3.2900000e+00,\n",
              "        -3.2800000e+00, -3.2700000e+00, -3.2600000e+00, -3.2500000e+00,\n",
              "        -3.2400000e+00, -3.2300000e+00, -3.2200000e+00, -3.2100000e+00,\n",
              "        -3.2000000e+00, -3.1900000e+00, -3.1800000e+00, -3.1700000e+00,\n",
              "        -3.1600000e+00, -3.1500000e+00, -3.1400000e+00, -3.1300000e+00,\n",
              "        -3.1200000e+00, -3.1100000e+00, -3.1000000e+00, -3.0900000e+00,\n",
              "        -3.0800000e+00, -3.0700000e+00, -3.0600000e+00, -3.0500000e+00,\n",
              "        -3.0400000e+00, -3.0300000e+00, -3.0200000e+00, -3.0100000e+00,\n",
              "        -3.0000000e+00, -2.9900000e+00, -2.9800000e+00, -2.9700000e+00,\n",
              "        -2.9600000e+00, -2.9500000e+00, -2.9400000e+00, -2.9300000e+00,\n",
              "        -2.9200000e+00, -2.9100000e+00, -2.9000000e+00, -2.8900000e+00,\n",
              "        -2.8800000e+00, -2.8700000e+00, -2.8600000e+00, -2.8500000e+00,\n",
              "        -2.8400000e+00, -2.8300000e+00, -2.8200000e+00, -2.8100000e+00,\n",
              "        -2.8000000e+00, -2.7900000e+00, -2.7800000e+00, -2.7700000e+00,\n",
              "        -2.7600000e+00, -2.7500000e+00, -2.7400000e+00, -2.7300000e+00,\n",
              "        -2.7200000e+00, -2.7100000e+00, -2.7000000e+00, -2.6900000e+00,\n",
              "        -2.6800000e+00, -2.6700000e+00, -2.6600000e+00, -2.6500000e+00,\n",
              "        -2.6400000e+00, -2.6300000e+00, -2.6200000e+00, -2.6100000e+00,\n",
              "        -2.6000000e+00, -2.5900000e+00, -2.5800000e+00, -2.5700000e+00,\n",
              "        -2.5600000e+00, -2.5500000e+00, -2.5400000e+00, -2.5300000e+00,\n",
              "        -2.5200000e+00, -2.5100000e+00, -2.5000000e+00, -2.4900000e+00,\n",
              "        -2.4800000e+00, -2.4700000e+00, -2.4600000e+00, -2.4500000e+00,\n",
              "        -2.4400000e+00, -2.4300000e+00, -2.4200000e+00, -2.4100000e+00,\n",
              "        -2.4000000e+00, -2.3900000e+00, -2.3800000e+00, -2.3700000e+00,\n",
              "        -2.3600000e+00, -2.3500000e+00, -2.3400000e+00, -2.3300000e+00,\n",
              "        -2.3200000e+00, -2.3100000e+00, -2.3000000e+00, -2.2900000e+00,\n",
              "        -2.2800000e+00, -2.2700000e+00, -2.2600000e+00, -2.2500000e+00,\n",
              "        -2.2400000e+00, -2.2300000e+00, -2.2200000e+00, -2.2100000e+00,\n",
              "        -2.2000000e+00, -2.1900000e+00, -2.1800000e+00, -2.1700000e+00,\n",
              "        -2.1600000e+00, -2.1500000e+00, -2.1400000e+00, -2.1300000e+00,\n",
              "        -2.1200000e+00, -2.1100000e+00, -2.1000000e+00, -2.0900000e+00,\n",
              "        -2.0800000e+00, -2.0700000e+00, -2.0600000e+00, -2.0500000e+00,\n",
              "        -2.0400000e+00, -2.0300000e+00, -2.0200000e+00, -2.0100000e+00,\n",
              "        -2.0000000e+00, -1.9900000e+00, -1.9800000e+00, -1.9700000e+00,\n",
              "        -1.9600000e+00, -1.9500000e+00, -1.9400000e+00, -1.9300000e+00,\n",
              "        -1.9200000e+00, -1.9100000e+00, -1.9000000e+00, -1.8900000e+00,\n",
              "        -1.8800000e+00, -1.8700000e+00, -1.8600000e+00, -1.8500000e+00,\n",
              "        -1.8400000e+00, -1.8300000e+00, -1.8200000e+00, -1.8100000e+00,\n",
              "        -1.8000000e+00, -1.7900000e+00, -1.7800000e+00, -1.7700000e+00,\n",
              "        -1.7600000e+00, -1.7500000e+00, -1.7400000e+00, -1.7300000e+00,\n",
              "        -1.7200000e+00, -1.7100000e+00, -1.7000000e+00, -1.6900000e+00,\n",
              "        -1.6800000e+00, -1.6700000e+00, -1.6600000e+00, -1.6500000e+00,\n",
              "        -1.6400000e+00, -1.6300000e+00, -1.6200000e+00, -1.6100000e+00,\n",
              "        -1.6000000e+00, -1.5900000e+00, -1.5800000e+00, -1.5700000e+00,\n",
              "        -1.5600000e+00, -1.5500000e+00, -1.5400000e+00, -1.5300000e+00,\n",
              "        -1.5200000e+00, -1.5100000e+00, -1.5000000e+00, -1.4900000e+00,\n",
              "        -1.4800000e+00, -1.4700000e+00, -1.4600000e+00, -1.4500000e+00,\n",
              "        -1.4400000e+00, -1.4300000e+00, -1.4200000e+00, -1.4100000e+00,\n",
              "        -1.4000000e+00, -1.3900000e+00, -1.3800000e+00, -1.3700000e+00,\n",
              "        -1.3600000e+00, -1.3500000e+00, -1.3400000e+00, -1.3300000e+00,\n",
              "        -1.3200000e+00, -1.3100000e+00, -1.3000000e+00, -1.2900000e+00,\n",
              "        -1.2800000e+00, -1.2700000e+00, -1.2600000e+00, -1.2500000e+00,\n",
              "        -1.2400000e+00, -1.2300000e+00, -1.2200000e+00, -1.2100000e+00,\n",
              "        -1.2000000e+00, -1.1900000e+00, -1.1800000e+00, -1.1700000e+00,\n",
              "        -1.1600000e+00, -1.1500000e+00, -1.1400000e+00, -1.1300000e+00,\n",
              "        -1.1200000e+00, -1.1100000e+00, -1.1000000e+00, -1.0900000e+00,\n",
              "        -1.0800000e+00, -1.0700000e+00, -1.0600000e+00, -1.0500000e+00,\n",
              "        -1.0400000e+00, -1.0300000e+00, -1.0200000e+00, -1.0100000e+00,\n",
              "        -1.0000000e+00, -9.9000000e-01, -9.8000000e-01, -9.7000000e-01,\n",
              "        -9.6000000e-01, -9.5000000e-01, -9.4000000e-01, -9.3000000e-01,\n",
              "        -9.2000000e-01, -9.1000000e-01, -9.0000000e-01, -8.9000000e-01,\n",
              "        -8.8000000e-01, -8.7000000e-01, -8.6000000e-01, -8.5000000e-01,\n",
              "        -8.4000000e-01, -8.3000000e-01, -8.2000000e-01, -8.1000000e-01,\n",
              "        -8.0000000e-01, -7.9000000e-01, -7.8000000e-01, -7.7000000e-01,\n",
              "        -7.6000000e-01, -7.5000000e-01, -7.4000000e-01, -7.3000000e-01,\n",
              "        -7.2000000e-01, -7.1000000e-01, -7.0000000e-01, -6.9000000e-01,\n",
              "        -6.8000000e-01, -6.7000000e-01, -6.6000000e-01, -6.5000000e-01,\n",
              "        -6.4000000e-01, -6.3000000e-01, -6.2000000e-01, -6.1000000e-01,\n",
              "        -6.0000000e-01, -5.9000000e-01, -5.8000000e-01, -5.7000000e-01,\n",
              "        -5.6000000e-01, -5.5000000e-01, -5.4000000e-01, -5.3000000e-01,\n",
              "        -5.2000000e-01, -5.1000000e-01, -5.0000000e-01, -4.9000000e-01,\n",
              "        -4.8000000e-01, -4.7000000e-01, -4.6000000e-01, -4.5000000e-01,\n",
              "        -4.4000000e-01, -4.3000000e-01, -4.2000000e-01, -4.1000000e-01,\n",
              "        -4.0000000e-01, -3.9000000e-01, -3.8000000e-01, -3.7000000e-01,\n",
              "        -3.6000000e-01, -3.5000000e-01, -3.4000000e-01, -3.3000000e-01,\n",
              "        -3.2000000e-01, -3.1000000e-01, -3.0000000e-01, -2.9000000e-01,\n",
              "        -2.8000000e-01, -2.7000000e-01, -2.6000000e-01, -2.5000000e-01,\n",
              "        -2.4000000e-01, -2.3000000e-01, -2.2000000e-01, -2.1000000e-01,\n",
              "        -2.0000000e-01, -1.9000000e-01, -1.8000000e-01, -1.7000000e-01,\n",
              "        -1.6000000e-01, -1.5000000e-01, -1.4000000e-01, -1.3000000e-01,\n",
              "        -1.2000000e-01, -1.1000000e-01, -1.0000000e-01, -9.0000000e-02,\n",
              "        -8.0000000e-02, -7.0000000e-02, -6.0000000e-02, -5.0000000e-02,\n",
              "        -4.0000000e-02, -3.0000000e-02, -2.0000000e-02, -1.0000000e-02,\n",
              "        -1.0658141e-13,  1.0000000e-02,  2.0000000e-02,  3.0000000e-02,\n",
              "         4.0000000e-02,  5.0000000e-02,  6.0000000e-02,  7.0000000e-02,\n",
              "         8.0000000e-02,  9.0000000e-02,  1.0000000e-01,  1.1000000e-01,\n",
              "         1.2000000e-01,  1.3000000e-01,  1.4000000e-01,  1.5000000e-01,\n",
              "         1.6000000e-01,  1.7000000e-01,  1.8000000e-01,  1.9000000e-01,\n",
              "         2.0000000e-01,  2.1000000e-01,  2.2000000e-01,  2.3000000e-01,\n",
              "         2.4000000e-01,  2.5000000e-01,  2.6000000e-01,  2.7000000e-01,\n",
              "         2.8000000e-01,  2.9000000e-01,  3.0000000e-01,  3.1000000e-01,\n",
              "         3.2000000e-01,  3.3000000e-01,  3.4000000e-01,  3.5000000e-01,\n",
              "         3.6000000e-01,  3.7000000e-01,  3.8000000e-01,  3.9000000e-01,\n",
              "         4.0000000e-01,  4.1000000e-01,  4.2000000e-01,  4.3000000e-01,\n",
              "         4.4000000e-01,  4.5000000e-01,  4.6000000e-01,  4.7000000e-01,\n",
              "         4.8000000e-01,  4.9000000e-01,  5.0000000e-01,  5.1000000e-01,\n",
              "         5.2000000e-01,  5.3000000e-01,  5.4000000e-01,  5.5000000e-01,\n",
              "         5.6000000e-01,  5.7000000e-01,  5.8000000e-01,  5.9000000e-01,\n",
              "         6.0000000e-01,  6.1000000e-01,  6.2000000e-01,  6.3000000e-01,\n",
              "         6.4000000e-01,  6.5000000e-01,  6.6000000e-01,  6.7000000e-01,\n",
              "         6.8000000e-01,  6.9000000e-01,  7.0000000e-01,  7.1000000e-01,\n",
              "         7.2000000e-01,  7.3000000e-01,  7.4000000e-01,  7.5000000e-01,\n",
              "         7.6000000e-01,  7.7000000e-01,  7.8000000e-01,  7.9000000e-01,\n",
              "         8.0000000e-01,  8.1000000e-01,  8.2000000e-01,  8.3000000e-01,\n",
              "         8.4000000e-01,  8.5000000e-01,  8.6000000e-01,  8.7000000e-01,\n",
              "         8.8000000e-01,  8.9000000e-01,  9.0000000e-01,  9.1000000e-01,\n",
              "         9.2000000e-01,  9.3000000e-01,  9.4000000e-01,  9.5000000e-01,\n",
              "         9.6000000e-01,  9.7000000e-01,  9.8000000e-01,  9.9000000e-01,\n",
              "         1.0000000e+00,  1.0100000e+00,  1.0200000e+00,  1.0300000e+00,\n",
              "         1.0400000e+00,  1.0500000e+00,  1.0600000e+00,  1.0700000e+00,\n",
              "         1.0800000e+00,  1.0900000e+00,  1.1000000e+00,  1.1100000e+00,\n",
              "         1.1200000e+00,  1.1300000e+00,  1.1400000e+00,  1.1500000e+00,\n",
              "         1.1600000e+00,  1.1700000e+00,  1.1800000e+00,  1.1900000e+00,\n",
              "         1.2000000e+00,  1.2100000e+00,  1.2200000e+00,  1.2300000e+00,\n",
              "         1.2400000e+00,  1.2500000e+00,  1.2600000e+00,  1.2700000e+00,\n",
              "         1.2800000e+00,  1.2900000e+00,  1.3000000e+00,  1.3100000e+00,\n",
              "         1.3200000e+00,  1.3300000e+00,  1.3400000e+00,  1.3500000e+00,\n",
              "         1.3600000e+00,  1.3700000e+00,  1.3800000e+00,  1.3900000e+00,\n",
              "         1.4000000e+00,  1.4100000e+00,  1.4200000e+00,  1.4300000e+00,\n",
              "         1.4400000e+00,  1.4500000e+00,  1.4600000e+00,  1.4700000e+00,\n",
              "         1.4800000e+00,  1.4900000e+00,  1.5000000e+00,  1.5100000e+00,\n",
              "         1.5200000e+00,  1.5300000e+00,  1.5400000e+00,  1.5500000e+00,\n",
              "         1.5600000e+00,  1.5700000e+00,  1.5800000e+00,  1.5900000e+00,\n",
              "         1.6000000e+00,  1.6100000e+00,  1.6200000e+00,  1.6300000e+00,\n",
              "         1.6400000e+00,  1.6500000e+00,  1.6600000e+00,  1.6700000e+00,\n",
              "         1.6800000e+00,  1.6900000e+00,  1.7000000e+00,  1.7100000e+00,\n",
              "         1.7200000e+00,  1.7300000e+00,  1.7400000e+00,  1.7500000e+00,\n",
              "         1.7600000e+00,  1.7700000e+00,  1.7800000e+00,  1.7900000e+00,\n",
              "         1.8000000e+00,  1.8100000e+00,  1.8200000e+00,  1.8300000e+00,\n",
              "         1.8400000e+00,  1.8500000e+00,  1.8600000e+00,  1.8700000e+00,\n",
              "         1.8800000e+00,  1.8900000e+00,  1.9000000e+00,  1.9100000e+00,\n",
              "         1.9200000e+00,  1.9300000e+00,  1.9400000e+00,  1.9500000e+00,\n",
              "         1.9600000e+00,  1.9700000e+00,  1.9800000e+00,  1.9900000e+00,\n",
              "         2.0000000e+00,  2.0100000e+00,  2.0200000e+00,  2.0300000e+00,\n",
              "         2.0400000e+00,  2.0500000e+00,  2.0600000e+00,  2.0700000e+00,\n",
              "         2.0800000e+00,  2.0900000e+00,  2.1000000e+00,  2.1100000e+00,\n",
              "         2.1200000e+00,  2.1300000e+00,  2.1400000e+00,  2.1500000e+00,\n",
              "         2.1600000e+00,  2.1700000e+00,  2.1800000e+00,  2.1900000e+00,\n",
              "         2.2000000e+00,  2.2100000e+00,  2.2200000e+00,  2.2300000e+00,\n",
              "         2.2400000e+00,  2.2500000e+00,  2.2600000e+00,  2.2700000e+00,\n",
              "         2.2800000e+00,  2.2900000e+00,  2.3000000e+00,  2.3100000e+00,\n",
              "         2.3200000e+00,  2.3300000e+00,  2.3400000e+00,  2.3500000e+00,\n",
              "         2.3600000e+00,  2.3700000e+00,  2.3800000e+00,  2.3900000e+00,\n",
              "         2.4000000e+00,  2.4100000e+00,  2.4200000e+00,  2.4300000e+00,\n",
              "         2.4400000e+00,  2.4500000e+00,  2.4600000e+00,  2.4700000e+00,\n",
              "         2.4800000e+00,  2.4900000e+00,  2.5000000e+00,  2.5100000e+00,\n",
              "         2.5200000e+00,  2.5300000e+00,  2.5400000e+00,  2.5500000e+00,\n",
              "         2.5600000e+00,  2.5700000e+00,  2.5800000e+00,  2.5900000e+00,\n",
              "         2.6000000e+00,  2.6100000e+00,  2.6200000e+00,  2.6300000e+00,\n",
              "         2.6400000e+00,  2.6500000e+00,  2.6600000e+00,  2.6700000e+00,\n",
              "         2.6800000e+00,  2.6900000e+00,  2.7000000e+00,  2.7100000e+00,\n",
              "         2.7200000e+00,  2.7300000e+00,  2.7400000e+00,  2.7500000e+00,\n",
              "         2.7600000e+00,  2.7700000e+00,  2.7800000e+00,  2.7900000e+00,\n",
              "         2.8000000e+00,  2.8100000e+00,  2.8200000e+00,  2.8300000e+00,\n",
              "         2.8400000e+00,  2.8500000e+00,  2.8600000e+00,  2.8700000e+00,\n",
              "         2.8800000e+00,  2.8900000e+00,  2.9000000e+00,  2.9100000e+00,\n",
              "         2.9200000e+00,  2.9300000e+00,  2.9400000e+00,  2.9500000e+00,\n",
              "         2.9600000e+00,  2.9700000e+00,  2.9800000e+00,  2.9900000e+00,\n",
              "         3.0000000e+00,  3.0100000e+00,  3.0200000e+00,  3.0300000e+00,\n",
              "         3.0400000e+00,  3.0500000e+00,  3.0600000e+00,  3.0700000e+00,\n",
              "         3.0800000e+00,  3.0900000e+00,  3.1000000e+00,  3.1100000e+00,\n",
              "         3.1200000e+00,  3.1300000e+00,  3.1400000e+00,  3.1500000e+00,\n",
              "         3.1600000e+00,  3.1700000e+00,  3.1800000e+00,  3.1900000e+00,\n",
              "         3.2000000e+00,  3.2100000e+00,  3.2200000e+00,  3.2300000e+00,\n",
              "         3.2400000e+00,  3.2500000e+00,  3.2600000e+00,  3.2700000e+00,\n",
              "         3.2800000e+00,  3.2900000e+00,  3.3000000e+00,  3.3100000e+00,\n",
              "         3.3200000e+00,  3.3300000e+00,  3.3400000e+00,  3.3500000e+00,\n",
              "         3.3600000e+00,  3.3700000e+00,  3.3800000e+00,  3.3900000e+00,\n",
              "         3.4000000e+00,  3.4100000e+00,  3.4200000e+00,  3.4300000e+00,\n",
              "         3.4400000e+00,  3.4500000e+00,  3.4600000e+00,  3.4700000e+00,\n",
              "         3.4800000e+00,  3.4900000e+00,  3.5000000e+00,  3.5100000e+00,\n",
              "         3.5200000e+00,  3.5300000e+00,  3.5400000e+00,  3.5500000e+00,\n",
              "         3.5600000e+00,  3.5700000e+00,  3.5800000e+00,  3.5900000e+00,\n",
              "         3.6000000e+00,  3.6100000e+00,  3.6200000e+00,  3.6300000e+00,\n",
              "         3.6400000e+00,  3.6500000e+00,  3.6600000e+00,  3.6700000e+00,\n",
              "         3.6800000e+00,  3.6900000e+00,  3.7000000e+00,  3.7100000e+00,\n",
              "         3.7200000e+00,  3.7300000e+00,  3.7400000e+00,  3.7500000e+00,\n",
              "         3.7600000e+00,  3.7700000e+00,  3.7800000e+00,  3.7900000e+00,\n",
              "         3.8000000e+00,  3.8100000e+00,  3.8200000e+00,  3.8300000e+00,\n",
              "         3.8400000e+00,  3.8500000e+00,  3.8600000e+00,  3.8700000e+00,\n",
              "         3.8800000e+00,  3.8900000e+00,  3.9000000e+00,  3.9100000e+00,\n",
              "         3.9200000e+00,  3.9300000e+00,  3.9400000e+00,  3.9500000e+00,\n",
              "         3.9600000e+00,  3.9700000e+00,  3.9800000e+00,  3.9900000e+00,\n",
              "         4.0000000e+00,  4.0100000e+00,  4.0200000e+00,  4.0300000e+00,\n",
              "         4.0400000e+00,  4.0500000e+00,  4.0600000e+00,  4.0700000e+00,\n",
              "         4.0800000e+00,  4.0900000e+00,  4.1000000e+00,  4.1100000e+00,\n",
              "         4.1200000e+00,  4.1300000e+00,  4.1400000e+00,  4.1500000e+00,\n",
              "         4.1600000e+00,  4.1700000e+00,  4.1800000e+00,  4.1900000e+00,\n",
              "         4.2000000e+00,  4.2100000e+00,  4.2200000e+00,  4.2300000e+00,\n",
              "         4.2400000e+00,  4.2500000e+00,  4.2600000e+00,  4.2700000e+00,\n",
              "         4.2800000e+00,  4.2900000e+00,  4.3000000e+00,  4.3100000e+00,\n",
              "         4.3200000e+00,  4.3300000e+00,  4.3400000e+00,  4.3500000e+00,\n",
              "         4.3600000e+00,  4.3700000e+00,  4.3800000e+00,  4.3900000e+00,\n",
              "         4.4000000e+00,  4.4100000e+00,  4.4200000e+00,  4.4300000e+00,\n",
              "         4.4400000e+00,  4.4500000e+00,  4.4600000e+00,  4.4700000e+00,\n",
              "         4.4800000e+00,  4.4900000e+00,  4.5000000e+00,  4.5100000e+00,\n",
              "         4.5200000e+00,  4.5300000e+00,  4.5400000e+00,  4.5500000e+00,\n",
              "         4.5600000e+00,  4.5700000e+00,  4.5800000e+00,  4.5900000e+00,\n",
              "         4.6000000e+00,  4.6100000e+00,  4.6200000e+00,  4.6300000e+00,\n",
              "         4.6400000e+00,  4.6500000e+00,  4.6600000e+00,  4.6700000e+00,\n",
              "         4.6800000e+00,  4.6900000e+00,  4.7000000e+00,  4.7100000e+00,\n",
              "         4.7200000e+00,  4.7300000e+00,  4.7400000e+00,  4.7500000e+00,\n",
              "         4.7600000e+00,  4.7700000e+00,  4.7800000e+00,  4.7900000e+00,\n",
              "         4.8000000e+00,  4.8100000e+00,  4.8200000e+00,  4.8300000e+00,\n",
              "         4.8400000e+00,  4.8500000e+00,  4.8600000e+00,  4.8700000e+00,\n",
              "         4.8800000e+00,  4.8900000e+00,  4.9000000e+00,  4.9100000e+00,\n",
              "         4.9200000e+00,  4.9300000e+00,  4.9400000e+00,  4.9500000e+00,\n",
              "         4.9600000e+00,  4.9700000e+00,  4.9800000e+00,  4.9900000e+00]),\n",
              " 1000)"
            ]
          },
          "metadata": {},
          "execution_count": 366
        }
      ]
    },
    {
      "cell_type": "code",
      "source": [
        "xs, ys = np.meshgrid(points, points) # 두 개를 격자로 잘라낸 값 반환. 주어진 1차원 배열을 기반으로 두 개 이상의 배열을 확장..\n",
        "xs, ys # 1000*1000 모든 포인트의 x, y 좌표"
      ],
      "metadata": {
        "colab": {
          "base_uri": "https://localhost:8080/"
        },
        "id": "pkPfbscdHrM6",
        "outputId": "b952e4a1-e991-46f7-e196-c604de9ca473"
      },
      "execution_count": 367,
      "outputs": [
        {
          "output_type": "execute_result",
          "data": {
            "text/plain": [
              "(array([[-5.  , -4.99, -4.98, ...,  4.97,  4.98,  4.99],\n",
              "        [-5.  , -4.99, -4.98, ...,  4.97,  4.98,  4.99],\n",
              "        [-5.  , -4.99, -4.98, ...,  4.97,  4.98,  4.99],\n",
              "        ...,\n",
              "        [-5.  , -4.99, -4.98, ...,  4.97,  4.98,  4.99],\n",
              "        [-5.  , -4.99, -4.98, ...,  4.97,  4.98,  4.99],\n",
              "        [-5.  , -4.99, -4.98, ...,  4.97,  4.98,  4.99]]),\n",
              " array([[-5.  , -5.  , -5.  , ..., -5.  , -5.  , -5.  ],\n",
              "        [-4.99, -4.99, -4.99, ..., -4.99, -4.99, -4.99],\n",
              "        [-4.98, -4.98, -4.98, ..., -4.98, -4.98, -4.98],\n",
              "        ...,\n",
              "        [ 4.97,  4.97,  4.97, ...,  4.97,  4.97,  4.97],\n",
              "        [ 4.98,  4.98,  4.98, ...,  4.98,  4.98,  4.98],\n",
              "        [ 4.99,  4.99,  4.99, ...,  4.99,  4.99,  4.99]]))"
            ]
          },
          "metadata": {},
          "execution_count": 367
        }
      ]
    },
    {
      "cell_type": "code",
      "source": [
        "z = np.sqrt(xs ** 2 + ys ** 2) # 원점으로부터의 거리\n",
        "z"
      ],
      "metadata": {
        "colab": {
          "base_uri": "https://localhost:8080/"
        },
        "id": "lkam1W9WH_so",
        "outputId": "d31da8e9-3d11-46a5-f9ff-457c670d2dc2"
      },
      "execution_count": 369,
      "outputs": [
        {
          "output_type": "execute_result",
          "data": {
            "text/plain": [
              "array([[7.07106781, 7.06400028, 7.05693985, ..., 7.04988652, 7.05693985,\n",
              "        7.06400028],\n",
              "       [7.06400028, 7.05692568, 7.04985815, ..., 7.04279774, 7.04985815,\n",
              "        7.05692568],\n",
              "       [7.05693985, 7.04985815, 7.04278354, ..., 7.03571603, 7.04278354,\n",
              "        7.04985815],\n",
              "       ...,\n",
              "       [7.04988652, 7.04279774, 7.03571603, ..., 7.0286414 , 7.03571603,\n",
              "        7.04279774],\n",
              "       [7.05693985, 7.04985815, 7.04278354, ..., 7.03571603, 7.04278354,\n",
              "        7.04985815],\n",
              "       [7.06400028, 7.05692568, 7.04985815, ..., 7.04279774, 7.04985815,\n",
              "        7.05692568]])"
            ]
          },
          "metadata": {},
          "execution_count": 369
        }
      ]
    },
    {
      "cell_type": "code",
      "source": [
        "import matplotlib.pyplot as plt\n",
        "plt.imshow(z, cmap=plt.cm.gray, extent=[-5, 5, -5, 5])\n",
        "plt.colorbar()\n",
        "plt.title(\"Image plot of $\\sqrt{x^2 + y^2}$ for a grid of values\")"
      ],
      "metadata": {
        "colab": {
          "base_uri": "https://localhost:8080/",
          "height": 479
        },
        "id": "pN2lSZegIJVm",
        "outputId": "771ca5f2-ff84-44ae-f48e-0668bf341c28"
      },
      "execution_count": 370,
      "outputs": [
        {
          "output_type": "execute_result",
          "data": {
            "text/plain": [
              "Text(0.5, 1.0, 'Image plot of $\\\\sqrt{x^2 + y^2}$ for a grid of values')"
            ]
          },
          "metadata": {},
          "execution_count": 370
        },
        {
          "output_type": "display_data",
          "data": {
            "text/plain": [
              "<Figure size 640x480 with 2 Axes>"
            ],
            "image/png": "[encoded data removed]"
          },
          "metadata": {}
        }
      ]
    },
    {
      "cell_type": "markdown",
      "source": [
        "### np.where (조건부 표현)"
      ],
      "metadata": {
        "id": "Vmilkr9fItTs"
      }
    },
    {
      "cell_type": "code",
      "source": [
        "xarr = np.array([1.1, 1.2, 1.3, 1.4, 1.5])\n",
        "yarr = np.array([2.1, 2.2, 2.3, 2.4, 2.5])\n",
        "cond = np.array([True, False, True, True, False])"
      ],
      "metadata": {
        "id": "pU9TQQXeIQbK"
      },
      "execution_count": 372,
      "outputs": []
    },
    {
      "cell_type": "code",
      "source": [
        "# 조건 만족시 x에서, 조건 불만족시 y에서 가져오는 의도\n",
        "result = np.where(cond, xarr, yarr)\n",
        "result"
      ],
      "metadata": {
        "colab": {
          "base_uri": "https://localhost:8080/"
        },
        "id": "PrWsjyJ9JALC",
        "outputId": "fc3a8886-71ba-4ef9-d652-67e4864ea5d1"
      },
      "execution_count": 373,
      "outputs": [
        {
          "output_type": "execute_result",
          "data": {
            "text/plain": [
              "array([1.1, 2.2, 1.3, 1.4, 2.5])"
            ]
          },
          "metadata": {},
          "execution_count": 373
        }
      ]
    },
    {
      "cell_type": "code",
      "source": [
        "arr = rng.standard_normal((4, 4))\n",
        "c = arr > 0\n",
        "arr, c"
      ],
      "metadata": {
        "colab": {
          "base_uri": "https://localhost:8080/"
        },
        "id": "tNHVWzhUJKck",
        "outputId": "14d173e2-aeea-4e7b-a13a-786a83f121ed"
      },
      "execution_count": 378,
      "outputs": [
        {
          "output_type": "execute_result",
          "data": {
            "text/plain": [
              "(array([[-0.68391322, -0.72083767,  1.12062282, -0.05481416],\n",
              "        [-0.08241372,  0.9359865 ,  1.23853712,  1.27279553],\n",
              "        [ 0.40589222, -0.05032522,  0.28931754,  0.17930568],\n",
              "        [ 1.39748056,  0.29204679,  0.63840567, -0.02788771]]),\n",
              " array([[False, False,  True, False],\n",
              "        [False,  True,  True,  True],\n",
              "        [ True, False,  True,  True],\n",
              "        [ True,  True,  True, False]]))"
            ]
          },
          "metadata": {},
          "execution_count": 378
        }
      ]
    },
    {
      "cell_type": "code",
      "source": [
        "np.where(c, 2, -2) # c에서 조건을 확인하여, True인 곳엔 2를, False인 곳엔 -2를 배치"
      ],
      "metadata": {
        "colab": {
          "base_uri": "https://localhost:8080/"
        },
        "id": "R9vDLVn9JU57",
        "outputId": "e84080f4-a471-43d4-d2d8-871b49363871"
      },
      "execution_count": 380,
      "outputs": [
        {
          "output_type": "execute_result",
          "data": {
            "text/plain": [
              "array([[-2, -2,  2, -2],\n",
              "       [-2,  2,  2,  2],\n",
              "       [ 2, -2,  2,  2],\n",
              "       [ 2,  2,  2, -2]])"
            ]
          },
          "metadata": {},
          "execution_count": 380
        }
      ]
    },
    {
      "cell_type": "code",
      "source": [
        "np.where(c, 2, arr) # True면 2, False면 기존 원소값 배치"
      ],
      "metadata": {
        "colab": {
          "base_uri": "https://localhost:8080/"
        },
        "id": "MA1GiAC2JnGe",
        "outputId": "9d50c611-dd18-42ac-d595-c83c695ed7bf"
      },
      "execution_count": 382,
      "outputs": [
        {
          "output_type": "execute_result",
          "data": {
            "text/plain": [
              "array([[-0.68391322, -0.72083767,  2.        , -0.05481416],\n",
              "       [-0.08241372,  2.        ,  2.        ,  2.        ],\n",
              "       [ 2.        , -0.05032522,  2.        ,  2.        ],\n",
              "       [ 2.        ,  2.        ,  2.        , -0.02788771]])"
            ]
          },
          "metadata": {},
          "execution_count": 382
        }
      ]
    },
    {
      "cell_type": "code",
      "source": [
        "# p.12\n",
        "A = np.array([3, 6, 0.7, np.NaN, np.inf])\n",
        "A[np.isinf(A) | np.isnan(A)] = np.mean(A[~(np.isinf(A) | np.isnan(A))])\n",
        "A=np.where(np.isinf(A)|np.isnan(A), np.mean(A[~(np.isinf(A)|np.isnan(A))]))"
      ],
      "metadata": {
        "id": "qdHB5P1ZFxhY"
      },
      "execution_count": null,
      "outputs": []
    },
    {
      "cell_type": "markdown",
      "source": [
        "### 수학 메서드, 통계 메서드"
      ],
      "metadata": {
        "id": "62sgrzAyJwYR"
      }
    },
    {
      "cell_type": "code",
      "source": [
        "arr = rng.standard_normal((5, 4))\n",
        "arr"
      ],
      "metadata": {
        "colab": {
          "base_uri": "https://localhost:8080/"
        },
        "id": "6bOKD6Z2JydM",
        "outputId": "368d47d2-c8c9-47c5-fdbb-479dc3aceed3"
      },
      "execution_count": 384,
      "outputs": [
        {
          "output_type": "execute_result",
          "data": {
            "text/plain": [
              "array([[ 1.37105185, -2.05280763,  0.38050908,  0.75539067],\n",
              "       [-1.15912585,  2.15031011, -0.15027022, -0.16116428],\n",
              "       [-1.07944248,  0.87796618,  0.22446741, -0.59159345],\n",
              "       [ 0.2262628 ,  0.68618251,  1.21500461,  0.21605944],\n",
              "       [-0.96482356, -0.5566078 , -2.29838764, -0.73208213]])"
            ]
          },
          "metadata": {},
          "execution_count": 384
        }
      ]
    },
    {
      "cell_type": "code",
      "source": [
        "arr.mean()"
      ],
      "metadata": {
        "colab": {
          "base_uri": "https://localhost:8080/"
        },
        "id": "pXOY4booJ1YF",
        "outputId": "0fdfa0eb-73c6-4f2c-ba0b-a03fc514bcef"
      },
      "execution_count": 385,
      "outputs": [
        {
          "output_type": "execute_result",
          "data": {
            "text/plain": [
              "-0.0821550182794633"
            ]
          },
          "metadata": {},
          "execution_count": 385
        }
      ]
    },
    {
      "cell_type": "code",
      "source": [
        "np.mean(arr)"
      ],
      "metadata": {
        "colab": {
          "base_uri": "https://localhost:8080/"
        },
        "id": "67XVDtnuJ4CL",
        "outputId": "63e249a8-c606-40ac-a03e-90257e033938"
      },
      "execution_count": 386,
      "outputs": [
        {
          "output_type": "execute_result",
          "data": {
            "text/plain": [
              "-0.0821550182794633"
            ]
          },
          "metadata": {},
          "execution_count": 386
        }
      ]
    },
    {
      "cell_type": "code",
      "source": [
        "arr.sum()"
      ],
      "metadata": {
        "colab": {
          "base_uri": "https://localhost:8080/"
        },
        "id": "sekDkpbgJ6Z8",
        "outputId": "f109e602-d0ab-4f3a-9bc8-bffbb978c23d"
      },
      "execution_count": 387,
      "outputs": [
        {
          "output_type": "execute_result",
          "data": {
            "text/plain": [
              "-1.643100365589266"
            ]
          },
          "metadata": {},
          "execution_count": 387
        }
      ]
    },
    {
      "cell_type": "code",
      "source": [
        "np.sum(arr)"
      ],
      "metadata": {
        "colab": {
          "base_uri": "https://localhost:8080/"
        },
        "id": "KY3FzE1tJ8D9",
        "outputId": "97bebd71-30b3-4336-971c-240ee6bf633d"
      },
      "execution_count": 388,
      "outputs": [
        {
          "output_type": "execute_result",
          "data": {
            "text/plain": [
              "-1.643100365589266"
            ]
          },
          "metadata": {},
          "execution_count": 388
        }
      ]
    },
    {
      "cell_type": "code",
      "source": [
        "# 축 지정 가능\n",
        "arr.mean(axis=1)"
      ],
      "metadata": {
        "colab": {
          "base_uri": "https://localhost:8080/"
        },
        "id": "otUFdj57J8wd",
        "outputId": "e5404fe5-b9f5-41c5-a97d-48ecebdaf769"
      },
      "execution_count": 390,
      "outputs": [
        {
          "output_type": "execute_result",
          "data": {
            "text/plain": [
              "array([ 0.11353599,  0.16993744, -0.14215058,  0.58587734, -1.13797528])"
            ]
          },
          "metadata": {},
          "execution_count": 390
        }
      ]
    },
    {
      "cell_type": "code",
      "source": [
        "arr.sum(axis=0)"
      ],
      "metadata": {
        "colab": {
          "base_uri": "https://localhost:8080/"
        },
        "id": "mLtT4H4IJ_qd",
        "outputId": "0de4123e-92e6-4c34-b76e-f7b24d5672f1"
      },
      "execution_count": 391,
      "outputs": [
        {
          "output_type": "execute_result",
          "data": {
            "text/plain": [
              "array([-1.60607723,  1.10504337, -0.62867676, -0.51338975])"
            ]
          },
          "metadata": {},
          "execution_count": 391
        }
      ]
    },
    {
      "cell_type": "code",
      "source": [
        "np.sum(arr, axis=0)"
      ],
      "metadata": {
        "colab": {
          "base_uri": "https://localhost:8080/"
        },
        "id": "dQuo_aTzKGtd",
        "outputId": "8fbd405e-b24b-49cc-80c9-7c8d35f85a13"
      },
      "execution_count": 392,
      "outputs": [
        {
          "output_type": "execute_result",
          "data": {
            "text/plain": [
              "array([-1.60607723,  1.10504337, -0.62867676, -0.51338975])"
            ]
          },
          "metadata": {},
          "execution_count": 392
        }
      ]
    },
    {
      "cell_type": "code",
      "source": [
        "arr = np.arange(8)\n",
        "arr.cumsum() # 누적합 계산"
      ],
      "metadata": {
        "colab": {
          "base_uri": "https://localhost:8080/"
        },
        "id": "h6rwz-yMKhL1",
        "outputId": "b105c172-a7cc-4e7f-b610-94d4aeef2b63"
      },
      "execution_count": 395,
      "outputs": [
        {
          "output_type": "execute_result",
          "data": {
            "text/plain": [
              "array([ 0,  1,  3,  6, 10, 15, 21, 28])"
            ]
          },
          "metadata": {},
          "execution_count": 395
        }
      ]
    },
    {
      "cell_type": "code",
      "source": [
        "arr = np.arange(9).reshape(3, 3)\n",
        "arr"
      ],
      "metadata": {
        "colab": {
          "base_uri": "https://localhost:8080/"
        },
        "id": "JBt7OiV8KmhO",
        "outputId": "67eb420d-40d9-4b94-e66b-25f97ee998af"
      },
      "execution_count": 397,
      "outputs": [
        {
          "output_type": "execute_result",
          "data": {
            "text/plain": [
              "array([[0, 1, 2],\n",
              "       [3, 4, 5],\n",
              "       [6, 7, 8]])"
            ]
          },
          "metadata": {},
          "execution_count": 397
        }
      ]
    },
    {
      "cell_type": "code",
      "source": [
        "arr.cumsum(axis=0)"
      ],
      "metadata": {
        "colab": {
          "base_uri": "https://localhost:8080/"
        },
        "id": "yv39EC27KuXC",
        "outputId": "f0c877fb-be2a-475b-ed99-541c24dfa297"
      },
      "execution_count": 398,
      "outputs": [
        {
          "output_type": "execute_result",
          "data": {
            "text/plain": [
              "array([[ 0,  1,  2],\n",
              "       [ 3,  5,  7],\n",
              "       [ 9, 12, 15]])"
            ]
          },
          "metadata": {},
          "execution_count": 398
        }
      ]
    },
    {
      "cell_type": "code",
      "source": [
        "arr.cumsum(axis=1)"
      ],
      "metadata": {
        "colab": {
          "base_uri": "https://localhost:8080/"
        },
        "id": "4KouWEAQK7FT",
        "outputId": "7a45b2ea-952c-4890-90cb-b9a4a97c9054"
      },
      "execution_count": 399,
      "outputs": [
        {
          "output_type": "execute_result",
          "data": {
            "text/plain": [
              "array([[ 0,  1,  3],\n",
              "       [ 3,  7, 12],\n",
              "       [ 6, 13, 21]])"
            ]
          },
          "metadata": {},
          "execution_count": 399
        }
      ]
    },
    {
      "cell_type": "markdown",
      "source": [
        "## 배열을 이용한 배열 기반 프로그래밍\n",
        "- 불리언 배열 메서드 예제\n",
        "  - sum(), all(), any()\n",
        "  - 데이터 정제시 빈번히 사용됨\n",
        "- 정렬\n",
        "  - 리스트 자료형의 정렬 메서드처럼 정렬 가능\n",
        "  - 축 지정 가능\n",
        "  - np.sort 함수는 sorted와 유사하게 정렬 후 복사본 반환"
      ],
      "metadata": {
        "id": "P3jDPwcOLIko"
      }
    },
    {
      "cell_type": "code",
      "source": [
        "arr = rng.standard_normal(100)\n",
        "(arr > 0).sum() # 양수 값의 합"
      ],
      "metadata": {
        "colab": {
          "base_uri": "https://localhost:8080/"
        },
        "id": "wvfSMgtzLBCV",
        "outputId": "a371bcec-a3d9-48fd-b528-5ed2ab9ecd9b"
      },
      "execution_count": 402,
      "outputs": [
        {
          "output_type": "execute_result",
          "data": {
            "text/plain": [
              "51"
            ]
          },
          "metadata": {},
          "execution_count": 402
        }
      ]
    },
    {
      "cell_type": "code",
      "source": [
        "(arr <= 0).sum() # 음수 값 합"
      ],
      "metadata": {
        "colab": {
          "base_uri": "https://localhost:8080/"
        },
        "id": "sIsPsbB3LavU",
        "outputId": "f4f74af2-d585-42c1-f391-7a478ba20b83"
      },
      "execution_count": 403,
      "outputs": [
        {
          "output_type": "execute_result",
          "data": {
            "text/plain": [
              "49"
            ]
          },
          "metadata": {},
          "execution_count": 403
        }
      ]
    },
    {
      "cell_type": "code",
      "source": [
        "bools = np.array([False, False, True, False])\n",
        "bools.any() # True가 하나라도 있으면 True 반환"
      ],
      "metadata": {
        "colab": {
          "base_uri": "https://localhost:8080/"
        },
        "id": "VtIlKRg0Lk3b",
        "outputId": "0bacade5-b756-4c5f-95b4-0e2a5b836725"
      },
      "execution_count": 405,
      "outputs": [
        {
          "output_type": "execute_result",
          "data": {
            "text/plain": [
              "True"
            ]
          },
          "metadata": {},
          "execution_count": 405
        }
      ]
    },
    {
      "cell_type": "code",
      "source": [
        "bools.all() # 모두 True여야 True 반환"
      ],
      "metadata": {
        "colab": {
          "base_uri": "https://localhost:8080/"
        },
        "id": "3AYcVbxOLqB9",
        "outputId": "9ec71a39-4114-4fb9-c6a9-9956f818f96e"
      },
      "execution_count": 406,
      "outputs": [
        {
          "output_type": "execute_result",
          "data": {
            "text/plain": [
              "False"
            ]
          },
          "metadata": {},
          "execution_count": 406
        }
      ]
    },
    {
      "cell_type": "code",
      "source": [
        "# 정렬\n",
        "arr = rng.standard_normal(6)\n",
        "arr"
      ],
      "metadata": {
        "colab": {
          "base_uri": "https://localhost:8080/"
        },
        "id": "CEHHXHo5LwCF",
        "outputId": "a507b82d-f0ab-4e1f-b84e-4bb82a9c41c3"
      },
      "execution_count": 407,
      "outputs": [
        {
          "output_type": "execute_result",
          "data": {
            "text/plain": [
              "array([-0.10666477, -0.93015494, -0.42367437,  0.28096105,  1.13155122,\n",
              "        0.96938323])"
            ]
          },
          "metadata": {},
          "execution_count": 407
        }
      ]
    },
    {
      "cell_type": "code",
      "source": [
        "arr.sort() # 오름차순\n",
        "arr"
      ],
      "metadata": {
        "colab": {
          "base_uri": "https://localhost:8080/"
        },
        "id": "FB8IzrKcL1W0",
        "outputId": "03eedc7b-b27f-4f17-bf81-76b760ecec5c"
      },
      "execution_count": 409,
      "outputs": [
        {
          "output_type": "execute_result",
          "data": {
            "text/plain": [
              "array([-0.93015494, -0.42367437, -0.10666477,  0.28096105,  0.96938323,\n",
              "        1.13155122])"
            ]
          },
          "metadata": {},
          "execution_count": 409
        }
      ]
    },
    {
      "cell_type": "code",
      "source": [
        "arr = rng.standard_normal((5, 3))\n",
        "arr"
      ],
      "metadata": {
        "colab": {
          "base_uri": "https://localhost:8080/"
        },
        "id": "WLaTWm8iL287",
        "outputId": "0d09533f-00f4-44a3-de6b-2c6464ab030e"
      },
      "execution_count": 410,
      "outputs": [
        {
          "output_type": "execute_result",
          "data": {
            "text/plain": [
              "array([[ 0.4354152 , -0.24712573,  0.16818521],\n",
              "       [-0.31062454,  0.0709336 , -0.1033723 ],\n",
              "       [ 0.52532528, -1.88267705, -0.34567801],\n",
              "       [-0.2913092 , -1.13063834, -0.17272468],\n",
              "       [-1.05354233, -0.66455314, -0.289682  ]])"
            ]
          },
          "metadata": {},
          "execution_count": 410
        }
      ]
    },
    {
      "cell_type": "code",
      "source": [
        "arr.sort(axis=0)\n",
        "arr"
      ],
      "metadata": {
        "colab": {
          "base_uri": "https://localhost:8080/"
        },
        "id": "_gmf46NHL7tw",
        "outputId": "d793d07f-7111-4608-9823-c1d491aba5fc"
      },
      "execution_count": 411,
      "outputs": [
        {
          "output_type": "execute_result",
          "data": {
            "text/plain": [
              "array([[-1.05354233, -1.88267705, -0.34567801],\n",
              "       [-0.31062454, -1.13063834, -0.289682  ],\n",
              "       [-0.2913092 , -0.66455314, -0.17272468],\n",
              "       [ 0.4354152 , -0.24712573, -0.1033723 ],\n",
              "       [ 0.52532528,  0.0709336 ,  0.16818521]])"
            ]
          },
          "metadata": {},
          "execution_count": 411
        }
      ]
    },
    {
      "cell_type": "code",
      "source": [
        "arr.sort(axis=1)\n",
        "arr"
      ],
      "metadata": {
        "colab": {
          "base_uri": "https://localhost:8080/"
        },
        "id": "Gfc9YRxsL_4g",
        "outputId": "5f43eb89-9db5-4fe8-a281-b360daa2352e"
      },
      "execution_count": 412,
      "outputs": [
        {
          "output_type": "execute_result",
          "data": {
            "text/plain": [
              "array([[-1.88267705, -1.05354233, -0.34567801],\n",
              "       [-1.13063834, -0.31062454, -0.289682  ],\n",
              "       [-0.66455314, -0.2913092 , -0.17272468],\n",
              "       [-0.24712573, -0.1033723 ,  0.4354152 ],\n",
              "       [ 0.0709336 ,  0.16818521,  0.52532528]])"
            ]
          },
          "metadata": {},
          "execution_count": 412
        }
      ]
    },
    {
      "cell_type": "code",
      "source": [
        "arr2 = np.array([5, -10, 7, 1, 0, -3])\n",
        "sorted_arr2 = np.sort(arr2)\n",
        "sorted_arr2"
      ],
      "metadata": {
        "colab": {
          "base_uri": "https://localhost:8080/"
        },
        "id": "7B-4SlQBL6yW",
        "outputId": "eaef4c54-b769-4516-fc0b-30b6d8ca7563"
      },
      "execution_count": 413,
      "outputs": [
        {
          "output_type": "execute_result",
          "data": {
            "text/plain": [
              "array([-10,  -3,   0,   1,   5,   7])"
            ]
          },
          "metadata": {},
          "execution_count": 413
        }
      ]
    }
  ]
}