{
  "nbformat": 4,
  "nbformat_minor": 0,
  "metadata": {
    "colab": {
      "provenance": [],
      "authorship_tag": "ABX9TyOqZyZomPg5pExtze7L1SMm"
    },
    "kernelspec": {
      "name": "python3",
      "display_name": "Python 3"
    },
    "language_info": {
      "name": "python"
    }
  },
  "cells": [
    {
      "cell_type": "markdown",
      "source": [
        "# 넘파이\n",
        "### 넘파이란?\n",
        "- 넘파이에서 텐서 데이터를 다루는 객체 타입\n",
        "- 넘파이에서 데이터를 저장, 관리하는 기본 클래스\n",
        "\n",
        "\\*텐서(tensor): 선형 대수의 데이터 배열\n",
        "\n",
        "- 대규모 연산 수행 가능\n",
        "- 일반적 배열 처리\n",
        "- 효과적인 기술 통계, 데이터 수집, 요약\n",
        "- 데이터 병합, 데이터 정렬, 데이터 간의 관계 조작\n",
        "- 수집, 변형, 함수 적용과 같은 그룹별 데이터 조작\n",
        "- if...else문이 아닌 배열 표현식으로 조건부 로직 구현"
      ],
      "metadata": {
        "id": "r_FOcCdCdlby"
      }
    },
    {
      "cell_type": "code",
      "source": [
        "# 임포트하기. 일반적으로 np로 호출\n",
        "import numpy as np"
      ],
      "metadata": {
        "id": "WwJN4J26hfXB"
      },
      "execution_count": 116,
      "outputs": []
    },
    {
      "cell_type": "markdown",
      "source": [
        "## 넘파이 배열 객체 array\n",
        "\n",
        "```py\n",
        "import numpy as np\n",
        "test_array = np.array([1,4,5,8], np.float32)\n",
        "```\n",
        "- 매개변수1: 데이터(리스트, 튜플)\n",
        "- 매개변수2: 넘파이 배열로 표현하려는 데이터 타입 (생략가능, 추론)\n",
        "\n",
        "- 차원 ndim, 모양 shape, 크기 size, 데이터타입 dtype\n",
        "- 다차원 배열 생성 가능\n",
        "\n",
        "### 리스트와 넘파이 배열 차이점\n",
        "- 텐서 구조에 따라 배열 생성 (배열의 모든 구성 요소 크기 동일)\n",
        "```py\n",
        "test_list = [[1,4,5,8], [1,4,5]] # 텐서 아님\n",
        "```\n",
        "- 동적 타이핑 지원 X, 하나의 데이터 타입만 사용\n",
        "- 메모리에 연속적으로 나열\n",
        "  - 검색이나 연산에 있어서 훨씬 빠르게 처리 가능"
      ],
      "metadata": {
        "id": "pNsAQurKhtRj"
      }
    },
    {
      "cell_type": "code",
      "source": [
        "data = np.array([[1.5, -0.1, 3], [0, -3, 6.5]])\n",
        "data"
      ],
      "metadata": {
        "colab": {
          "base_uri": "https://localhost:8080/"
        },
        "id": "TMCRza_ch_9D",
        "outputId": "adea72a4-470d-4222-8053-3bd1d8a30b91"
      },
      "execution_count": 117,
      "outputs": [
        {
          "output_type": "execute_result",
          "data": {
            "text/plain": [
              "array([[ 1.5, -0.1,  3. ],\n",
              "       [ 0. , -3. ,  6.5]])"
            ]
          },
          "metadata": {},
          "execution_count": 117
        }
      ]
    },
    {
      "cell_type": "code",
      "source": [
        "data * 10"
      ],
      "metadata": {
        "colab": {
          "base_uri": "https://localhost:8080/"
        },
        "id": "IG1Xybx-jKKB",
        "outputId": "a14425df-af71-48b5-e0db-18051ef9958b"
      },
      "execution_count": 118,
      "outputs": [
        {
          "output_type": "execute_result",
          "data": {
            "text/plain": [
              "array([[ 15.,  -1.,  30.],\n",
              "       [  0., -30.,  65.]])"
            ]
          },
          "metadata": {},
          "execution_count": 118
        }
      ]
    },
    {
      "cell_type": "code",
      "source": [
        "data + data"
      ],
      "metadata": {
        "colab": {
          "base_uri": "https://localhost:8080/"
        },
        "id": "TMkzGoNUjTUU",
        "outputId": "3181ecca-5f8b-4353-d3ff-40e07e612e67"
      },
      "execution_count": 119,
      "outputs": [
        {
          "output_type": "execute_result",
          "data": {
            "text/plain": [
              "array([[ 3. , -0.2,  6. ],\n",
              "       [ 0. , -6. , 13. ]])"
            ]
          },
          "metadata": {},
          "execution_count": 119
        }
      ]
    },
    {
      "cell_type": "code",
      "source": [
        "list_data = [[1.5, -0.1, 3], [0, -3, 6.5]]\n",
        "list_data + list_data"
      ],
      "metadata": {
        "colab": {
          "base_uri": "https://localhost:8080/"
        },
        "id": "GCoj0jacjU-k",
        "outputId": "2f874ce5-434a-4567-932a-5a09f94e6712"
      },
      "execution_count": 120,
      "outputs": [
        {
          "output_type": "execute_result",
          "data": {
            "text/plain": [
              "[[1.5, -0.1, 3], [0, -3, 6.5], [1.5, -0.1, 3], [0, -3, 6.5]]"
            ]
          },
          "metadata": {},
          "execution_count": 120
        }
      ]
    },
    {
      "cell_type": "code",
      "source": [
        "list_data * 10"
      ],
      "metadata": {
        "colab": {
          "base_uri": "https://localhost:8080/"
        },
        "id": "BTBQzZOuja-k",
        "outputId": "260dd0f9-b92b-4d7d-ee31-e6592ca75498"
      },
      "execution_count": 121,
      "outputs": [
        {
          "output_type": "execute_result",
          "data": {
            "text/plain": [
              "[[1.5, -0.1, 3],\n",
              " [0, -3, 6.5],\n",
              " [1.5, -0.1, 3],\n",
              " [0, -3, 6.5],\n",
              " [1.5, -0.1, 3],\n",
              " [0, -3, 6.5],\n",
              " [1.5, -0.1, 3],\n",
              " [0, -3, 6.5],\n",
              " [1.5, -0.1, 3],\n",
              " [0, -3, 6.5],\n",
              " [1.5, -0.1, 3],\n",
              " [0, -3, 6.5],\n",
              " [1.5, -0.1, 3],\n",
              " [0, -3, 6.5],\n",
              " [1.5, -0.1, 3],\n",
              " [0, -3, 6.5],\n",
              " [1.5, -0.1, 3],\n",
              " [0, -3, 6.5],\n",
              " [1.5, -0.1, 3],\n",
              " [0, -3, 6.5]]"
            ]
          },
          "metadata": {},
          "execution_count": 121
        }
      ]
    },
    {
      "cell_type": "code",
      "source": [
        "data1 = [6, 7.5, 8, 0, 1]\n",
        "arr1 = np.array(data1, np.float32)\n",
        "arr1"
      ],
      "metadata": {
        "colab": {
          "base_uri": "https://localhost:8080/"
        },
        "id": "-ODlRYkFjpDy",
        "outputId": "048bf222-c3f4-4223-8e96-62d726a46c9d"
      },
      "execution_count": 122,
      "outputs": [
        {
          "output_type": "execute_result",
          "data": {
            "text/plain": [
              "array([6. , 7.5, 8. , 0. , 1. ], dtype=float32)"
            ]
          },
          "metadata": {},
          "execution_count": 122
        }
      ]
    },
    {
      "cell_type": "code",
      "source": [
        "arr2 = np.array((1,2,3,4))\n",
        "arr2"
      ],
      "metadata": {
        "colab": {
          "base_uri": "https://localhost:8080/"
        },
        "id": "sgnWTA2yjq2g",
        "outputId": "13a71f85-beeb-44d2-c7fe-758d04a6c2a5"
      },
      "execution_count": 123,
      "outputs": [
        {
          "output_type": "execute_result",
          "data": {
            "text/plain": [
              "array([1, 2, 3, 4])"
            ]
          },
          "metadata": {},
          "execution_count": 123
        }
      ]
    },
    {
      "cell_type": "code",
      "source": [
        "arr1.ndim, arr1.shape, arr1.size # 축(개수), 차원(모양, 튜플형태), 크기(요소 개수)"
      ],
      "metadata": {
        "colab": {
          "base_uri": "https://localhost:8080/"
        },
        "id": "yEgyYaCMju0z",
        "outputId": "9afa9474-f0fb-4ecb-f9ee-e6a1b2269546"
      },
      "execution_count": 124,
      "outputs": [
        {
          "output_type": "execute_result",
          "data": {
            "text/plain": [
              "(1, (5,), 5)"
            ]
          },
          "metadata": {},
          "execution_count": 124
        }
      ]
    },
    {
      "cell_type": "code",
      "source": [
        "arr1.dtype # 타입"
      ],
      "metadata": {
        "colab": {
          "base_uri": "https://localhost:8080/"
        },
        "id": "ALfTJrIPkpNp",
        "outputId": "0cb90c3b-34e0-403b-8669-57370b6523a6"
      },
      "execution_count": 125,
      "outputs": [
        {
          "output_type": "execute_result",
          "data": {
            "text/plain": [
              "dtype('float32')"
            ]
          },
          "metadata": {},
          "execution_count": 125
        }
      ]
    },
    {
      "cell_type": "code",
      "source": [
        "data2 = [[1,2,3,4], [5,6,7,8]]\n",
        "arr2 = np.array(data2, np.int32)\n",
        "arr2"
      ],
      "metadata": {
        "colab": {
          "base_uri": "https://localhost:8080/"
        },
        "id": "OTs8QgGMktRt",
        "outputId": "2e5770c0-89f6-4c3d-98eb-bc4f6429e7a6"
      },
      "execution_count": 126,
      "outputs": [
        {
          "output_type": "execute_result",
          "data": {
            "text/plain": [
              "array([[1, 2, 3, 4],\n",
              "       [5, 6, 7, 8]], dtype=int32)"
            ]
          },
          "metadata": {},
          "execution_count": 126
        }
      ]
    },
    {
      "cell_type": "code",
      "source": [
        "arr2.shape, arr2.size # 행 2개, 열 4개 => 0번 축 2개의 요소, 1번 축 4개의 요소"
      ],
      "metadata": {
        "colab": {
          "base_uri": "https://localhost:8080/"
        },
        "id": "FzlYcqW5kzau",
        "outputId": "a8949761-698b-4136-9ecc-c4758bf771de"
      },
      "execution_count": 127,
      "outputs": [
        {
          "output_type": "execute_result",
          "data": {
            "text/plain": [
              "((2, 4), 8)"
            ]
          },
          "metadata": {},
          "execution_count": 127
        }
      ]
    },
    {
      "cell_type": "code",
      "source": [
        "data3 = [[[1,2,3,4], [5,6,7,8]], [[9,10,11,12], [13,14,15,16]]]\n",
        "arr3 = np.array(data3, np.int32)\n",
        "arr3"
      ],
      "metadata": {
        "colab": {
          "base_uri": "https://localhost:8080/"
        },
        "id": "wEV4ajWolEBe",
        "outputId": "520291d4-a6ba-4a93-8e4a-9de3bbb5c684"
      },
      "execution_count": 128,
      "outputs": [
        {
          "output_type": "execute_result",
          "data": {
            "text/plain": [
              "array([[[ 1,  2,  3,  4],\n",
              "        [ 5,  6,  7,  8]],\n",
              "\n",
              "       [[ 9, 10, 11, 12],\n",
              "        [13, 14, 15, 16]]], dtype=int32)"
            ]
          },
          "metadata": {},
          "execution_count": 128
        }
      ]
    },
    {
      "cell_type": "code",
      "source": [
        "arr3.shape, arr3.size # 바깥 []부터 0번축, 1번축, 2번축"
      ],
      "metadata": {
        "colab": {
          "base_uri": "https://localhost:8080/"
        },
        "id": "7fbQRkwvlYYX",
        "outputId": "3cb7a120-2f94-47f4-8e93-9b534fd661bf"
      },
      "execution_count": 129,
      "outputs": [
        {
          "output_type": "execute_result",
          "data": {
            "text/plain": [
              "((2, 2, 4), 16)"
            ]
          },
          "metadata": {},
          "execution_count": 129
        }
      ]
    },
    {
      "cell_type": "markdown",
      "source": [
        "### 효율성 확인"
      ],
      "metadata": {
        "id": "_8zt-n9klt5V"
      }
    },
    {
      "cell_type": "code",
      "source": [
        "# my_arr = np.arange(1_000_000) # range 넘파일 배열형태로 0부터 나열\n",
        "# my_list = list(range(1_000_000))\n",
        "\n",
        "# %timeit my_arr2 = my_arr * 2 # 넘파이 배열형태가 훨씬 빠름\n",
        "# %timeit my_list2 = [x * 2 for x in my_list]"
      ],
      "metadata": {
        "id": "oggpTFZql07p"
      },
      "execution_count": 130,
      "outputs": []
    },
    {
      "cell_type": "markdown",
      "source": [
        "### 다른 생성 함수"
      ],
      "metadata": {
        "id": "MELlzEZEmZPd"
      }
    },
    {
      "cell_type": "code",
      "source": [
        "np.zeros(10) # 0으로 구성"
      ],
      "metadata": {
        "id": "sZ9UuqiEl7jR",
        "colab": {
          "base_uri": "https://localhost:8080/"
        },
        "outputId": "8b39029a-1998-465f-b380-1c28908cb343"
      },
      "execution_count": 131,
      "outputs": [
        {
          "output_type": "execute_result",
          "data": {
            "text/plain": [
              "array([0., 0., 0., 0., 0., 0., 0., 0., 0., 0.])"
            ]
          },
          "metadata": {},
          "execution_count": 131
        }
      ]
    },
    {
      "cell_type": "code",
      "source": [
        "np.zeros((3, 6))"
      ],
      "metadata": {
        "id": "F0b8GRysmjKL",
        "colab": {
          "base_uri": "https://localhost:8080/"
        },
        "outputId": "ade7d534-6c03-4923-a63c-1ef31b46935d"
      },
      "execution_count": 132,
      "outputs": [
        {
          "output_type": "execute_result",
          "data": {
            "text/plain": [
              "array([[0., 0., 0., 0., 0., 0.],\n",
              "       [0., 0., 0., 0., 0., 0.],\n",
              "       [0., 0., 0., 0., 0., 0.]])"
            ]
          },
          "metadata": {},
          "execution_count": 132
        }
      ]
    },
    {
      "cell_type": "code",
      "source": [
        "# 특정 array와 같은(like) 크기와 데이터 타입을 가지는 모든 요소가 0인 배열을 생성\n",
        "np.zeros_like(arr2)\n",
        "#arr2"
      ],
      "metadata": {
        "id": "46gMx77UmoPP",
        "colab": {
          "base_uri": "https://localhost:8080/"
        },
        "outputId": "cc2322bc-23c3-400c-8d0a-d9e42f9d3a16"
      },
      "execution_count": 133,
      "outputs": [
        {
          "output_type": "execute_result",
          "data": {
            "text/plain": [
              "array([[0, 0, 0, 0],\n",
              "       [0, 0, 0, 0]], dtype=int32)"
            ]
          },
          "metadata": {},
          "execution_count": 133
        }
      ]
    },
    {
      "cell_type": "code",
      "source": [
        "np.empty((2, 3, 2)) # 초기화 되지 않은 값으로 array 생성"
      ],
      "metadata": {
        "id": "Ls8ct1pfmwPn",
        "colab": {
          "base_uri": "https://localhost:8080/"
        },
        "outputId": "060e162c-2284-4ebc-a0eb-f9d1d2adc895"
      },
      "execution_count": 134,
      "outputs": [
        {
          "output_type": "execute_result",
          "data": {
            "text/plain": [
              "array([[[434.49722222,  33.72222222],\n",
              "        [443.73722222,  33.72222222],\n",
              "        [452.97722222,  33.72222222]],\n",
              "\n",
              "       [[452.97722222, 403.32222222],\n",
              "        [443.73722222, 403.32222222],\n",
              "        [434.49722222, 403.32222222]]])"
            ]
          },
          "metadata": {},
          "execution_count": 134
        }
      ]
    },
    {
      "cell_type": "code",
      "source": [
        "np.full((2,3,2), 2) # 따로 입력한 값으로 채움"
      ],
      "metadata": {
        "id": "STZIoZiFm8nq",
        "colab": {
          "base_uri": "https://localhost:8080/"
        },
        "outputId": "145969cd-3625-48b3-abc9-275d5274256a"
      },
      "execution_count": 135,
      "outputs": [
        {
          "output_type": "execute_result",
          "data": {
            "text/plain": [
              "array([[[2, 2],\n",
              "        [2, 2],\n",
              "        [2, 2]],\n",
              "\n",
              "       [[2, 2],\n",
              "        [2, 2],\n",
              "        [2, 2]]])"
            ]
          },
          "metadata": {},
          "execution_count": 135
        }
      ]
    },
    {
      "cell_type": "code",
      "source": [
        "# np.arange(시작점(생략 시 0), 끝점(미포함), step size(생략 시 1))\n",
        "np.arange(15)  # range 넘파일 배열형태로 0부터 나열"
      ],
      "metadata": {
        "id": "TibchIxUnBYS",
        "colab": {
          "base_uri": "https://localhost:8080/"
        },
        "outputId": "b6c107c8-1da5-48e8-a985-15db328cb663"
      },
      "execution_count": 136,
      "outputs": [
        {
          "output_type": "execute_result",
          "data": {
            "text/plain": [
              "array([ 0,  1,  2,  3,  4,  5,  6,  7,  8,  9, 10, 11, 12, 13, 14])"
            ]
          },
          "metadata": {},
          "execution_count": 136
        }
      ]
    },
    {
      "cell_type": "code",
      "source": [
        "np.eye(6) # 항등 행렬로 대각선분1, 나머지 전부 0"
      ],
      "metadata": {
        "id": "mp4HRjbfnDqw",
        "colab": {
          "base_uri": "https://localhost:8080/"
        },
        "outputId": "5e3d3005-2b4f-4df9-e6b4-c0ed56f2d769"
      },
      "execution_count": 137,
      "outputs": [
        {
          "output_type": "execute_result",
          "data": {
            "text/plain": [
              "array([[1., 0., 0., 0., 0., 0.],\n",
              "       [0., 1., 0., 0., 0., 0.],\n",
              "       [0., 0., 1., 0., 0., 0.],\n",
              "       [0., 0., 0., 1., 0., 0.],\n",
              "       [0., 0., 0., 0., 1., 0.],\n",
              "       [0., 0., 0., 0., 0., 1.]])"
            ]
          },
          "metadata": {},
          "execution_count": 137
        }
      ]
    },
    {
      "cell_type": "code",
      "source": [
        "np.identity(6)\n",
        "# np.eyed와 마찬가지.."
      ],
      "metadata": {
        "id": "viM4cDdxnKmB",
        "colab": {
          "base_uri": "https://localhost:8080/"
        },
        "outputId": "ab616ba8-2279-4e10-b707-2fc8d0c6e3bc"
      },
      "execution_count": 138,
      "outputs": [
        {
          "output_type": "execute_result",
          "data": {
            "text/plain": [
              "array([[1., 0., 0., 0., 0., 0.],\n",
              "       [0., 1., 0., 0., 0., 0.],\n",
              "       [0., 0., 1., 0., 0., 0.],\n",
              "       [0., 0., 0., 1., 0., 0.],\n",
              "       [0., 0., 0., 0., 1., 0.],\n",
              "       [0., 0., 0., 0., 0., 1.]])"
            ]
          },
          "metadata": {},
          "execution_count": 138
        }
      ]
    },
    {
      "cell_type": "markdown",
      "source": [
        "### 넘파이 배열(array)의 자료형\n",
        "dtype을 통해 타입 지정 설정, 확인 가능\n",
        "- int8-int64\n",
        "- float16-float128\n",
        "- complex64, 128, 256\n",
        "- boolean\n",
        "- object\n",
        "- string_\n",
        "- unicode_\n",
        "\n",
        "*astype을 통해 다양한 형변환 가능"
      ],
      "metadata": {
        "id": "BpSL4RFkgSry"
      }
    },
    {
      "cell_type": "code",
      "source": [
        "arr1 = np.array([1, 2, 3], dtype=np.float64)\n",
        "arr1.dtype"
      ],
      "metadata": {
        "id": "X-L5tf82g016",
        "colab": {
          "base_uri": "https://localhost:8080/"
        },
        "outputId": "06276f7a-dc08-4045-87d1-2e7c907dc751"
      },
      "execution_count": 139,
      "outputs": [
        {
          "output_type": "execute_result",
          "data": {
            "text/plain": [
              "dtype('float64')"
            ]
          },
          "metadata": {},
          "execution_count": 139
        }
      ]
    },
    {
      "cell_type": "code",
      "source": [
        "arr2 = np.array([1, 2, 3], dtype=np.int64)\n",
        "arr2.dtype"
      ],
      "metadata": {
        "id": "9zKNp79Gh8Yi",
        "colab": {
          "base_uri": "https://localhost:8080/"
        },
        "outputId": "ff07886e-7a35-4e62-b068-8fae78e34018"
      },
      "execution_count": 140,
      "outputs": [
        {
          "output_type": "execute_result",
          "data": {
            "text/plain": [
              "dtype('int64')"
            ]
          },
          "metadata": {},
          "execution_count": 140
        }
      ]
    },
    {
      "cell_type": "code",
      "source": [
        "arr = np.array([1, 2, 3, 4, 5])\n",
        "arr.dtype"
      ],
      "metadata": {
        "id": "fCqFkxSiiIr5",
        "colab": {
          "base_uri": "https://localhost:8080/"
        },
        "outputId": "62f3c7c8-591f-4972-ae1e-e77a7427b34e"
      },
      "execution_count": 141,
      "outputs": [
        {
          "output_type": "execute_result",
          "data": {
            "text/plain": [
              "dtype('int64')"
            ]
          },
          "metadata": {},
          "execution_count": 141
        }
      ]
    },
    {
      "cell_type": "code",
      "source": [
        "float_arr = arr.astype(np.float64)\n",
        "float_arr.dtype"
      ],
      "metadata": {
        "id": "GD7Ijd_DiLoV",
        "colab": {
          "base_uri": "https://localhost:8080/"
        },
        "outputId": "4f9d231d-f2f8-484c-ad93-e4d0dc20d99e"
      },
      "execution_count": 142,
      "outputs": [
        {
          "output_type": "execute_result",
          "data": {
            "text/plain": [
              "dtype('float64')"
            ]
          },
          "metadata": {},
          "execution_count": 142
        }
      ]
    },
    {
      "cell_type": "code",
      "source": [
        "arr = np.array([1+2j, 3+4j], dtype=np.complex64)\n",
        "arr, arr.dtype"
      ],
      "metadata": {
        "id": "HTPlhHREidAf",
        "colab": {
          "base_uri": "https://localhost:8080/"
        },
        "outputId": "a642032c-4156-498d-db94-9e6581fc81cc"
      },
      "execution_count": 143,
      "outputs": [
        {
          "output_type": "execute_result",
          "data": {
            "text/plain": [
              "(array([1.+2.j, 3.+4.j], dtype=complex64), dtype('complex64'))"
            ]
          },
          "metadata": {},
          "execution_count": 143
        }
      ]
    },
    {
      "cell_type": "code",
      "source": [
        "arr = np.array([3.7, -1.2, -2.6, 0.5, 12.9, 10.1])\n",
        "arr, arr.dtype"
      ],
      "metadata": {
        "id": "K2cVfZP_io5G",
        "colab": {
          "base_uri": "https://localhost:8080/"
        },
        "outputId": "ca5194d2-9156-47b4-ec83-7b1f02027de0"
      },
      "execution_count": 144,
      "outputs": [
        {
          "output_type": "execute_result",
          "data": {
            "text/plain": [
              "(array([ 3.7, -1.2, -2.6,  0.5, 12.9, 10.1]), dtype('float64'))"
            ]
          },
          "metadata": {},
          "execution_count": 144
        }
      ]
    },
    {
      "cell_type": "code",
      "source": [
        "# astype의 활용\n",
        "arr = np.array([3.7, -1.2, -2.6, 0.5, 12.9, 10.1])\n",
        "print(arr, arr.dtype)\n",
        "arr.astype(np.int32) # np.을 붙여야함!!\n",
        "arr"
      ],
      "metadata": {
        "id": "HvivP-SAi29g",
        "colab": {
          "base_uri": "https://localhost:8080/"
        },
        "outputId": "47162627-cd10-435d-8c0a-623522d4ccc1"
      },
      "execution_count": 145,
      "outputs": [
        {
          "output_type": "stream",
          "name": "stdout",
          "text": [
            "[ 3.7 -1.2 -2.6  0.5 12.9 10.1] float64\n"
          ]
        },
        {
          "output_type": "execute_result",
          "data": {
            "text/plain": [
              "array([ 3.7, -1.2, -2.6,  0.5, 12.9, 10.1])"
            ]
          },
          "metadata": {},
          "execution_count": 145
        }
      ]
    },
    {
      "cell_type": "code",
      "source": [
        "numeric_strings = np.array([\"1.25\", \"-9.6\", \"42\"], dtype=np.string_)\n",
        "numeric_strings.astype(np.float32)\n",
        "numeric_strings"
      ],
      "metadata": {
        "id": "DL7ptWeSjSub",
        "colab": {
          "base_uri": "https://localhost:8080/"
        },
        "outputId": "c1c783d4-d348-431d-afbe-affc0dbe5323"
      },
      "execution_count": 146,
      "outputs": [
        {
          "output_type": "execute_result",
          "data": {
            "text/plain": [
              "array([b'1.25', b'-9.6', b'42'], dtype='|S4')"
            ]
          },
          "metadata": {},
          "execution_count": 146
        }
      ]
    },
    {
      "cell_type": "code",
      "source": [
        "int_array = np.arange(10)\n",
        "print(int_array)\n",
        "calibers = np.array([.22, .270, .357, .380, .44, .50], dtype=np.float64)\n",
        "int_array.astype(calibers.dtype)"
      ],
      "metadata": {
        "id": "kHaxJWAij47Q",
        "colab": {
          "base_uri": "https://localhost:8080/"
        },
        "outputId": "dd8adc1d-4397-40ab-db09-20967f591936"
      },
      "execution_count": 147,
      "outputs": [
        {
          "output_type": "stream",
          "name": "stdout",
          "text": [
            "[0 1 2 3 4 5 6 7 8 9]\n"
          ]
        },
        {
          "output_type": "execute_result",
          "data": {
            "text/plain": [
              "array([0., 1., 2., 3., 4., 5., 6., 7., 8., 9.])"
            ]
          },
          "metadata": {},
          "execution_count": 147
        }
      ]
    },
    {
      "cell_type": "markdown",
      "source": [
        "### 넘파이 배열의 산술 연산\n",
        "- for문을 작성하지 않고 일괄처리 가능\n",
        "- 기본적으로, 크기가 동일한 배열 간의 연산은 각 원소 단위로 이루어짐\n",
        "  - 그렇지 않을 경우, 브로드캐스팅의 원리를 따라 계산됨"
      ],
      "metadata": {
        "id": "-qhGe-_NkJGU"
      }
    },
    {
      "cell_type": "code",
      "source": [
        "arr0 = np.array(([1,2,3], [4,5,6]))\n",
        "arr0"
      ],
      "metadata": {
        "id": "FXwjT6TekUqU",
        "colab": {
          "base_uri": "https://localhost:8080/"
        },
        "outputId": "8f3a237a-a17e-4ebf-f84a-f2d851124fee"
      },
      "execution_count": 148,
      "outputs": [
        {
          "output_type": "execute_result",
          "data": {
            "text/plain": [
              "array([[1, 2, 3],\n",
              "       [4, 5, 6]])"
            ]
          },
          "metadata": {},
          "execution_count": 148
        }
      ]
    },
    {
      "cell_type": "code",
      "source": [
        "arr0 + np.array(3) # 브로드캐스트 원리로, 각 원소마다 3씩 더해짐."
      ],
      "metadata": {
        "id": "Mr0yz1U7kd3l",
        "colab": {
          "base_uri": "https://localhost:8080/"
        },
        "outputId": "e9df80ec-2c32-45d7-ec16-cefc423ce85b"
      },
      "execution_count": 149,
      "outputs": [
        {
          "output_type": "execute_result",
          "data": {
            "text/plain": [
              "array([[4, 5, 6],\n",
              "       [7, 8, 9]])"
            ]
          },
          "metadata": {},
          "execution_count": 149
        }
      ]
    },
    {
      "cell_type": "code",
      "source": [
        "arr0 + np.array([1, 2, 3]) # 0번째 축의 두 요소(배열)에 각각 [1, 2, 3]이 더해짐"
      ],
      "metadata": {
        "id": "mLPO9K5Yki-U",
        "colab": {
          "base_uri": "https://localhost:8080/"
        },
        "outputId": "b7a4b573-1cfe-4c19-d790-f89abb3ccb29"
      },
      "execution_count": 150,
      "outputs": [
        {
          "output_type": "execute_result",
          "data": {
            "text/plain": [
              "array([[2, 4, 6],\n",
              "       [5, 7, 9]])"
            ]
          },
          "metadata": {},
          "execution_count": 150
        }
      ]
    },
    {
      "cell_type": "code",
      "source": [
        "arr = np.array([[1., 2., 3.], [4., 5., 6.]])"
      ],
      "metadata": {
        "id": "5STagR5vlhBA"
      },
      "execution_count": 151,
      "outputs": []
    },
    {
      "cell_type": "code",
      "source": [
        "# array 산술 연산\n",
        "arr * arr"
      ],
      "metadata": {
        "id": "geOGrXqDlBJj",
        "colab": {
          "base_uri": "https://localhost:8080/"
        },
        "outputId": "8b3938ea-25b5-4abf-a50c-b72f5ef9b35a"
      },
      "execution_count": 152,
      "outputs": [
        {
          "output_type": "execute_result",
          "data": {
            "text/plain": [
              "array([[ 1.,  4.,  9.],\n",
              "       [16., 25., 36.]])"
            ]
          },
          "metadata": {},
          "execution_count": 152
        }
      ]
    },
    {
      "cell_type": "code",
      "source": [
        "arr - arr"
      ],
      "metadata": {
        "id": "vFNSoZC-lHjo",
        "colab": {
          "base_uri": "https://localhost:8080/"
        },
        "outputId": "4ccba38c-4efd-44c9-a8d2-ad34d5e360ef"
      },
      "execution_count": 153,
      "outputs": [
        {
          "output_type": "execute_result",
          "data": {
            "text/plain": [
              "array([[0., 0., 0.],\n",
              "       [0., 0., 0.]])"
            ]
          },
          "metadata": {},
          "execution_count": 153
        }
      ]
    },
    {
      "cell_type": "code",
      "source": [
        "1 / arr"
      ],
      "metadata": {
        "id": "DKJd-NrTlIYL",
        "colab": {
          "base_uri": "https://localhost:8080/"
        },
        "outputId": "3efb97d9-047e-43bf-95e0-8f5af071e1a1"
      },
      "execution_count": 154,
      "outputs": [
        {
          "output_type": "execute_result",
          "data": {
            "text/plain": [
              "array([[1.        , 0.5       , 0.33333333],\n",
              "       [0.25      , 0.2       , 0.16666667]])"
            ]
          },
          "metadata": {},
          "execution_count": 154
        }
      ]
    },
    {
      "cell_type": "code",
      "source": [
        "arr ** 2"
      ],
      "metadata": {
        "id": "PteLT547lJU_",
        "colab": {
          "base_uri": "https://localhost:8080/"
        },
        "outputId": "bd99efeb-d6af-498d-aac4-e2eaf968979a"
      },
      "execution_count": 155,
      "outputs": [
        {
          "output_type": "execute_result",
          "data": {
            "text/plain": [
              "array([[ 1.,  4.,  9.],\n",
              "       [16., 25., 36.]])"
            ]
          },
          "metadata": {},
          "execution_count": 155
        }
      ]
    },
    {
      "cell_type": "code",
      "source": [
        "arr2 = np.array([[0., 4., 1.], [7., 2., 12.]])\n",
        "arr2 > arr # 축이 맞아야 하는듯.."
      ],
      "metadata": {
        "id": "P-nx8N1hlK_k",
        "colab": {
          "base_uri": "https://localhost:8080/"
        },
        "outputId": "6b5cd1b5-96de-4c58-97df-ef044f74e891"
      },
      "execution_count": 156,
      "outputs": [
        {
          "output_type": "execute_result",
          "data": {
            "text/plain": [
              "array([[False,  True, False],\n",
              "       [ True, False,  True]])"
            ]
          },
          "metadata": {},
          "execution_count": 156
        }
      ]
    },
    {
      "cell_type": "markdown",
      "source": [
        "### 색인(index)와 슬라이싱(slicing)\n",
        "- 파이썬의 리스트에서와 비슷하게 작동\n",
        "  - arr[a:b]는 index가 a부터 b-1까지 슬라이싱\n",
        "- 다른 점은?\n",
        "  - **배열 슬라이스가 복사되지 않는, 원본 배열의 뷰(view)라는 점**"
      ],
      "metadata": {
        "id": "5qVdqPbJluMN"
      }
    },
    {
      "cell_type": "code",
      "source": [
        "arr = np.arange(10)\n",
        "arr"
      ],
      "metadata": {
        "id": "8cGKbrX5l9N6",
        "colab": {
          "base_uri": "https://localhost:8080/"
        },
        "outputId": "1153c9ff-1527-44f8-dab0-b7912743bba3"
      },
      "execution_count": 157,
      "outputs": [
        {
          "output_type": "execute_result",
          "data": {
            "text/plain": [
              "array([0, 1, 2, 3, 4, 5, 6, 7, 8, 9])"
            ]
          },
          "metadata": {},
          "execution_count": 157
        }
      ]
    },
    {
      "cell_type": "code",
      "source": [
        "arr[5:8] = 12\n",
        "arr"
      ],
      "metadata": {
        "id": "KSO8KQ7gmACJ",
        "colab": {
          "base_uri": "https://localhost:8080/"
        },
        "outputId": "351180e4-7e94-4bc8-a1c8-ca4e4567d27e"
      },
      "execution_count": 158,
      "outputs": [
        {
          "output_type": "execute_result",
          "data": {
            "text/plain": [
              "array([ 0,  1,  2,  3,  4, 12, 12, 12,  8,  9])"
            ]
          },
          "metadata": {},
          "execution_count": 158
        }
      ]
    },
    {
      "cell_type": "code",
      "source": [
        "# # 넘파이 배열의 슬라이스는 뷰(view)\n",
        "# list_a = list(range(10))\n",
        "# list_slice = list_a[5:8]\n",
        "# list_slice = [12, 12, 12]\n",
        "# list_a # 원본 배열 바뀌지 않는다."
      ],
      "metadata": {
        "id": "Q1hEMfk5mDrM"
      },
      "execution_count": 161,
      "outputs": []
    },
    {
      "cell_type": "code",
      "source": [
        "arr = np.arange(10)\n",
        "arr_slice = arr[5:8]\n",
        "arr_slice[:] = 12\n",
        "arr_slice, arr # 원본도 바뀐다!!! 뷰 이기 때문!!"
      ],
      "metadata": {
        "id": "GIrjXpqRmN9X",
        "colab": {
          "base_uri": "https://localhost:8080/"
        },
        "outputId": "98c013eb-12da-4316-cbd7-772ff379def8"
      },
      "execution_count": 162,
      "outputs": [
        {
          "output_type": "execute_result",
          "data": {
            "text/plain": [
              "(array([12, 12, 12]), array([ 0,  1,  2,  3,  4, 12, 12, 12,  8,  9]))"
            ]
          },
          "metadata": {},
          "execution_count": 162
        }
      ]
    },
    {
      "cell_type": "markdown",
      "source": [
        "### 다차원 배열 색인 (index)\n",
        "- 2차원 이상의 배열의 인덱싱에서, 리스트와 다르게 쉼표로도 호출이 가능\n",
        "  - A[0,1] vs A[0][1]\n",
        "  - 괄호를 통해 인덱싱하는 것보다 더 직관적이고 활용하기 쉬움\n",
        "  - **넘파이 배열에서는 주로 쉼표를 활용해서 인덱싱 및 슬라이싱 진행**\n",
        "- 쉼표를 통해 호출하는 것은 축을 기준으로 색인하는 방법\n",
        "  - A[a,b,c]는 0번 축에서 a번, 1번 축에서 b번, 2번 축에서 c번인 원소\n"
      ],
      "metadata": {
        "id": "uNkUB84gnck9"
      }
    },
    {
      "cell_type": "code",
      "source": [
        "arr2d = np.array([[1, 2, 3], [4, 5, 6], [7, 8, 9]])\n",
        "arr2d, arr2d[0][1], arr2d[0, 1]"
      ],
      "metadata": {
        "id": "45N-0Ce7oFjT",
        "colab": {
          "base_uri": "https://localhost:8080/"
        },
        "outputId": "8de24892-0ce5-4beb-ff50-7352d8df7b6c"
      },
      "execution_count": 163,
      "outputs": [
        {
          "output_type": "execute_result",
          "data": {
            "text/plain": [
              "(array([[1, 2, 3],\n",
              "        [4, 5, 6],\n",
              "        [7, 8, 9]]),\n",
              " 2,\n",
              " 2)"
            ]
          },
          "metadata": {},
          "execution_count": 163
        }
      ]
    },
    {
      "cell_type": "code",
      "source": [
        "arr3d = np.array([[[1, 2, 3], [4, 5, 6]], [[7, 8, 9], [10, 11, 12]]])\n",
        "arr3d, arr3d[0]"
      ],
      "metadata": {
        "id": "yAKDYxGdoQA5",
        "colab": {
          "base_uri": "https://localhost:8080/"
        },
        "outputId": "b47a93f5-cfdc-4cf7-82b3-1c309f704823"
      },
      "execution_count": 164,
      "outputs": [
        {
          "output_type": "execute_result",
          "data": {
            "text/plain": [
              "(array([[[ 1,  2,  3],\n",
              "         [ 4,  5,  6]],\n",
              " \n",
              "        [[ 7,  8,  9],\n",
              "         [10, 11, 12]]]),\n",
              " array([[1, 2, 3],\n",
              "        [4, 5, 6]]))"
            ]
          },
          "metadata": {},
          "execution_count": 164
        }
      ]
    },
    {
      "cell_type": "code",
      "source": [
        "old_values = arr3d[0].copy()\n",
        "arr3d[0] = 42\n",
        "arr3d"
      ],
      "metadata": {
        "id": "yQ1RZmtbopQw",
        "colab": {
          "base_uri": "https://localhost:8080/"
        },
        "outputId": "3f3f5bff-e0d1-4936-82ff-fbd1758243a6"
      },
      "execution_count": 165,
      "outputs": [
        {
          "output_type": "execute_result",
          "data": {
            "text/plain": [
              "array([[[42, 42, 42],\n",
              "        [42, 42, 42]],\n",
              "\n",
              "       [[ 7,  8,  9],\n",
              "        [10, 11, 12]]])"
            ]
          },
          "metadata": {},
          "execution_count": 165
        }
      ]
    },
    {
      "cell_type": "code",
      "source": [
        "arr3d[0] = old_values\n",
        "arr3d"
      ],
      "metadata": {
        "id": "CCGPpsrpowbZ",
        "colab": {
          "base_uri": "https://localhost:8080/"
        },
        "outputId": "9e8dbb98-e222-4bb0-a15f-6ab7207e3bdb"
      },
      "execution_count": 166,
      "outputs": [
        {
          "output_type": "execute_result",
          "data": {
            "text/plain": [
              "array([[[ 1,  2,  3],\n",
              "        [ 4,  5,  6]],\n",
              "\n",
              "       [[ 7,  8,  9],\n",
              "        [10, 11, 12]]])"
            ]
          },
          "metadata": {},
          "execution_count": 166
        }
      ]
    },
    {
      "cell_type": "markdown",
      "source": [
        "### 다차원 배열 슬라이싱(slicing)\n",
        "- 1차원 슬라이싱은 리스트와 동일\n",
        "- 2차원부터는 쉼표로 구분하냐, 괄호로 구분하냐의 차이 존재\n",
        "  - arr2d[:][:2] vs arr2d[:, :2]\n",
        "    - 쉼표로 구분시, 축을 따라 선택 영역 내의 원소 선택\n",
        "    - 괄호로 구분시, 리스트처럼 축의 개념 없이 원소의 나열로 이해\n",
        "    - 쉼표로 구분하는 것이 직관적이고 유용\n",
        "\n",
        "*3x3의 2차원 배열이 있다고 했을 때, (코드 | 형태)\n",
        "- arr[2] → (3, ) # 차원이 줄어듦\n",
        "- arr[2, :] → (3, )\n",
        "- arr[2:, :] → (1, 3) # 차원이 줄어들지 않음\n",
        "- arr[:, :2] → (3, 2)\n",
        "- arr[1, :2] → (2, ) # 차원이 줄어듦. 지정했으므로\n",
        "- arr[1:2, :2] → (1, 2) # 차원이 줄어들지 않음"
      ],
      "metadata": {
        "id": "xUTz9DOGo2Mb"
      }
    },
    {
      "cell_type": "code",
      "source": [
        "arr, arr[1:6]"
      ],
      "metadata": {
        "id": "FjJOUr5sqC2y",
        "colab": {
          "base_uri": "https://localhost:8080/"
        },
        "outputId": "9bf44632-bbab-4f5e-e1ee-36deed173e59"
      },
      "execution_count": 167,
      "outputs": [
        {
          "output_type": "execute_result",
          "data": {
            "text/plain": [
              "(array([ 0,  1,  2,  3,  4, 12, 12, 12,  8,  9]), array([ 1,  2,  3,  4, 12]))"
            ]
          },
          "metadata": {},
          "execution_count": 167
        }
      ]
    },
    {
      "cell_type": "code",
      "source": [
        "arr2d"
      ],
      "metadata": {
        "id": "H7zHuVgrrRL5",
        "colab": {
          "base_uri": "https://localhost:8080/"
        },
        "outputId": "05a3d558-51a0-4e84-9c22-9237b2261221"
      },
      "execution_count": 168,
      "outputs": [
        {
          "output_type": "execute_result",
          "data": {
            "text/plain": [
              "array([[1, 2, 3],\n",
              "       [4, 5, 6],\n",
              "       [7, 8, 9]])"
            ]
          },
          "metadata": {},
          "execution_count": 168
        }
      ]
    },
    {
      "cell_type": "code",
      "source": [
        "arr2d[:][:2] # 축의 개념 없이 원소의 나열로 이해 → 모든 행 반환 후, 첫번째 결과에 대해 다시 첫 두 행 선택."
      ],
      "metadata": {
        "id": "32hQEFTnrTKr",
        "colab": {
          "base_uri": "https://localhost:8080/"
        },
        "outputId": "12018495-b12e-4cf4-cfe9-3360c91f4db1"
      },
      "execution_count": 169,
      "outputs": [
        {
          "output_type": "execute_result",
          "data": {
            "text/plain": [
              "array([[1, 2, 3],\n",
              "       [4, 5, 6]])"
            ]
          },
          "metadata": {},
          "execution_count": 169
        }
      ]
    },
    {
      "cell_type": "code",
      "source": [
        "arr2d[:, :2]"
      ],
      "metadata": {
        "id": "DefhmY7trfSe",
        "colab": {
          "base_uri": "https://localhost:8080/"
        },
        "outputId": "e40cc146-4af2-4efe-e479-f5b13bab07f0"
      },
      "execution_count": 170,
      "outputs": [
        {
          "output_type": "execute_result",
          "data": {
            "text/plain": [
              "array([[1, 2],\n",
              "       [4, 5],\n",
              "       [7, 8]])"
            ]
          },
          "metadata": {},
          "execution_count": 170
        }
      ]
    },
    {
      "cell_type": "markdown",
      "source": [
        "### 색인(index)와 슬라이싱(slicing) 기초\n",
        "- [[[1,2,3], [4,5,6]], [[7,8,9], [10,11,12]], [[13,14,15], [16,17,18]]] 을 아래와 같이 바꿔보자.\n",
        "\n",
        "1. [[[1000,2,3], [1000,5,6]], [[1000,8,9], [1000,11,12]], [[13,14,15], [16,17,18]]]\n",
        "1-A. A=np.array([[[1,2,3], [4,5,6]], [[7,8,9], [10,11,12]], [[13,14,15], [16,17,18]]])\n",
        "\n",
        "A[:2,:,0] = 1000\n",
        "\n",
        "→ 세 개의 축 중 0, 1번째의 축까지 자른 뒤, 그 중 모든 요소의 0번째 값에 1000 대입\n",
        "\n",
        "---\n",
        "\n",
        "2. [[[1000,1000,3], [4,5,6]], [[1000,1000,9], [10,11,12]], [[1000,1000,15], [16,17,18]]]\n",
        "2-A. A[:,0,:2]=1000\n",
        "\n",
        "→ 세 개의 모든 축의 0번째 요소의 0, 1번째 값에 1000 대입"
      ],
      "metadata": {
        "id": "K7nbs41vtHxs"
      }
    },
    {
      "cell_type": "markdown",
      "source": [
        "### 불리언 값으로 선택하기\n",
        "- 넘파이 배열 인덱싱에 불리언 배열을 대입하여 선택 가능\n",
        "- 불리언 배열을 포함한 다차원 색인\n",
        "  - 슬라이싱과 원소 선택에 있어서 혼합적으로 활용 가능\n",
        "- 그 밖, 다양한 조건연산자를 활용한 불리언 색인 예시.."
      ],
      "metadata": {
        "id": "SkVKNMWaFWgR"
      }
    },
    {
      "cell_type": "code",
      "source": [
        "names = np.array([\"Bob\", \"Joe\", \"Will\", \"Bob\", \"Will\", \"Joe\", \"Joe\"])\n",
        "data = np.array([[4, 7], [0, 2], [-5, 6], [0, 0], [1, 2],\n",
        "                 [-12, -4], [3, 4]])\n",
        "print(names, data)"
      ],
      "metadata": {
        "id": "wuHSfZaUFsA3",
        "colab": {
          "base_uri": "https://localhost:8080/"
        },
        "outputId": "9cb4f56c-77f8-4e98-c291-788b13988fa3"
      },
      "execution_count": 171,
      "outputs": [
        {
          "output_type": "stream",
          "name": "stdout",
          "text": [
            "['Bob' 'Joe' 'Will' 'Bob' 'Will' 'Joe' 'Joe'] [[  4   7]\n",
            " [  0   2]\n",
            " [ -5   6]\n",
            " [  0   0]\n",
            " [  1   2]\n",
            " [-12  -4]\n",
            " [  3   4]]\n"
          ]
        }
      ]
    },
    {
      "cell_type": "code",
      "source": [
        "names == \"Bob\""
      ],
      "metadata": {
        "id": "qjxjv9DzGB_V",
        "colab": {
          "base_uri": "https://localhost:8080/"
        },
        "outputId": "1dc9b669-178a-4bff-8a72-4cf1db2c5c09"
      },
      "execution_count": 172,
      "outputs": [
        {
          "output_type": "execute_result",
          "data": {
            "text/plain": [
              "array([ True, False, False,  True, False, False, False])"
            ]
          },
          "metadata": {},
          "execution_count": 172
        }
      ]
    },
    {
      "cell_type": "code",
      "source": [
        "data[names == \"Bob\"]"
      ],
      "metadata": {
        "id": "1t7bDz0oGD31",
        "colab": {
          "base_uri": "https://localhost:8080/"
        },
        "outputId": "8f28e584-81ea-4157-b89c-23fb9a87c451"
      },
      "execution_count": 173,
      "outputs": [
        {
          "output_type": "execute_result",
          "data": {
            "text/plain": [
              "array([[4, 7],\n",
              "       [0, 0]])"
            ]
          },
          "metadata": {},
          "execution_count": 173
        }
      ]
    },
    {
      "cell_type": "code",
      "source": [
        "list = np.array([[4, 7], [0, 2], [-5, 6], [0, 0], [1, 2],\n",
        "        [-12, -4], [-3, 4]])\n",
        "list > 3"
      ],
      "metadata": {
        "id": "raOIcgB6GGY_",
        "colab": {
          "base_uri": "https://localhost:8080/"
        },
        "outputId": "bf3b7508-7423-4535-9012-927618c6f09c"
      },
      "execution_count": 174,
      "outputs": [
        {
          "output_type": "execute_result",
          "data": {
            "text/plain": [
              "array([[ True,  True],\n",
              "       [False, False],\n",
              "       [False,  True],\n",
              "       [False, False],\n",
              "       [False, False],\n",
              "       [False, False],\n",
              "       [False,  True]])"
            ]
          },
          "metadata": {},
          "execution_count": 174
        }
      ]
    },
    {
      "cell_type": "code",
      "source": [
        "# 불리언 배열을 포함한 다차원 색인\n",
        "data[names == \"Bob\", 1:] # Bob이 있는지 확인하고, 두 번째 열부터 끝까지 선택 (현재는 두 번째 열까지만 존재)\n",
        "# Bob에 해당하는 행은 첫 번째와 네 번째 행이고, 그들의 두 번째 열 값을 선택시 [7]과 [0]이 나옴"
      ],
      "metadata": {
        "id": "naj1NdHcGNa8",
        "colab": {
          "base_uri": "https://localhost:8080/"
        },
        "outputId": "d99e0d77-4c3d-441d-91c5-ba7038ed210c"
      },
      "execution_count": 175,
      "outputs": [
        {
          "output_type": "execute_result",
          "data": {
            "text/plain": [
              "array([[7],\n",
              "       [0]])"
            ]
          },
          "metadata": {},
          "execution_count": 175
        }
      ]
    },
    {
      "cell_type": "code",
      "source": [
        "data[names == \"Bob\", 1] # Bob에 해당하는 행을 선택한 후, 두 번째 열만 선택"
      ],
      "metadata": {
        "id": "Hfhe4DKrHrFj",
        "colab": {
          "base_uri": "https://localhost:8080/"
        },
        "outputId": "97fe08e3-3222-4a65-b3bf-1eb356fa1c28"
      },
      "execution_count": 176,
      "outputs": [
        {
          "output_type": "execute_result",
          "data": {
            "text/plain": [
              "array([7, 0])"
            ]
          },
          "metadata": {},
          "execution_count": 176
        }
      ]
    },
    {
      "cell_type": "code",
      "source": [
        "# 조건 연산자나, 불리언 연산자 활용\n",
        "names != \"Bob\""
      ],
      "metadata": {
        "id": "VWM2O4vnH0sg",
        "colab": {
          "base_uri": "https://localhost:8080/"
        },
        "outputId": "83fb12f5-0c9b-4124-c556-f902725f8588"
      },
      "execution_count": 177,
      "outputs": [
        {
          "output_type": "execute_result",
          "data": {
            "text/plain": [
              "array([False,  True,  True, False,  True,  True,  True])"
            ]
          },
          "metadata": {},
          "execution_count": 177
        }
      ]
    },
    {
      "cell_type": "code",
      "source": [
        "~(names == \"Bob\")"
      ],
      "metadata": {
        "id": "u8Z1grX-I2kM",
        "colab": {
          "base_uri": "https://localhost:8080/"
        },
        "outputId": "b372ee55-2966-47cb-c638-1205978a6064"
      },
      "execution_count": 178,
      "outputs": [
        {
          "output_type": "execute_result",
          "data": {
            "text/plain": [
              "array([False,  True,  True, False,  True,  True,  True])"
            ]
          },
          "metadata": {},
          "execution_count": 178
        }
      ]
    },
    {
      "cell_type": "code",
      "source": [
        "data[~(names == \"Bob\")]"
      ],
      "metadata": {
        "id": "B3DOBi8FI32d",
        "colab": {
          "base_uri": "https://localhost:8080/"
        },
        "outputId": "8092c1d2-76ab-4c10-b0d7-d4711fae98a6"
      },
      "execution_count": 179,
      "outputs": [
        {
          "output_type": "execute_result",
          "data": {
            "text/plain": [
              "array([[  0,   2],\n",
              "       [ -5,   6],\n",
              "       [  1,   2],\n",
              "       [-12,  -4],\n",
              "       [  3,   4]])"
            ]
          },
          "metadata": {},
          "execution_count": 179
        }
      ]
    },
    {
      "cell_type": "code",
      "source": [
        "# # numpy2 p.3  다양한 조건연산자를 활용한 불리언 색인 예시\n",
        "# names2 = np.array([\"Bob\", \"Steven\", \"Susan\", \"Stella\"])\n",
        "# genders = np.array([\"M\", \"M\", \"F\", \"F\"])\n",
        "# ages = np.array([36, 22, 42, 26])\n",
        "\n",
        "# names[ages>30], genders[(names2!='Susan') & (names2!=\"Stella\")], ages[genders == 'F']"
      ],
      "metadata": {
        "id": "0SQD-QfyI_VM"
      },
      "execution_count": 180,
      "outputs": []
    },
    {
      "cell_type": "code",
      "source": [
        "# 불리언 배열을 따로 변수로 지정해서 활용\n",
        "cond = names == \"Bob\"\n",
        "cond"
      ],
      "metadata": {
        "id": "8mAkJz0-JmXD",
        "colab": {
          "base_uri": "https://localhost:8080/"
        },
        "outputId": "a7b8b797-beb4-44c8-a7ce-0c86983c07c6"
      },
      "execution_count": 181,
      "outputs": [
        {
          "output_type": "execute_result",
          "data": {
            "text/plain": [
              "array([ True, False, False,  True, False, False, False])"
            ]
          },
          "metadata": {},
          "execution_count": 181
        }
      ]
    },
    {
      "cell_type": "code",
      "source": [
        "data[~cond] # names == \"Bob\"이 아닌 애들만 출력."
      ],
      "metadata": {
        "id": "5e5U7Zh8J2AV",
        "colab": {
          "base_uri": "https://localhost:8080/"
        },
        "outputId": "36475980-affe-47bc-9dc5-1b89c9a1fb69"
      },
      "execution_count": 182,
      "outputs": [
        {
          "output_type": "execute_result",
          "data": {
            "text/plain": [
              "array([[  0,   2],\n",
              "       [ -5,   6],\n",
              "       [  1,   2],\n",
              "       [-12,  -4],\n",
              "       [  3,   4]])"
            ]
          },
          "metadata": {},
          "execution_count": 182
        }
      ]
    },
    {
      "cell_type": "code",
      "source": [
        "# and나 or 사용 불가능, &나 |를 사용해야함\n",
        "mask = (names == \"Bob\") | (names == \"Will\")\n",
        "mask"
      ],
      "metadata": {
        "id": "cNCfAkCbwcsA",
        "colab": {
          "base_uri": "https://localhost:8080/"
        },
        "outputId": "d4f1adbb-1494-47d4-8ddc-c541cb758715"
      },
      "execution_count": 183,
      "outputs": [
        {
          "output_type": "execute_result",
          "data": {
            "text/plain": [
              "array([ True, False,  True,  True,  True, False, False])"
            ]
          },
          "metadata": {},
          "execution_count": 183
        }
      ]
    },
    {
      "cell_type": "code",
      "source": [
        "data[mask] # Bob이나 Wil인 애들의 데이터만 출력"
      ],
      "metadata": {
        "colab": {
          "base_uri": "https://localhost:8080/"
        },
        "id": "HZWXO_94zAVy",
        "outputId": "c5363e02-6fd2-4f3c-b86b-b6498bc52223"
      },
      "execution_count": 184,
      "outputs": [
        {
          "output_type": "execute_result",
          "data": {
            "text/plain": [
              "array([[ 4,  7],\n",
              "       [-5,  6],\n",
              "       [ 0,  0],\n",
              "       [ 1,  2]])"
            ]
          },
          "metadata": {},
          "execution_count": 184
        }
      ]
    },
    {
      "cell_type": "code",
      "source": [
        "# 불리언 값 선택과 브로드 캐스팅\n",
        "data < 0"
      ],
      "metadata": {
        "colab": {
          "base_uri": "https://localhost:8080/"
        },
        "id": "q0486Y8xzCTk",
        "outputId": "aa25e995-fc0e-4e82-d425-0c5e184f041b"
      },
      "execution_count": 185,
      "outputs": [
        {
          "output_type": "execute_result",
          "data": {
            "text/plain": [
              "array([[False, False],\n",
              "       [False, False],\n",
              "       [ True, False],\n",
              "       [False, False],\n",
              "       [False, False],\n",
              "       [ True,  True],\n",
              "       [False, False]])"
            ]
          },
          "metadata": {},
          "execution_count": 185
        }
      ]
    },
    {
      "cell_type": "code",
      "source": [
        "data[data < 0] = 0 # 음수인 값을 0으로 대체\n",
        "data"
      ],
      "metadata": {
        "colab": {
          "base_uri": "https://localhost:8080/"
        },
        "id": "IG_jBDl8zKPH",
        "outputId": "97b6b198-9fcf-4c7e-e69c-33df1dcab28d"
      },
      "execution_count": 186,
      "outputs": [
        {
          "output_type": "execute_result",
          "data": {
            "text/plain": [
              "array([[4, 7],\n",
              "       [0, 2],\n",
              "       [0, 6],\n",
              "       [0, 0],\n",
              "       [1, 2],\n",
              "       [0, 0],\n",
              "       [3, 4]])"
            ]
          },
          "metadata": {},
          "execution_count": 186
        }
      ]
    },
    {
      "cell_type": "code",
      "source": [
        "data[names != \"Joe\"] = 7\n",
        "data"
      ],
      "metadata": {
        "colab": {
          "base_uri": "https://localhost:8080/"
        },
        "id": "YDxMQiiU0HdX",
        "outputId": "379556e8-2cfd-4168-fa84-6f6b47f4f5f0"
      },
      "execution_count": 187,
      "outputs": [
        {
          "output_type": "execute_result",
          "data": {
            "text/plain": [
              "array([[7, 7],\n",
              "       [0, 2],\n",
              "       [7, 7],\n",
              "       [7, 7],\n",
              "       [7, 7],\n",
              "       [0, 0],\n",
              "       [3, 4]])"
            ]
          },
          "metadata": {},
          "execution_count": 187
        }
      ]
    },
    {
      "cell_type": "code",
      "source": [
        "names = np.array([\"B\", \"S\", \"Su\", \"St\"])\n",
        "ages = np.array([36, 22, 42, 46])\n",
        "genders = np.array(['M', 'M', \"F\", \"F\"])\n",
        "names[ages > 30]"
      ],
      "metadata": {
        "colab": {
          "base_uri": "https://localhost:8080/"
        },
        "id": "u-nIsNDu0QC3",
        "outputId": "ea564166-e932-4e74-d7a3-67dd70fc97a1"
      },
      "execution_count": 188,
      "outputs": [
        {
          "output_type": "execute_result",
          "data": {
            "text/plain": [
              "array(['B', 'Su', 'St'], dtype='<U2')"
            ]
          },
          "metadata": {},
          "execution_count": 188
        }
      ]
    },
    {
      "cell_type": "code",
      "source": [
        "genders[(names != 'Su') & (names != 'St')]"
      ],
      "metadata": {
        "colab": {
          "base_uri": "https://localhost:8080/"
        },
        "id": "nxI7IOxB0hCO",
        "outputId": "28fed3d5-08af-46f1-fa1f-b7ebb2176472"
      },
      "execution_count": 189,
      "outputs": [
        {
          "output_type": "execute_result",
          "data": {
            "text/plain": [
              "array(['M', 'M'], dtype='<U1')"
            ]
          },
          "metadata": {},
          "execution_count": 189
        }
      ]
    },
    {
      "cell_type": "code",
      "source": [
        "ages[genders == 'F']"
      ],
      "metadata": {
        "colab": {
          "base_uri": "https://localhost:8080/"
        },
        "id": "0UPu-0O00n9-",
        "outputId": "23e9efa2-d105-47c4-efe7-9f59b29b02c0"
      },
      "execution_count": 190,
      "outputs": [
        {
          "output_type": "execute_result",
          "data": {
            "text/plain": [
              "array([42, 46])"
            ]
          },
          "metadata": {},
          "execution_count": 190
        }
      ]
    },
    {
      "cell_type": "markdown",
      "source": [
        "### 팬시 색인\n",
        "- 정수 배열을 사용한 색인을 뜻함 (인덱싱)\n",
        "  - 예시) Data[[0,1,5,8]] -> 0번축의 0, 1, 5, 8번 요소 순서대로 나열.\n",
        "- 넘파이 배열에서의 활용도가 높음\n",
        "- **다차원 팬시 색인**"
      ],
      "metadata": {
        "id": "97rn5fFs0t1g"
      }
    },
    {
      "cell_type": "code",
      "source": [
        "arr = np.zeros((8, 4))\n",
        "for i in range(8):\n",
        "  arr[i] = i\n",
        "arr"
      ],
      "metadata": {
        "colab": {
          "base_uri": "https://localhost:8080/"
        },
        "id": "M1Fo7ycL03_k",
        "outputId": "83552269-1a4f-42e3-89b6-79c3ffe82734"
      },
      "execution_count": 191,
      "outputs": [
        {
          "output_type": "execute_result",
          "data": {
            "text/plain": [
              "array([[0., 0., 0., 0.],\n",
              "       [1., 1., 1., 1.],\n",
              "       [2., 2., 2., 2.],\n",
              "       [3., 3., 3., 3.],\n",
              "       [4., 4., 4., 4.],\n",
              "       [5., 5., 5., 5.],\n",
              "       [6., 6., 6., 6.],\n",
              "       [7., 7., 7., 7.]])"
            ]
          },
          "metadata": {},
          "execution_count": 191
        }
      ]
    },
    {
      "cell_type": "code",
      "source": [
        "arr[[4, 3, 0, 6]]"
      ],
      "metadata": {
        "colab": {
          "base_uri": "https://localhost:8080/"
        },
        "id": "GkZFHw770-Fs",
        "outputId": "c816582f-ba70-450e-d000-af4afe0de5bc"
      },
      "execution_count": 192,
      "outputs": [
        {
          "output_type": "execute_result",
          "data": {
            "text/plain": [
              "array([[4., 4., 4., 4.],\n",
              "       [3., 3., 3., 3.],\n",
              "       [0., 0., 0., 0.],\n",
              "       [6., 6., 6., 6.]])"
            ]
          },
          "metadata": {},
          "execution_count": 192
        }
      ]
    },
    {
      "cell_type": "code",
      "source": [
        "arr[[-3, -5, -7]] # 마지막에서 3번째, 5번째, 7번째 요소 출력"
      ],
      "metadata": {
        "colab": {
          "base_uri": "https://localhost:8080/"
        },
        "id": "srb_8Wzj1Buv",
        "outputId": "ce5be976-ed3b-4963-ba9b-212512dd7786"
      },
      "execution_count": 193,
      "outputs": [
        {
          "output_type": "execute_result",
          "data": {
            "text/plain": [
              "array([[5., 5., 5., 5.],\n",
              "       [3., 3., 3., 3.],\n",
              "       [1., 1., 1., 1.]])"
            ]
          },
          "metadata": {},
          "execution_count": 193
        }
      ]
    },
    {
      "cell_type": "markdown",
      "source": [
        "### 다차원 팬시 색인. 중요!!!"
      ],
      "metadata": {
        "id": "Aoc87NaK1mA2"
      }
    },
    {
      "cell_type": "code",
      "source": [
        "# reshape 메서드를 활용해서 파라미터의 튜플 형태를 shape, 해당 shape에 맞게 재배열\n",
        "arr = np.arange(32).reshape((8, 4)) # 0부터 31까지의 숫자를 순차적으로 생성..\n",
        "arr"
      ],
      "metadata": {
        "colab": {
          "base_uri": "https://localhost:8080/"
        },
        "id": "Up5M38bW1YRC",
        "outputId": "cbd558c1-c5ee-40ee-93df-d4a4d2c75eeb"
      },
      "execution_count": 194,
      "outputs": [
        {
          "output_type": "execute_result",
          "data": {
            "text/plain": [
              "array([[ 0,  1,  2,  3],\n",
              "       [ 4,  5,  6,  7],\n",
              "       [ 8,  9, 10, 11],\n",
              "       [12, 13, 14, 15],\n",
              "       [16, 17, 18, 19],\n",
              "       [20, 21, 22, 23],\n",
              "       [24, 25, 26, 27],\n",
              "       [28, 29, 30, 31]])"
            ]
          },
          "metadata": {},
          "execution_count": 194
        }
      ]
    },
    {
      "cell_type": "code",
      "source": [
        "arr[[1,5,7,2]] # 0번 축의 1, 5, 7, 2번 요소 순서대로 나열 (특정 행 선택)"
      ],
      "metadata": {
        "colab": {
          "base_uri": "https://localhost:8080/"
        },
        "id": "mvs5DF2j1xUq",
        "outputId": "e6f5e540-4250-4e86-d4d5-768aba1b0fa4"
      },
      "execution_count": 195,
      "outputs": [
        {
          "output_type": "execute_result",
          "data": {
            "text/plain": [
              "array([[ 4,  5,  6,  7],\n",
              "       [20, 21, 22, 23],\n",
              "       [28, 29, 30, 31],\n",
              "       [ 8,  9, 10, 11]])"
            ]
          },
          "metadata": {},
          "execution_count": 195
        }
      ]
    },
    {
      "cell_type": "code",
      "source": [
        "arr[[1,5,7,2], [0,3,1,2]] # 1, 5, 7, 2번 행들 선택 후 0번 행의 0번, 1번 행의 3번, 2번 행의 1번, 3번 행의 2번을 출력."
      ],
      "metadata": {
        "colab": {
          "base_uri": "https://localhost:8080/"
        },
        "id": "WRR9A-b02Mu1",
        "outputId": "f94a8ec8-f7a5-4364-c60d-8311ef8ba6f0"
      },
      "execution_count": 196,
      "outputs": [
        {
          "output_type": "execute_result",
          "data": {
            "text/plain": [
              "array([ 4, 23, 29, 10])"
            ]
          },
          "metadata": {},
          "execution_count": 196
        }
      ]
    },
    {
      "cell_type": "code",
      "source": [
        "arr[[1, 5, 7, 2]][:, [0, 3, 1, 2]] # 특정 행, 모든 열 선택 후 -> 0, 3, 1, 2번 열을 순서대로 출력."
      ],
      "metadata": {
        "colab": {
          "base_uri": "https://localhost:8080/"
        },
        "id": "ugjbazS52Vin",
        "outputId": "6d4e6c4f-4bee-4a38-a467-6e7a45ed4740"
      },
      "execution_count": 197,
      "outputs": [
        {
          "output_type": "execute_result",
          "data": {
            "text/plain": [
              "array([[ 4,  7,  5,  6],\n",
              "       [20, 23, 21, 22],\n",
              "       [28, 31, 29, 30],\n",
              "       [ 8, 11,  9, 10]])"
            ]
          },
          "metadata": {},
          "execution_count": 197
        }
      ]
    },
    {
      "cell_type": "code",
      "source": [
        "arr[[1, 5, 7, 2], [0, 3, 1, 2]] # 특정 행 선택 후 0번 열의 0번요소, 1번 행의 3번 요소, 2번 행의 1번 요소, 3번 행의 2번요소 선택\n",
        "arr[[1, 5, 7, 2], [0, 3, 1, 2]] = 0 # 그 요소들을 0으로 대체\n",
        "arr"
      ],
      "metadata": {
        "colab": {
          "base_uri": "https://localhost:8080/"
        },
        "id": "Q3U4iU732zhd",
        "outputId": "2fbd56f6-1395-4b27-e9b5-edc2c724b9a5"
      },
      "execution_count": 198,
      "outputs": [
        {
          "output_type": "execute_result",
          "data": {
            "text/plain": [
              "array([[ 0,  1,  2,  3],\n",
              "       [ 0,  5,  6,  7],\n",
              "       [ 8,  9,  0, 11],\n",
              "       [12, 13, 14, 15],\n",
              "       [16, 17, 18, 19],\n",
              "       [20, 21, 22,  0],\n",
              "       [24, 25, 26, 27],\n",
              "       [28,  0, 30, 31]])"
            ]
          },
          "metadata": {},
          "execution_count": 198
        }
      ]
    },
    {
      "cell_type": "markdown",
      "source": [
        "### 행렬 전치, 배열 축 바꾸기, 행렬 곱\n",
        "- 행렬 전치 (transpose)\n",
        "  - transpose() 메서드\n",
        "  - T 속성\n",
        "  - 행과 열이 바뀐 view를 반환.\n",
        "- 축 바꾸기 메서드 (A.swapaxes(0,1))\n",
        "  - 축을 바꾼 view를 반환.\n",
        "\n",
        "-> 배열을 변형하진 않고, 원본 배열을 참조하는 새로운 배열을 생성함.\n",
        "view에서 특정 요소를 수정하면 원본 배열의 해당 요소도 변경됨\n",
        "\n",
        "- 행렬의 곱\n",
        "  - np.dot(A,B)\n",
        "  - A.dot(B)"
      ],
      "metadata": {
        "id": "qExEJ2KD5VcP"
      }
    },
    {
      "cell_type": "code",
      "source": [
        "arr = np.arange(15).reshape((3,5))\n",
        "arr"
      ],
      "metadata": {
        "colab": {
          "base_uri": "https://localhost:8080/"
        },
        "id": "1Z_JHsd93b3g",
        "outputId": "769d6456-4f1a-465f-ea01-1022775a2344"
      },
      "execution_count": 199,
      "outputs": [
        {
          "output_type": "execute_result",
          "data": {
            "text/plain": [
              "array([[ 0,  1,  2,  3,  4],\n",
              "       [ 5,  6,  7,  8,  9],\n",
              "       [10, 11, 12, 13, 14]])"
            ]
          },
          "metadata": {},
          "execution_count": 199
        }
      ]
    },
    {
      "cell_type": "code",
      "source": [
        "arr.T # 전치.. (행<->열)"
      ],
      "metadata": {
        "colab": {
          "base_uri": "https://localhost:8080/"
        },
        "id": "R2GOogrd5rQH",
        "outputId": "9082cb71-5e40-47a2-e8b7-4ac376a61c59"
      },
      "execution_count": 200,
      "outputs": [
        {
          "output_type": "execute_result",
          "data": {
            "text/plain": [
              "array([[ 0,  5, 10],\n",
              "       [ 1,  6, 11],\n",
              "       [ 2,  7, 12],\n",
              "       [ 3,  8, 13],\n",
              "       [ 4,  9, 14]])"
            ]
          },
          "metadata": {},
          "execution_count": 200
        }
      ]
    },
    {
      "cell_type": "code",
      "source": [
        "arr_t = arr.transpose() # 전치 (행<->열)\n",
        "arr_t, arr # 원본 배열 자체가 전치되진 않는다."
      ],
      "metadata": {
        "colab": {
          "base_uri": "https://localhost:8080/"
        },
        "id": "5ZMPa3vr5u6V",
        "outputId": "64652915-0860-4693-e0f2-63de3e856c98"
      },
      "execution_count": 201,
      "outputs": [
        {
          "output_type": "execute_result",
          "data": {
            "text/plain": [
              "(array([[ 0,  5, 10],\n",
              "        [ 1,  6, 11],\n",
              "        [ 2,  7, 12],\n",
              "        [ 3,  8, 13],\n",
              "        [ 4,  9, 14]]),\n",
              " array([[ 0,  1,  2,  3,  4],\n",
              "        [ 5,  6,  7,  8,  9],\n",
              "        [10, 11, 12, 13, 14]]))"
            ]
          },
          "metadata": {},
          "execution_count": 201
        }
      ]
    },
    {
      "cell_type": "code",
      "source": [
        "arr_t[0,:] = 1\n",
        "arr # transpose는 view (복사하지 않고 메모리 상에서 재배열된 형태를 보여줌. 원본 데이터와 연결)"
      ],
      "metadata": {
        "colab": {
          "base_uri": "https://localhost:8080/"
        },
        "id": "QWjbNANP50jW",
        "outputId": "c70b9274-758d-41b9-8f64-8e411d7f59d2"
      },
      "execution_count": 202,
      "outputs": [
        {
          "output_type": "execute_result",
          "data": {
            "text/plain": [
              "array([[ 1,  1,  2,  3,  4],\n",
              "       [ 1,  6,  7,  8,  9],\n",
              "       [ 1, 11, 12, 13, 14]])"
            ]
          },
          "metadata": {},
          "execution_count": 202
        }
      ]
    },
    {
      "cell_type": "code",
      "source": [
        "arr_swap = arr.swapaxes(0,1) # 축 바꾸기 (0번<->1번축)\n",
        "arr_swap[1,:] = 1\n",
        "arr_swap, arr"
      ],
      "metadata": {
        "colab": {
          "base_uri": "https://localhost:8080/"
        },
        "id": "N2_cA35D7X03",
        "outputId": "d21c337b-b8a4-4eec-a69f-eb402ae56b23"
      },
      "execution_count": 203,
      "outputs": [
        {
          "output_type": "execute_result",
          "data": {
            "text/plain": [
              "(array([[ 1,  1,  1],\n",
              "        [ 1,  1,  1],\n",
              "        [ 2,  7, 12],\n",
              "        [ 3,  8, 13],\n",
              "        [ 4,  9, 14]]),\n",
              " array([[ 1,  1,  2,  3,  4],\n",
              "        [ 1,  1,  7,  8,  9],\n",
              "        [ 1,  1, 12, 13, 14]]))"
            ]
          },
          "metadata": {},
          "execution_count": 203
        }
      ]
    },
    {
      "cell_type": "code",
      "source": [
        "# 행렬의 곱\n",
        "arr = np.array([[0, 1, 0], [1, 2, -2], [6, 3, 2], [-1, 0, -1], [1, 0, 1]])\n",
        "arr"
      ],
      "metadata": {
        "colab": {
          "base_uri": "https://localhost:8080/"
        },
        "id": "Bo4OgPwU8JMM",
        "outputId": "1f45b8b7-c2a2-4eda-abff-53dd2a211d82"
      },
      "execution_count": 204,
      "outputs": [
        {
          "output_type": "execute_result",
          "data": {
            "text/plain": [
              "array([[ 0,  1,  0],\n",
              "       [ 1,  2, -2],\n",
              "       [ 6,  3,  2],\n",
              "       [-1,  0, -1],\n",
              "       [ 1,  0,  1]])"
            ]
          },
          "metadata": {},
          "execution_count": 204
        }
      ]
    },
    {
      "cell_type": "code",
      "source": [
        "np.dot(arr.T, arr) # 기존 arr과 전치된 arr를 곱함"
      ],
      "metadata": {
        "colab": {
          "base_uri": "https://localhost:8080/"
        },
        "id": "apRcfFdp8w6Z",
        "outputId": "10ed0bff-cc93-46d8-cfaf-32045ae2e1dc"
      },
      "execution_count": 205,
      "outputs": [
        {
          "output_type": "execute_result",
          "data": {
            "text/plain": [
              "array([[39, 20, 12],\n",
              "       [20, 14,  2],\n",
              "       [12,  2, 10]])"
            ]
          },
          "metadata": {},
          "execution_count": 205
        }
      ]
    },
    {
      "cell_type": "code",
      "source": [
        "arr.T.dot(arr) # arr.T에 arr를 곱함"
      ],
      "metadata": {
        "colab": {
          "base_uri": "https://localhost:8080/"
        },
        "id": "Btx_ByXo82-i",
        "outputId": "69dbddc4-67f3-447f-9148-26be8b5797d2"
      },
      "execution_count": 206,
      "outputs": [
        {
          "output_type": "execute_result",
          "data": {
            "text/plain": [
              "array([[39, 20, 12],\n",
              "       [20, 14,  2],\n",
              "       [12,  2, 10]])"
            ]
          },
          "metadata": {},
          "execution_count": 206
        }
      ]
    },
    {
      "cell_type": "markdown",
      "source": [
        "## 난수 생성\n",
        "### numpy.random 모듈\n",
        "- 파이썬 random 모듈을 발전시켜서, 효과적으로 넘파이 배열 난수를 생성\n",
        "  ex. 표준 정규분포를 따르는 난수 생성\n",
        "  - np.random.standard_normal(size=(4,4))\n",
        "- 같은 수의 난수를 생성시킬 때 random 모듈에 비해 훨씬 효율적\n",
        "\n",
        "- 난수 generator\n",
        "  - 난수 생성은 엄밀히 말하면 완전한 random은 아님\n",
        "  - 특정 seed를 따라서 생성 -> 고정해두면 randomness가 포함된 코드를 여러번 실행해도 같은 결과를 얻음.\n",
        "    ex. rng = np.random.default_rang(seed=10000)\n",
        "  - 난수 generator는 이러한 seed를 활용하여 난수를 생성할 수 있게 함\n",
        "\n",
        "  - 다양한 분포 생성 가능\n",
        "  rng.chisquare(df=4, size=4) ????"
      ],
      "metadata": {
        "id": "8_UKznvU9JgD"
      }
    },
    {
      "cell_type": "code",
      "source": [
        "samples = np.random.standard_normal(size=(4,4))\n",
        "samples"
      ],
      "metadata": {
        "colab": {
          "base_uri": "https://localhost:8080/"
        },
        "id": "AnIlkgdz88Ut",
        "outputId": "de26112b-4aea-4de7-b604-80efa48e8d5b"
      },
      "execution_count": 207,
      "outputs": [
        {
          "output_type": "execute_result",
          "data": {
            "text/plain": [
              "array([[ 0.33327959,  0.65088094, -0.08479411,  1.3273277 ],\n",
              "       [-1.81117521,  0.69763254,  1.68812735,  0.19240344],\n",
              "       [-0.01768228,  0.98451031,  0.15653669,  0.45280757],\n",
              "       [ 0.41725794, -1.72046022,  1.0006287 , -0.11206438]])"
            ]
          },
          "metadata": {},
          "execution_count": 207
        }
      ]
    },
    {
      "cell_type": "code",
      "source": [
        "# numpy 효율성...\n",
        "from random import normalvariate\n",
        "N = 1_000_000\n",
        "%timeit samples = [normalvariate(0, 1) for _ in range(N)]\n",
        "%timeit np.random.standard_normal(N)"
      ],
      "metadata": {
        "colab": {
          "base_uri": "https://localhost:8080/"
        },
        "id": "5-oXw05o_O0N",
        "outputId": "61f5621d-c3ec-441c-c442-f6c813246b48"
      },
      "execution_count": 208,
      "outputs": [
        {
          "output_type": "stream",
          "name": "stdout",
          "text": [
            "848 ms ± 55.8 ms per loop (mean ± std. dev. of 7 runs, 1 loop each)\n",
            "29.9 ms ± 523 µs per loop (mean ± std. dev. of 7 runs, 10 loops each)\n"
          ]
        }
      ]
    },
    {
      "cell_type": "code",
      "source": [
        "rng = np.random.default_rng(seed=12345) # generator 객체\n",
        "data = rng.standard_normal((2, 3)) # 표준정규분포 샘플링하는 메소드 (몇바이몇 인풋값)\n",
        "data"
      ],
      "metadata": {
        "colab": {
          "base_uri": "https://localhost:8080/"
        },
        "id": "Uv4FfRWx_Wms",
        "outputId": "1a415196-cd5e-4902-cf08-9985bd116e33"
      },
      "execution_count": 209,
      "outputs": [
        {
          "output_type": "execute_result",
          "data": {
            "text/plain": [
              "array([[-1.42382504,  1.26372846, -0.87066174],\n",
              "       [-0.25917323, -0.07534331, -0.74088465]])"
            ]
          },
          "metadata": {},
          "execution_count": 209
        }
      ]
    },
    {
      "cell_type": "code",
      "source": [
        "data = rng.standard_normal((2, 3))\n",
        "data"
      ],
      "metadata": {
        "colab": {
          "base_uri": "https://localhost:8080/"
        },
        "id": "Nb3ToTEK_mUx",
        "outputId": "8a50f252-c733-4f24-a808-2bd311fa0866"
      },
      "execution_count": 210,
      "outputs": [
        {
          "output_type": "execute_result",
          "data": {
            "text/plain": [
              "array([[-1.3677927 ,  0.6488928 ,  0.36105811],\n",
              "       [-1.95286306,  2.34740965,  0.96849691]])"
            ]
          },
          "metadata": {},
          "execution_count": 210
        }
      ]
    },
    {
      "cell_type": "code",
      "source": [
        "rng = np.random.default_rng(seed=12345) # generator 객체, seed 고정\n",
        "data = rng.standard_normal((2,3))\n",
        "data"
      ],
      "metadata": {
        "colab": {
          "base_uri": "https://localhost:8080/"
        },
        "id": "dUZ6BBFp_wo0",
        "outputId": "65524668-2ee3-4b84-fe43-d0bff2e48a83"
      },
      "execution_count": 211,
      "outputs": [
        {
          "output_type": "execute_result",
          "data": {
            "text/plain": [
              "array([[-1.42382504,  1.26372846, -0.87066174],\n",
              "       [-0.25917323, -0.07534331, -0.74088465]])"
            ]
          },
          "metadata": {},
          "execution_count": 211
        }
      ]
    },
    {
      "cell_type": "code",
      "source": [
        "type(rng)"
      ],
      "metadata": {
        "colab": {
          "base_uri": "https://localhost:8080/"
        },
        "id": "AClaJzwB_3Nf",
        "outputId": "516c6c34-84ec-4c64-eef4-99ed3e1242a9"
      },
      "execution_count": 212,
      "outputs": [
        {
          "output_type": "execute_result",
          "data": {
            "text/plain": [
              "numpy.random._generator.Generator"
            ]
          },
          "metadata": {},
          "execution_count": 212
        }
      ]
    },
    {
      "cell_type": "code",
      "source": [
        "# 이게 뭔데........\n",
        "rng.chisquare(df=[1,25,50,100], size=4)"
      ],
      "metadata": {
        "colab": {
          "base_uri": "https://localhost:8080/"
        },
        "id": "118T923y_9Yt",
        "outputId": "21d5c58f-c4be-49ec-ffa0-0a90b11680d9"
      },
      "execution_count": 213,
      "outputs": [
        {
          "output_type": "execute_result",
          "data": {
            "text/plain": [
              "array([ 0.74288828, 26.94003704, 76.51688565, 89.00967767])"
            ]
          },
          "metadata": {},
          "execution_count": 213
        }
      ]
    },
    {
      "cell_type": "code",
      "source": [
        "rng.binomial(10,0.5,3)"
      ],
      "metadata": {
        "colab": {
          "base_uri": "https://localhost:8080/"
        },
        "id": "mg1dbY9D__-H",
        "outputId": "a275765a-12d6-4abf-fe8d-be7d794e2663"
      },
      "execution_count": 214,
      "outputs": [
        {
          "output_type": "execute_result",
          "data": {
            "text/plain": [
              "array([5, 7, 6])"
            ]
          },
          "metadata": {},
          "execution_count": 214
        }
      ]
    },
    {
      "cell_type": "markdown",
      "source": [
        "## 유니버설(universal) 함수\n",
        "- 다양한 종류의 유니버설 함수\n",
        "- 유니버설 함수란 넘파이 배열의 원소별 연산을 수행하는 넘파이 함수\n",
        "  - sqrt, exp, maximum, modf 등등..\n",
        "  - out 매개변수를 통해 기존 배열로 결과 할당 가능"
      ],
      "metadata": {
        "id": "DxkURNHHAj4p"
      }
    },
    {
      "cell_type": "code",
      "source": [
        "arr = np.arange(10)\n",
        "arr, np.sqrt(arr) # 원소별로 적용 (별개로), 루트.."
      ],
      "metadata": {
        "colab": {
          "base_uri": "https://localhost:8080/"
        },
        "id": "a37dgTX8Ackb",
        "outputId": "5e061900-728e-4d92-827f-3b499c6ad19a"
      },
      "execution_count": 215,
      "outputs": [
        {
          "output_type": "execute_result",
          "data": {
            "text/plain": [
              "(array([0, 1, 2, 3, 4, 5, 6, 7, 8, 9]),\n",
              " array([0.        , 1.        , 1.41421356, 1.73205081, 2.        ,\n",
              "        2.23606798, 2.44948974, 2.64575131, 2.82842712, 3.        ]))"
            ]
          },
          "metadata": {},
          "execution_count": 215
        }
      ]
    },
    {
      "cell_type": "code",
      "source": [
        "np.exp(arr) # 지수, e^0, e^1, e^2..."
      ],
      "metadata": {
        "colab": {
          "base_uri": "https://localhost:8080/"
        },
        "id": "uiLH3f4RA2d9",
        "outputId": "880ec665-104a-479a-bfdc-fe9550238513"
      },
      "execution_count": 216,
      "outputs": [
        {
          "output_type": "execute_result",
          "data": {
            "text/plain": [
              "array([1.00000000e+00, 2.71828183e+00, 7.38905610e+00, 2.00855369e+01,\n",
              "       5.45981500e+01, 1.48413159e+02, 4.03428793e+02, 1.09663316e+03,\n",
              "       2.98095799e+03, 8.10308393e+03])"
            ]
          },
          "metadata": {},
          "execution_count": 216
        }
      ]
    },
    {
      "cell_type": "code",
      "source": [
        "x = rng.standard_normal(8) # rng = np.random.default_rng(seed=12345)로, generator 객체\n",
        "y = rng.standard_normal(8)\n",
        "np.maximum(x, y) # x와 y 각 요소 중 더 큰 값 반환"
      ],
      "metadata": {
        "colab": {
          "base_uri": "https://localhost:8080/"
        },
        "id": "g1FXv89oBGpV",
        "outputId": "5d13f453-6bb6-4b13-b1c7-b892191e8a2d"
      },
      "execution_count": 217,
      "outputs": [
        {
          "output_type": "execute_result",
          "data": {
            "text/plain": [
              "array([ 0.44948393,  0.57585751,  1.39897899,  1.72473993,  2.61815943,\n",
              "        0.90291934,  0.8286332 , -0.15818926])"
            ]
          },
          "metadata": {},
          "execution_count": 217
        }
      ]
    },
    {
      "cell_type": "code",
      "source": [
        "arr = rng.standard_normal(7) * 5 # 브로드캐스팅 특징에 따라 모든 요소에 *5 적용\n",
        "remainder, whole_part = np.modf(arr) # 각 요소별로 소수, 정수 부분 반환\n",
        "arr, remainder, whole_part"
      ],
      "metadata": {
        "colab": {
          "base_uri": "https://localhost:8080/"
        },
        "id": "yRUyV1a_ClgS",
        "outputId": "f8015252-dbc0-4fed-eb08-feaebdf83dec"
      },
      "execution_count": 218,
      "outputs": [
        {
          "output_type": "execute_result",
          "data": {
            "text/plain": [
              "(array([-6.04694143, -7.06146007,  2.70773415,  3.75969698, -3.2938016 ,\n",
              "        -6.14337493,  1.28778884]),\n",
              " array([-0.04694143, -0.06146007,  0.70773415,  0.75969698, -0.2938016 ,\n",
              "        -0.14337493,  0.28778884]),\n",
              " array([-6., -7.,  2.,  3., -3., -6.,  1.]))"
            ]
          },
          "metadata": {},
          "execution_count": 218
        }
      ]
    },
    {
      "cell_type": "code",
      "source": [
        "arr = np.zeros_like(arr)\n",
        "np.add(arr, 1)\n",
        "arr # 원본 배열 수정되지 않음"
      ],
      "metadata": {
        "colab": {
          "base_uri": "https://localhost:8080/"
        },
        "id": "_O0WGIxTDEVI",
        "outputId": "147c9e24-c15a-4bf1-f1d6-21b11dd60dcc"
      },
      "execution_count": 219,
      "outputs": [
        {
          "output_type": "execute_result",
          "data": {
            "text/plain": [
              "array([0., 0., 0., 0., 0., 0., 0.])"
            ]
          },
          "metadata": {},
          "execution_count": 219
        }
      ]
    },
    {
      "cell_type": "code",
      "source": [
        "np.add(arr, 1, out=arr) # out 옵션 사용해서 arr에 반환\n",
        "arr"
      ],
      "metadata": {
        "colab": {
          "base_uri": "https://localhost:8080/"
        },
        "id": "aly3QiOJDVS9",
        "outputId": "c6df4673-2d63-45f7-edb2-3629d7ddd204"
      },
      "execution_count": 220,
      "outputs": [
        {
          "output_type": "execute_result",
          "data": {
            "text/plain": [
              "array([1., 1., 1., 1., 1., 1., 1.])"
            ]
          },
          "metadata": {},
          "execution_count": 220
        }
      ]
    },
    {
      "cell_type": "code",
      "source": [
        "# numpy2 p.8\n",
        "#1\n",
        "A = np.array([3, 6, 0.7, np.NaN, np.inf]) # 배열 생성\n",
        "print(np.isnan(A)) # 각 원소가 NaN인지 아닌지 불리언 배열 반환\n",
        "print(np.isinf(A)) # 각 원소가 inf인지 아닌지 불링너 배열 반환\n",
        "A[np.isnan(A) | np.isinf(A)] = 0\n",
        "A"
      ],
      "metadata": {
        "colab": {
          "base_uri": "https://localhost:8080/"
        },
        "id": "xXXrkHYLEEGF",
        "outputId": "71c5d9eb-84c1-4f4f-a497-17879470118b"
      },
      "execution_count": 221,
      "outputs": [
        {
          "output_type": "stream",
          "name": "stdout",
          "text": [
            "[False False False  True False]\n",
            "[False False False False  True]\n"
          ]
        },
        {
          "output_type": "execute_result",
          "data": {
            "text/plain": [
              "array([3. , 6. , 0.7, 0. , 0. ])"
            ]
          },
          "metadata": {},
          "execution_count": 221
        }
      ]
    },
    {
      "cell_type": "code",
      "source": [
        "#2\n",
        "B = np.array([np.pi, np.pi/2, np.pi/3])\n",
        "C = np.cos(B)\n",
        "S = np.sin(B)\n",
        "np.maximum(C, S, out=B)"
      ],
      "metadata": {
        "colab": {
          "base_uri": "https://localhost:8080/"
        },
        "id": "-oovBc9WEvnk",
        "outputId": "8040cebf-0165-4b74-9dca-9055a9194470"
      },
      "execution_count": 222,
      "outputs": [
        {
          "output_type": "execute_result",
          "data": {
            "text/plain": [
              "array([1.22464680e-16, 1.00000000e+00, 8.66025404e-01])"
            ]
          },
          "metadata": {},
          "execution_count": 222
        }
      ]
    },
    {
      "cell_type": "markdown",
      "source": [
        "## 배열을 이용한 배열 기반 프로그래밍\n",
        "### 벡터화\n",
        "- 반복문을 제거하여 병렬적으로 연산이 가능하도록 하는 기법\n",
        "- 넘파이 배열 활용시 반복문을 없애는 벡터화 및 브로드캐스팅을 통해 연산 속도를 비약적으로 끌어올릴 수 있음\n",
        "\n",
        "### 넘파이 배열/함수 활용한 다양한 예제\n",
        "- numpy.meshgrid\n",
        "  - 격자 만드는 함수 (각 축의 범위를 파라미터로 받음)\n",
        "- **조건부 표현하기 (np.where)**\n",
        "  - np.where 활용하여 벡터화 가능\n",
        "  - np.where은 특히 데이터 정제에서 다른 배열에 기반해 새로운 배열을 생성하기 위해 자주 쓰임\n",
        "- 수학 메서드, 통계 메서드\n",
        "  - 합, 평균, 표준편차, 누적합"
      ],
      "metadata": {
        "id": "xvv3AxPaF0hd"
      }
    },
    {
      "cell_type": "code",
      "source": [
        "points = np.arange(-5, 5, 0.01) # -5 ~ 5까지의 범위에서0.01씩 증가하는 배열들\n",
        "points, points.size"
      ],
      "metadata": {
        "colab": {
          "base_uri": "https://localhost:8080/"
        },
        "id": "iWPm_3lGHSqb",
        "outputId": "d8682ec7-656c-4b23-cc2e-62428218ca8c"
      },
      "execution_count": 223,
      "outputs": [
        {
          "output_type": "execute_result",
          "data": {
            "text/plain": [
              "(array([-5.0000000e+00, -4.9900000e+00, -4.9800000e+00, -4.9700000e+00,\n",
              "        -4.9600000e+00, -4.9500000e+00, -4.9400000e+00, -4.9300000e+00,\n",
              "        -4.9200000e+00, -4.9100000e+00, -4.9000000e+00, -4.8900000e+00,\n",
              "        -4.8800000e+00, -4.8700000e+00, -4.8600000e+00, -4.8500000e+00,\n",
              "        -4.8400000e+00, -4.8300000e+00, -4.8200000e+00, -4.8100000e+00,\n",
              "        -4.8000000e+00, -4.7900000e+00, -4.7800000e+00, -4.7700000e+00,\n",
              "        -4.7600000e+00, -4.7500000e+00, -4.7400000e+00, -4.7300000e+00,\n",
              "        -4.7200000e+00, -4.7100000e+00, -4.7000000e+00, -4.6900000e+00,\n",
              "        -4.6800000e+00, -4.6700000e+00, -4.6600000e+00, -4.6500000e+00,\n",
              "        -4.6400000e+00, -4.6300000e+00, -4.6200000e+00, -4.6100000e+00,\n",
              "        -4.6000000e+00, -4.5900000e+00, -4.5800000e+00, -4.5700000e+00,\n",
              "        -4.5600000e+00, -4.5500000e+00, -4.5400000e+00, -4.5300000e+00,\n",
              "        -4.5200000e+00, -4.5100000e+00, -4.5000000e+00, -4.4900000e+00,\n",
              "        -4.4800000e+00, -4.4700000e+00, -4.4600000e+00, -4.4500000e+00,\n",
              "        -4.4400000e+00, -4.4300000e+00, -4.4200000e+00, -4.4100000e+00,\n",
              "        -4.4000000e+00, -4.3900000e+00, -4.3800000e+00, -4.3700000e+00,\n",
              "        -4.3600000e+00, -4.3500000e+00, -4.3400000e+00, -4.3300000e+00,\n",
              "        -4.3200000e+00, -4.3100000e+00, -4.3000000e+00, -4.2900000e+00,\n",
              "        -4.2800000e+00, -4.2700000e+00, -4.2600000e+00, -4.2500000e+00,\n",
              "        -4.2400000e+00, -4.2300000e+00, -4.2200000e+00, -4.2100000e+00,\n",
              "        -4.2000000e+00, -4.1900000e+00, -4.1800000e+00, -4.1700000e+00,\n",
              "        -4.1600000e+00, -4.1500000e+00, -4.1400000e+00, -4.1300000e+00,\n",
              "        -4.1200000e+00, -4.1100000e+00, -4.1000000e+00, -4.0900000e+00,\n",
              "        -4.0800000e+00, -4.0700000e+00, -4.0600000e+00, -4.0500000e+00,\n",
              "        -4.0400000e+00, -4.0300000e+00, -4.0200000e+00, -4.0100000e+00,\n",
              "        -4.0000000e+00, -3.9900000e+00, -3.9800000e+00, -3.9700000e+00,\n",
              "        -3.9600000e+00, -3.9500000e+00, -3.9400000e+00, -3.9300000e+00,\n",
              "        -3.9200000e+00, -3.9100000e+00, -3.9000000e+00, -3.8900000e+00,\n",
              "        -3.8800000e+00, -3.8700000e+00, -3.8600000e+00, -3.8500000e+00,\n",
              "        -3.8400000e+00, -3.8300000e+00, -3.8200000e+00, -3.8100000e+00,\n",
              "        -3.8000000e+00, -3.7900000e+00, -3.7800000e+00, -3.7700000e+00,\n",
              "        -3.7600000e+00, -3.7500000e+00, -3.7400000e+00, -3.7300000e+00,\n",
              "        -3.7200000e+00, -3.7100000e+00, -3.7000000e+00, -3.6900000e+00,\n",
              "        -3.6800000e+00, -3.6700000e+00, -3.6600000e+00, -3.6500000e+00,\n",
              "        -3.6400000e+00, -3.6300000e+00, -3.6200000e+00, -3.6100000e+00,\n",
              "        -3.6000000e+00, -3.5900000e+00, -3.5800000e+00, -3.5700000e+00,\n",
              "        -3.5600000e+00, -3.5500000e+00, -3.5400000e+00, -3.5300000e+00,\n",
              "        -3.5200000e+00, -3.5100000e+00, -3.5000000e+00, -3.4900000e+00,\n",
              "        -3.4800000e+00, -3.4700000e+00, -3.4600000e+00, -3.4500000e+00,\n",
              "        -3.4400000e+00, -3.4300000e+00, -3.4200000e+00, -3.4100000e+00,\n",
              "        -3.4000000e+00, -3.3900000e+00, -3.3800000e+00, -3.3700000e+00,\n",
              "        -3.3600000e+00, -3.3500000e+00, -3.3400000e+00, -3.3300000e+00,\n",
              "        -3.3200000e+00, -3.3100000e+00, -3.3000000e+00, -3.2900000e+00,\n",
              "        -3.2800000e+00, -3.2700000e+00, -3.2600000e+00, -3.2500000e+00,\n",
              "        -3.2400000e+00, -3.2300000e+00, -3.2200000e+00, -3.2100000e+00,\n",
              "        -3.2000000e+00, -3.1900000e+00, -3.1800000e+00, -3.1700000e+00,\n",
              "        -3.1600000e+00, -3.1500000e+00, -3.1400000e+00, -3.1300000e+00,\n",
              "        -3.1200000e+00, -3.1100000e+00, -3.1000000e+00, -3.0900000e+00,\n",
              "        -3.0800000e+00, -3.0700000e+00, -3.0600000e+00, -3.0500000e+00,\n",
              "        -3.0400000e+00, -3.0300000e+00, -3.0200000e+00, -3.0100000e+00,\n",
              "        -3.0000000e+00, -2.9900000e+00, -2.9800000e+00, -2.9700000e+00,\n",
              "        -2.9600000e+00, -2.9500000e+00, -2.9400000e+00, -2.9300000e+00,\n",
              "        -2.9200000e+00, -2.9100000e+00, -2.9000000e+00, -2.8900000e+00,\n",
              "        -2.8800000e+00, -2.8700000e+00, -2.8600000e+00, -2.8500000e+00,\n",
              "        -2.8400000e+00, -2.8300000e+00, -2.8200000e+00, -2.8100000e+00,\n",
              "        -2.8000000e+00, -2.7900000e+00, -2.7800000e+00, -2.7700000e+00,\n",
              "        -2.7600000e+00, -2.7500000e+00, -2.7400000e+00, -2.7300000e+00,\n",
              "        -2.7200000e+00, -2.7100000e+00, -2.7000000e+00, -2.6900000e+00,\n",
              "        -2.6800000e+00, -2.6700000e+00, -2.6600000e+00, -2.6500000e+00,\n",
              "        -2.6400000e+00, -2.6300000e+00, -2.6200000e+00, -2.6100000e+00,\n",
              "        -2.6000000e+00, -2.5900000e+00, -2.5800000e+00, -2.5700000e+00,\n",
              "        -2.5600000e+00, -2.5500000e+00, -2.5400000e+00, -2.5300000e+00,\n",
              "        -2.5200000e+00, -2.5100000e+00, -2.5000000e+00, -2.4900000e+00,\n",
              "        -2.4800000e+00, -2.4700000e+00, -2.4600000e+00, -2.4500000e+00,\n",
              "        -2.4400000e+00, -2.4300000e+00, -2.4200000e+00, -2.4100000e+00,\n",
              "        -2.4000000e+00, -2.3900000e+00, -2.3800000e+00, -2.3700000e+00,\n",
              "        -2.3600000e+00, -2.3500000e+00, -2.3400000e+00, -2.3300000e+00,\n",
              "        -2.3200000e+00, -2.3100000e+00, -2.3000000e+00, -2.2900000e+00,\n",
              "        -2.2800000e+00, -2.2700000e+00, -2.2600000e+00, -2.2500000e+00,\n",
              "        -2.2400000e+00, -2.2300000e+00, -2.2200000e+00, -2.2100000e+00,\n",
              "        -2.2000000e+00, -2.1900000e+00, -2.1800000e+00, -2.1700000e+00,\n",
              "        -2.1600000e+00, -2.1500000e+00, -2.1400000e+00, -2.1300000e+00,\n",
              "        -2.1200000e+00, -2.1100000e+00, -2.1000000e+00, -2.0900000e+00,\n",
              "        -2.0800000e+00, -2.0700000e+00, -2.0600000e+00, -2.0500000e+00,\n",
              "        -2.0400000e+00, -2.0300000e+00, -2.0200000e+00, -2.0100000e+00,\n",
              "        -2.0000000e+00, -1.9900000e+00, -1.9800000e+00, -1.9700000e+00,\n",
              "        -1.9600000e+00, -1.9500000e+00, -1.9400000e+00, -1.9300000e+00,\n",
              "        -1.9200000e+00, -1.9100000e+00, -1.9000000e+00, -1.8900000e+00,\n",
              "        -1.8800000e+00, -1.8700000e+00, -1.8600000e+00, -1.8500000e+00,\n",
              "        -1.8400000e+00, -1.8300000e+00, -1.8200000e+00, -1.8100000e+00,\n",
              "        -1.8000000e+00, -1.7900000e+00, -1.7800000e+00, -1.7700000e+00,\n",
              "        -1.7600000e+00, -1.7500000e+00, -1.7400000e+00, -1.7300000e+00,\n",
              "        -1.7200000e+00, -1.7100000e+00, -1.7000000e+00, -1.6900000e+00,\n",
              "        -1.6800000e+00, -1.6700000e+00, -1.6600000e+00, -1.6500000e+00,\n",
              "        -1.6400000e+00, -1.6300000e+00, -1.6200000e+00, -1.6100000e+00,\n",
              "        -1.6000000e+00, -1.5900000e+00, -1.5800000e+00, -1.5700000e+00,\n",
              "        -1.5600000e+00, -1.5500000e+00, -1.5400000e+00, -1.5300000e+00,\n",
              "        -1.5200000e+00, -1.5100000e+00, -1.5000000e+00, -1.4900000e+00,\n",
              "        -1.4800000e+00, -1.4700000e+00, -1.4600000e+00, -1.4500000e+00,\n",
              "        -1.4400000e+00, -1.4300000e+00, -1.4200000e+00, -1.4100000e+00,\n",
              "        -1.4000000e+00, -1.3900000e+00, -1.3800000e+00, -1.3700000e+00,\n",
              "        -1.3600000e+00, -1.3500000e+00, -1.3400000e+00, -1.3300000e+00,\n",
              "        -1.3200000e+00, -1.3100000e+00, -1.3000000e+00, -1.2900000e+00,\n",
              "        -1.2800000e+00, -1.2700000e+00, -1.2600000e+00, -1.2500000e+00,\n",
              "        -1.2400000e+00, -1.2300000e+00, -1.2200000e+00, -1.2100000e+00,\n",
              "        -1.2000000e+00, -1.1900000e+00, -1.1800000e+00, -1.1700000e+00,\n",
              "        -1.1600000e+00, -1.1500000e+00, -1.1400000e+00, -1.1300000e+00,\n",
              "        -1.1200000e+00, -1.1100000e+00, -1.1000000e+00, -1.0900000e+00,\n",
              "        -1.0800000e+00, -1.0700000e+00, -1.0600000e+00, -1.0500000e+00,\n",
              "        -1.0400000e+00, -1.0300000e+00, -1.0200000e+00, -1.0100000e+00,\n",
              "        -1.0000000e+00, -9.9000000e-01, -9.8000000e-01, -9.7000000e-01,\n",
              "        -9.6000000e-01, -9.5000000e-01, -9.4000000e-01, -9.3000000e-01,\n",
              "        -9.2000000e-01, -9.1000000e-01, -9.0000000e-01, -8.9000000e-01,\n",
              "        -8.8000000e-01, -8.7000000e-01, -8.6000000e-01, -8.5000000e-01,\n",
              "        -8.4000000e-01, -8.3000000e-01, -8.2000000e-01, -8.1000000e-01,\n",
              "        -8.0000000e-01, -7.9000000e-01, -7.8000000e-01, -7.7000000e-01,\n",
              "        -7.6000000e-01, -7.5000000e-01, -7.4000000e-01, -7.3000000e-01,\n",
              "        -7.2000000e-01, -7.1000000e-01, -7.0000000e-01, -6.9000000e-01,\n",
              "        -6.8000000e-01, -6.7000000e-01, -6.6000000e-01, -6.5000000e-01,\n",
              "        -6.4000000e-01, -6.3000000e-01, -6.2000000e-01, -6.1000000e-01,\n",
              "        -6.0000000e-01, -5.9000000e-01, -5.8000000e-01, -5.7000000e-01,\n",
              "        -5.6000000e-01, -5.5000000e-01, -5.4000000e-01, -5.3000000e-01,\n",
              "        -5.2000000e-01, -5.1000000e-01, -5.0000000e-01, -4.9000000e-01,\n",
              "        -4.8000000e-01, -4.7000000e-01, -4.6000000e-01, -4.5000000e-01,\n",
              "        -4.4000000e-01, -4.3000000e-01, -4.2000000e-01, -4.1000000e-01,\n",
              "        -4.0000000e-01, -3.9000000e-01, -3.8000000e-01, -3.7000000e-01,\n",
              "        -3.6000000e-01, -3.5000000e-01, -3.4000000e-01, -3.3000000e-01,\n",
              "        -3.2000000e-01, -3.1000000e-01, -3.0000000e-01, -2.9000000e-01,\n",
              "        -2.8000000e-01, -2.7000000e-01, -2.6000000e-01, -2.5000000e-01,\n",
              "        -2.4000000e-01, -2.3000000e-01, -2.2000000e-01, -2.1000000e-01,\n",
              "        -2.0000000e-01, -1.9000000e-01, -1.8000000e-01, -1.7000000e-01,\n",
              "        -1.6000000e-01, -1.5000000e-01, -1.4000000e-01, -1.3000000e-01,\n",
              "        -1.2000000e-01, -1.1000000e-01, -1.0000000e-01, -9.0000000e-02,\n",
              "        -8.0000000e-02, -7.0000000e-02, -6.0000000e-02, -5.0000000e-02,\n",
              "        -4.0000000e-02, -3.0000000e-02, -2.0000000e-02, -1.0000000e-02,\n",
              "        -1.0658141e-13,  1.0000000e-02,  2.0000000e-02,  3.0000000e-02,\n",
              "         4.0000000e-02,  5.0000000e-02,  6.0000000e-02,  7.0000000e-02,\n",
              "         8.0000000e-02,  9.0000000e-02,  1.0000000e-01,  1.1000000e-01,\n",
              "         1.2000000e-01,  1.3000000e-01,  1.4000000e-01,  1.5000000e-01,\n",
              "         1.6000000e-01,  1.7000000e-01,  1.8000000e-01,  1.9000000e-01,\n",
              "         2.0000000e-01,  2.1000000e-01,  2.2000000e-01,  2.3000000e-01,\n",
              "         2.4000000e-01,  2.5000000e-01,  2.6000000e-01,  2.7000000e-01,\n",
              "         2.8000000e-01,  2.9000000e-01,  3.0000000e-01,  3.1000000e-01,\n",
              "         3.2000000e-01,  3.3000000e-01,  3.4000000e-01,  3.5000000e-01,\n",
              "         3.6000000e-01,  3.7000000e-01,  3.8000000e-01,  3.9000000e-01,\n",
              "         4.0000000e-01,  4.1000000e-01,  4.2000000e-01,  4.3000000e-01,\n",
              "         4.4000000e-01,  4.5000000e-01,  4.6000000e-01,  4.7000000e-01,\n",
              "         4.8000000e-01,  4.9000000e-01,  5.0000000e-01,  5.1000000e-01,\n",
              "         5.2000000e-01,  5.3000000e-01,  5.4000000e-01,  5.5000000e-01,\n",
              "         5.6000000e-01,  5.7000000e-01,  5.8000000e-01,  5.9000000e-01,\n",
              "         6.0000000e-01,  6.1000000e-01,  6.2000000e-01,  6.3000000e-01,\n",
              "         6.4000000e-01,  6.5000000e-01,  6.6000000e-01,  6.7000000e-01,\n",
              "         6.8000000e-01,  6.9000000e-01,  7.0000000e-01,  7.1000000e-01,\n",
              "         7.2000000e-01,  7.3000000e-01,  7.4000000e-01,  7.5000000e-01,\n",
              "         7.6000000e-01,  7.7000000e-01,  7.8000000e-01,  7.9000000e-01,\n",
              "         8.0000000e-01,  8.1000000e-01,  8.2000000e-01,  8.3000000e-01,\n",
              "         8.4000000e-01,  8.5000000e-01,  8.6000000e-01,  8.7000000e-01,\n",
              "         8.8000000e-01,  8.9000000e-01,  9.0000000e-01,  9.1000000e-01,\n",
              "         9.2000000e-01,  9.3000000e-01,  9.4000000e-01,  9.5000000e-01,\n",
              "         9.6000000e-01,  9.7000000e-01,  9.8000000e-01,  9.9000000e-01,\n",
              "         1.0000000e+00,  1.0100000e+00,  1.0200000e+00,  1.0300000e+00,\n",
              "         1.0400000e+00,  1.0500000e+00,  1.0600000e+00,  1.0700000e+00,\n",
              "         1.0800000e+00,  1.0900000e+00,  1.1000000e+00,  1.1100000e+00,\n",
              "         1.1200000e+00,  1.1300000e+00,  1.1400000e+00,  1.1500000e+00,\n",
              "         1.1600000e+00,  1.1700000e+00,  1.1800000e+00,  1.1900000e+00,\n",
              "         1.2000000e+00,  1.2100000e+00,  1.2200000e+00,  1.2300000e+00,\n",
              "         1.2400000e+00,  1.2500000e+00,  1.2600000e+00,  1.2700000e+00,\n",
              "         1.2800000e+00,  1.2900000e+00,  1.3000000e+00,  1.3100000e+00,\n",
              "         1.3200000e+00,  1.3300000e+00,  1.3400000e+00,  1.3500000e+00,\n",
              "         1.3600000e+00,  1.3700000e+00,  1.3800000e+00,  1.3900000e+00,\n",
              "         1.4000000e+00,  1.4100000e+00,  1.4200000e+00,  1.4300000e+00,\n",
              "         1.4400000e+00,  1.4500000e+00,  1.4600000e+00,  1.4700000e+00,\n",
              "         1.4800000e+00,  1.4900000e+00,  1.5000000e+00,  1.5100000e+00,\n",
              "         1.5200000e+00,  1.5300000e+00,  1.5400000e+00,  1.5500000e+00,\n",
              "         1.5600000e+00,  1.5700000e+00,  1.5800000e+00,  1.5900000e+00,\n",
              "         1.6000000e+00,  1.6100000e+00,  1.6200000e+00,  1.6300000e+00,\n",
              "         1.6400000e+00,  1.6500000e+00,  1.6600000e+00,  1.6700000e+00,\n",
              "         1.6800000e+00,  1.6900000e+00,  1.7000000e+00,  1.7100000e+00,\n",
              "         1.7200000e+00,  1.7300000e+00,  1.7400000e+00,  1.7500000e+00,\n",
              "         1.7600000e+00,  1.7700000e+00,  1.7800000e+00,  1.7900000e+00,\n",
              "         1.8000000e+00,  1.8100000e+00,  1.8200000e+00,  1.8300000e+00,\n",
              "         1.8400000e+00,  1.8500000e+00,  1.8600000e+00,  1.8700000e+00,\n",
              "         1.8800000e+00,  1.8900000e+00,  1.9000000e+00,  1.9100000e+00,\n",
              "         1.9200000e+00,  1.9300000e+00,  1.9400000e+00,  1.9500000e+00,\n",
              "         1.9600000e+00,  1.9700000e+00,  1.9800000e+00,  1.9900000e+00,\n",
              "         2.0000000e+00,  2.0100000e+00,  2.0200000e+00,  2.0300000e+00,\n",
              "         2.0400000e+00,  2.0500000e+00,  2.0600000e+00,  2.0700000e+00,\n",
              "         2.0800000e+00,  2.0900000e+00,  2.1000000e+00,  2.1100000e+00,\n",
              "         2.1200000e+00,  2.1300000e+00,  2.1400000e+00,  2.1500000e+00,\n",
              "         2.1600000e+00,  2.1700000e+00,  2.1800000e+00,  2.1900000e+00,\n",
              "         2.2000000e+00,  2.2100000e+00,  2.2200000e+00,  2.2300000e+00,\n",
              "         2.2400000e+00,  2.2500000e+00,  2.2600000e+00,  2.2700000e+00,\n",
              "         2.2800000e+00,  2.2900000e+00,  2.3000000e+00,  2.3100000e+00,\n",
              "         2.3200000e+00,  2.3300000e+00,  2.3400000e+00,  2.3500000e+00,\n",
              "         2.3600000e+00,  2.3700000e+00,  2.3800000e+00,  2.3900000e+00,\n",
              "         2.4000000e+00,  2.4100000e+00,  2.4200000e+00,  2.4300000e+00,\n",
              "         2.4400000e+00,  2.4500000e+00,  2.4600000e+00,  2.4700000e+00,\n",
              "         2.4800000e+00,  2.4900000e+00,  2.5000000e+00,  2.5100000e+00,\n",
              "         2.5200000e+00,  2.5300000e+00,  2.5400000e+00,  2.5500000e+00,\n",
              "         2.5600000e+00,  2.5700000e+00,  2.5800000e+00,  2.5900000e+00,\n",
              "         2.6000000e+00,  2.6100000e+00,  2.6200000e+00,  2.6300000e+00,\n",
              "         2.6400000e+00,  2.6500000e+00,  2.6600000e+00,  2.6700000e+00,\n",
              "         2.6800000e+00,  2.6900000e+00,  2.7000000e+00,  2.7100000e+00,\n",
              "         2.7200000e+00,  2.7300000e+00,  2.7400000e+00,  2.7500000e+00,\n",
              "         2.7600000e+00,  2.7700000e+00,  2.7800000e+00,  2.7900000e+00,\n",
              "         2.8000000e+00,  2.8100000e+00,  2.8200000e+00,  2.8300000e+00,\n",
              "         2.8400000e+00,  2.8500000e+00,  2.8600000e+00,  2.8700000e+00,\n",
              "         2.8800000e+00,  2.8900000e+00,  2.9000000e+00,  2.9100000e+00,\n",
              "         2.9200000e+00,  2.9300000e+00,  2.9400000e+00,  2.9500000e+00,\n",
              "         2.9600000e+00,  2.9700000e+00,  2.9800000e+00,  2.9900000e+00,\n",
              "         3.0000000e+00,  3.0100000e+00,  3.0200000e+00,  3.0300000e+00,\n",
              "         3.0400000e+00,  3.0500000e+00,  3.0600000e+00,  3.0700000e+00,\n",
              "         3.0800000e+00,  3.0900000e+00,  3.1000000e+00,  3.1100000e+00,\n",
              "         3.1200000e+00,  3.1300000e+00,  3.1400000e+00,  3.1500000e+00,\n",
              "         3.1600000e+00,  3.1700000e+00,  3.1800000e+00,  3.1900000e+00,\n",
              "         3.2000000e+00,  3.2100000e+00,  3.2200000e+00,  3.2300000e+00,\n",
              "         3.2400000e+00,  3.2500000e+00,  3.2600000e+00,  3.2700000e+00,\n",
              "         3.2800000e+00,  3.2900000e+00,  3.3000000e+00,  3.3100000e+00,\n",
              "         3.3200000e+00,  3.3300000e+00,  3.3400000e+00,  3.3500000e+00,\n",
              "         3.3600000e+00,  3.3700000e+00,  3.3800000e+00,  3.3900000e+00,\n",
              "         3.4000000e+00,  3.4100000e+00,  3.4200000e+00,  3.4300000e+00,\n",
              "         3.4400000e+00,  3.4500000e+00,  3.4600000e+00,  3.4700000e+00,\n",
              "         3.4800000e+00,  3.4900000e+00,  3.5000000e+00,  3.5100000e+00,\n",
              "         3.5200000e+00,  3.5300000e+00,  3.5400000e+00,  3.5500000e+00,\n",
              "         3.5600000e+00,  3.5700000e+00,  3.5800000e+00,  3.5900000e+00,\n",
              "         3.6000000e+00,  3.6100000e+00,  3.6200000e+00,  3.6300000e+00,\n",
              "         3.6400000e+00,  3.6500000e+00,  3.6600000e+00,  3.6700000e+00,\n",
              "         3.6800000e+00,  3.6900000e+00,  3.7000000e+00,  3.7100000e+00,\n",
              "         3.7200000e+00,  3.7300000e+00,  3.7400000e+00,  3.7500000e+00,\n",
              "         3.7600000e+00,  3.7700000e+00,  3.7800000e+00,  3.7900000e+00,\n",
              "         3.8000000e+00,  3.8100000e+00,  3.8200000e+00,  3.8300000e+00,\n",
              "         3.8400000e+00,  3.8500000e+00,  3.8600000e+00,  3.8700000e+00,\n",
              "         3.8800000e+00,  3.8900000e+00,  3.9000000e+00,  3.9100000e+00,\n",
              "         3.9200000e+00,  3.9300000e+00,  3.9400000e+00,  3.9500000e+00,\n",
              "         3.9600000e+00,  3.9700000e+00,  3.9800000e+00,  3.9900000e+00,\n",
              "         4.0000000e+00,  4.0100000e+00,  4.0200000e+00,  4.0300000e+00,\n",
              "         4.0400000e+00,  4.0500000e+00,  4.0600000e+00,  4.0700000e+00,\n",
              "         4.0800000e+00,  4.0900000e+00,  4.1000000e+00,  4.1100000e+00,\n",
              "         4.1200000e+00,  4.1300000e+00,  4.1400000e+00,  4.1500000e+00,\n",
              "         4.1600000e+00,  4.1700000e+00,  4.1800000e+00,  4.1900000e+00,\n",
              "         4.2000000e+00,  4.2100000e+00,  4.2200000e+00,  4.2300000e+00,\n",
              "         4.2400000e+00,  4.2500000e+00,  4.2600000e+00,  4.2700000e+00,\n",
              "         4.2800000e+00,  4.2900000e+00,  4.3000000e+00,  4.3100000e+00,\n",
              "         4.3200000e+00,  4.3300000e+00,  4.3400000e+00,  4.3500000e+00,\n",
              "         4.3600000e+00,  4.3700000e+00,  4.3800000e+00,  4.3900000e+00,\n",
              "         4.4000000e+00,  4.4100000e+00,  4.4200000e+00,  4.4300000e+00,\n",
              "         4.4400000e+00,  4.4500000e+00,  4.4600000e+00,  4.4700000e+00,\n",
              "         4.4800000e+00,  4.4900000e+00,  4.5000000e+00,  4.5100000e+00,\n",
              "         4.5200000e+00,  4.5300000e+00,  4.5400000e+00,  4.5500000e+00,\n",
              "         4.5600000e+00,  4.5700000e+00,  4.5800000e+00,  4.5900000e+00,\n",
              "         4.6000000e+00,  4.6100000e+00,  4.6200000e+00,  4.6300000e+00,\n",
              "         4.6400000e+00,  4.6500000e+00,  4.6600000e+00,  4.6700000e+00,\n",
              "         4.6800000e+00,  4.6900000e+00,  4.7000000e+00,  4.7100000e+00,\n",
              "         4.7200000e+00,  4.7300000e+00,  4.7400000e+00,  4.7500000e+00,\n",
              "         4.7600000e+00,  4.7700000e+00,  4.7800000e+00,  4.7900000e+00,\n",
              "         4.8000000e+00,  4.8100000e+00,  4.8200000e+00,  4.8300000e+00,\n",
              "         4.8400000e+00,  4.8500000e+00,  4.8600000e+00,  4.8700000e+00,\n",
              "         4.8800000e+00,  4.8900000e+00,  4.9000000e+00,  4.9100000e+00,\n",
              "         4.9200000e+00,  4.9300000e+00,  4.9400000e+00,  4.9500000e+00,\n",
              "         4.9600000e+00,  4.9700000e+00,  4.9800000e+00,  4.9900000e+00]),\n",
              " 1000)"
            ]
          },
          "metadata": {},
          "execution_count": 223
        }
      ]
    },
    {
      "cell_type": "code",
      "source": [
        "xs, ys = np.meshgrid(points, points) # 두 개를 격자로 잘라낸 값 반환. 주어진 1차원 배열을 기반으로 두 개 이상의 배열을 확장..\n",
        "xs, ys # 1000*1000 모든 포인트의 x, y 좌표"
      ],
      "metadata": {
        "colab": {
          "base_uri": "https://localhost:8080/"
        },
        "id": "pkPfbscdHrM6",
        "outputId": "6f1dc776-cdc6-4b41-86a4-c470ac6deb58"
      },
      "execution_count": 224,
      "outputs": [
        {
          "output_type": "execute_result",
          "data": {
            "text/plain": [
              "(array([[-5.  , -4.99, -4.98, ...,  4.97,  4.98,  4.99],\n",
              "        [-5.  , -4.99, -4.98, ...,  4.97,  4.98,  4.99],\n",
              "        [-5.  , -4.99, -4.98, ...,  4.97,  4.98,  4.99],\n",
              "        ...,\n",
              "        [-5.  , -4.99, -4.98, ...,  4.97,  4.98,  4.99],\n",
              "        [-5.  , -4.99, -4.98, ...,  4.97,  4.98,  4.99],\n",
              "        [-5.  , -4.99, -4.98, ...,  4.97,  4.98,  4.99]]),\n",
              " array([[-5.  , -5.  , -5.  , ..., -5.  , -5.  , -5.  ],\n",
              "        [-4.99, -4.99, -4.99, ..., -4.99, -4.99, -4.99],\n",
              "        [-4.98, -4.98, -4.98, ..., -4.98, -4.98, -4.98],\n",
              "        ...,\n",
              "        [ 4.97,  4.97,  4.97, ...,  4.97,  4.97,  4.97],\n",
              "        [ 4.98,  4.98,  4.98, ...,  4.98,  4.98,  4.98],\n",
              "        [ 4.99,  4.99,  4.99, ...,  4.99,  4.99,  4.99]]))"
            ]
          },
          "metadata": {},
          "execution_count": 224
        }
      ]
    },
    {
      "cell_type": "code",
      "source": [
        "z = np.sqrt(xs ** 2 + ys ** 2) # 원점으로부터의 거리\n",
        "z"
      ],
      "metadata": {
        "colab": {
          "base_uri": "https://localhost:8080/"
        },
        "id": "lkam1W9WH_so",
        "outputId": "9f15ddbf-e915-4bfb-c7b4-ea91f6fd0e63"
      },
      "execution_count": 225,
      "outputs": [
        {
          "output_type": "execute_result",
          "data": {
            "text/plain": [
              "array([[7.07106781, 7.06400028, 7.05693985, ..., 7.04988652, 7.05693985,\n",
              "        7.06400028],\n",
              "       [7.06400028, 7.05692568, 7.04985815, ..., 7.04279774, 7.04985815,\n",
              "        7.05692568],\n",
              "       [7.05693985, 7.04985815, 7.04278354, ..., 7.03571603, 7.04278354,\n",
              "        7.04985815],\n",
              "       ...,\n",
              "       [7.04988652, 7.04279774, 7.03571603, ..., 7.0286414 , 7.03571603,\n",
              "        7.04279774],\n",
              "       [7.05693985, 7.04985815, 7.04278354, ..., 7.03571603, 7.04278354,\n",
              "        7.04985815],\n",
              "       [7.06400028, 7.05692568, 7.04985815, ..., 7.04279774, 7.04985815,\n",
              "        7.05692568]])"
            ]
          },
          "metadata": {},
          "execution_count": 225
        }
      ]
    },
    {
      "cell_type": "code",
      "source": [
        "import matplotlib.pyplot as plt\n",
        "plt.imshow(z, cmap=plt.cm.gray, extent=[-5, 5, -5, 5])\n",
        "plt.colorbar()\n",
        "plt.title(\"Image plot of $\\sqrt{x^2 + y^2}$ for a grid of values\")"
      ],
      "metadata": {
        "colab": {
          "base_uri": "https://localhost:8080/",
          "height": 479
        },
        "id": "pN2lSZegIJVm",
        "outputId": "2e495dc2-d34e-4c42-a965-c6544f313545"
      },
      "execution_count": 226,
      "outputs": [
        {
          "output_type": "execute_result",
          "data": {
            "text/plain": [
              "Text(0.5, 1.0, 'Image plot of $\\\\sqrt{x^2 + y^2}$ for a grid of values')"
            ]
          },
          "metadata": {},
          "execution_count": 226
        },
        {
          "output_type": "display_data",
          "data": {
            "text/plain": [
              "<Figure size 640x480 with 2 Axes>"
            ],
            "image/png": "[encoded data removed]"
          },
          "metadata": {}
        }
      ]
    },
    {
      "cell_type": "markdown",
      "source": [
        "### np.where (조건부 표현)"
      ],
      "metadata": {
        "id": "Vmilkr9fItTs"
      }
    },
    {
      "cell_type": "code",
      "source": [
        "xarr = np.array([1.1, 1.2, 1.3, 1.4, 1.5])\n",
        "yarr = np.array([2.1, 2.2, 2.3, 2.4, 2.5])\n",
        "cond = np.array([True, False, True, True, False])"
      ],
      "metadata": {
        "id": "pU9TQQXeIQbK"
      },
      "execution_count": 227,
      "outputs": []
    },
    {
      "cell_type": "code",
      "source": [
        "# 조건 만족시 x에서, 조건 불만족시 y에서 가져오는 의도\n",
        "result = np.where(cond, xarr, yarr)\n",
        "result"
      ],
      "metadata": {
        "colab": {
          "base_uri": "https://localhost:8080/"
        },
        "id": "PrWsjyJ9JALC",
        "outputId": "ec67743a-2096-40e7-d05f-7c5a36d630af"
      },
      "execution_count": 228,
      "outputs": [
        {
          "output_type": "execute_result",
          "data": {
            "text/plain": [
              "array([1.1, 2.2, 1.3, 1.4, 2.5])"
            ]
          },
          "metadata": {},
          "execution_count": 228
        }
      ]
    },
    {
      "cell_type": "code",
      "source": [
        "arr = rng.standard_normal((4, 4))\n",
        "c = arr > 0\n",
        "arr, c"
      ],
      "metadata": {
        "colab": {
          "base_uri": "https://localhost:8080/"
        },
        "id": "tNHVWzhUJKck",
        "outputId": "ae24e332-7db2-4864-caad-8625302369e1"
      },
      "execution_count": 229,
      "outputs": [
        {
          "output_type": "execute_result",
          "data": {
            "text/plain": [
              "(array([[ 0.31290292, -0.13081169,  1.26998312, -0.09296246],\n",
              "        [-0.06615089, -1.10821447,  0.13595685,  1.34707776],\n",
              "        [ 0.06114402,  0.0709146 ,  0.43365454,  0.27748366],\n",
              "        [ 0.53025239,  0.53672097,  0.61835001, -0.79501746]]),\n",
              " array([[ True, False,  True, False],\n",
              "        [False, False,  True,  True],\n",
              "        [ True,  True,  True,  True],\n",
              "        [ True,  True,  True, False]]))"
            ]
          },
          "metadata": {},
          "execution_count": 229
        }
      ]
    },
    {
      "cell_type": "code",
      "source": [
        "np.where(c, 2, -2) # c에서 조건을 확인하여, True인 곳엔 2를, False인 곳엔 -2를 배치"
      ],
      "metadata": {
        "colab": {
          "base_uri": "https://localhost:8080/"
        },
        "id": "R9vDLVn9JU57",
        "outputId": "8142edef-caf3-4d58-c8aa-778d6d6f0a92"
      },
      "execution_count": 230,
      "outputs": [
        {
          "output_type": "execute_result",
          "data": {
            "text/plain": [
              "array([[ 2, -2,  2, -2],\n",
              "       [-2, -2,  2,  2],\n",
              "       [ 2,  2,  2,  2],\n",
              "       [ 2,  2,  2, -2]])"
            ]
          },
          "metadata": {},
          "execution_count": 230
        }
      ]
    },
    {
      "cell_type": "code",
      "source": [
        "np.where(c, 2, arr) # True면 2, False면 기존 원소값 배치"
      ],
      "metadata": {
        "colab": {
          "base_uri": "https://localhost:8080/"
        },
        "id": "MA1GiAC2JnGe",
        "outputId": "7401a429-abb5-4bd8-fafd-ca17f845e87f"
      },
      "execution_count": 231,
      "outputs": [
        {
          "output_type": "execute_result",
          "data": {
            "text/plain": [
              "array([[ 2.        , -0.13081169,  2.        , -0.09296246],\n",
              "       [-0.06615089, -1.10821447,  2.        ,  2.        ],\n",
              "       [ 2.        ,  2.        ,  2.        ,  2.        ],\n",
              "       [ 2.        ,  2.        ,  2.        , -0.79501746]])"
            ]
          },
          "metadata": {},
          "execution_count": 231
        }
      ]
    },
    {
      "cell_type": "code",
      "source": [
        "# p.12\n",
        "A = np.array([3, 6, 0.7, np.NaN, np.inf])\n",
        "A[np.isinf(A) | np.isnan(A)] = np.mean(A[~(np.isinf(A) | np.isnan(A))])\n",
        "#A=np.where(np.isinf(A)|np.isnan(A), np.mean(A[~(np.isinf(A)|np.isnan(A))]))"
      ],
      "metadata": {
        "id": "qdHB5P1ZFxhY"
      },
      "execution_count": 243,
      "outputs": []
    },
    {
      "cell_type": "markdown",
      "source": [
        "### 수학 메서드, 통계 메서드"
      ],
      "metadata": {
        "id": "62sgrzAyJwYR"
      }
    },
    {
      "cell_type": "code",
      "source": [
        "arr = rng.standard_normal((5, 4))\n",
        "arr"
      ],
      "metadata": {
        "id": "6bOKD6Z2JydM",
        "colab": {
          "base_uri": "https://localhost:8080/"
        },
        "outputId": "a4bc41c9-1ab7-4c46-d17e-874fbdf8ec84"
      },
      "execution_count": 244,
      "outputs": [
        {
          "output_type": "execute_result",
          "data": {
            "text/plain": [
              "array([[ 0.17930568,  1.39748056,  0.29204679,  0.63840567],\n",
              "       [-0.02788771,  1.37105185, -2.05280763,  0.38050908],\n",
              "       [ 0.75539067, -1.15912585,  2.15031011, -0.15027022],\n",
              "       [-0.16116428, -1.07944248,  0.87796618,  0.22446741],\n",
              "       [-0.59159345,  0.2262628 ,  0.68618251,  1.21500461]])"
            ]
          },
          "metadata": {},
          "execution_count": 244
        }
      ]
    },
    {
      "cell_type": "code",
      "source": [
        "arr.mean()"
      ],
      "metadata": {
        "id": "pXOY4booJ1YF",
        "colab": {
          "base_uri": "https://localhost:8080/"
        },
        "outputId": "be8ffdcc-d032-427b-f2a7-df581abc892d"
      },
      "execution_count": 245,
      "outputs": [
        {
          "output_type": "execute_result",
          "data": {
            "text/plain": [
              "0.2586046153509155"
            ]
          },
          "metadata": {},
          "execution_count": 245
        }
      ]
    },
    {
      "cell_type": "code",
      "source": [
        "np.mean(arr)"
      ],
      "metadata": {
        "id": "67XVDtnuJ4CL",
        "colab": {
          "base_uri": "https://localhost:8080/"
        },
        "outputId": "62b6e05b-7e54-46b9-fa61-32dd633489bd"
      },
      "execution_count": 246,
      "outputs": [
        {
          "output_type": "execute_result",
          "data": {
            "text/plain": [
              "0.2586046153509155"
            ]
          },
          "metadata": {},
          "execution_count": 246
        }
      ]
    },
    {
      "cell_type": "code",
      "source": [
        "arr.sum()"
      ],
      "metadata": {
        "id": "sekDkpbgJ6Z8",
        "colab": {
          "base_uri": "https://localhost:8080/"
        },
        "outputId": "c781b80c-32ba-435e-de1c-ca2d86a815a1"
      },
      "execution_count": 247,
      "outputs": [
        {
          "output_type": "execute_result",
          "data": {
            "text/plain": [
              "5.17209230701831"
            ]
          },
          "metadata": {},
          "execution_count": 247
        }
      ]
    },
    {
      "cell_type": "code",
      "source": [
        "np.sum(arr)"
      ],
      "metadata": {
        "id": "KY3FzE1tJ8D9",
        "colab": {
          "base_uri": "https://localhost:8080/"
        },
        "outputId": "0c7d8045-f50d-4f21-9782-fa8ba95e4b18"
      },
      "execution_count": 248,
      "outputs": [
        {
          "output_type": "execute_result",
          "data": {
            "text/plain": [
              "5.17209230701831"
            ]
          },
          "metadata": {},
          "execution_count": 248
        }
      ]
    },
    {
      "cell_type": "code",
      "source": [
        "# 축 지정 가능\n",
        "arr.mean(axis=1)"
      ],
      "metadata": {
        "id": "otUFdj57J8wd",
        "colab": {
          "base_uri": "https://localhost:8080/"
        },
        "outputId": "9d8d4135-8fe1-4aee-bbae-3ff584ce4864"
      },
      "execution_count": 249,
      "outputs": [
        {
          "output_type": "execute_result",
          "data": {
            "text/plain": [
              "array([ 0.62680967, -0.0822836 ,  0.39907618, -0.03454329,  0.38396412])"
            ]
          },
          "metadata": {},
          "execution_count": 249
        }
      ]
    },
    {
      "cell_type": "code",
      "source": [
        "arr.sum(axis=0)"
      ],
      "metadata": {
        "id": "mLtT4H4IJ_qd",
        "colab": {
          "base_uri": "https://localhost:8080/"
        },
        "outputId": "b9f29493-a6a6-444d-b998-71ccfd6dc5c4"
      },
      "execution_count": 250,
      "outputs": [
        {
          "output_type": "execute_result",
          "data": {
            "text/plain": [
              "array([0.1540509 , 0.75622688, 1.95369797, 2.30811656])"
            ]
          },
          "metadata": {},
          "execution_count": 250
        }
      ]
    },
    {
      "cell_type": "code",
      "source": [
        "np.sum(arr, axis=0)"
      ],
      "metadata": {
        "id": "dQuo_aTzKGtd",
        "colab": {
          "base_uri": "https://localhost:8080/"
        },
        "outputId": "e68d3233-050c-409e-c4ec-27492c6368fe"
      },
      "execution_count": 251,
      "outputs": [
        {
          "output_type": "execute_result",
          "data": {
            "text/plain": [
              "array([0.1540509 , 0.75622688, 1.95369797, 2.30811656])"
            ]
          },
          "metadata": {},
          "execution_count": 251
        }
      ]
    },
    {
      "cell_type": "code",
      "source": [
        "arr = np.arange(8)\n",
        "arr.cumsum() # 누적합 계산"
      ],
      "metadata": {
        "id": "h6rwz-yMKhL1",
        "colab": {
          "base_uri": "https://localhost:8080/"
        },
        "outputId": "d08e4562-1d93-4131-a9a4-af77358a099d"
      },
      "execution_count": 252,
      "outputs": [
        {
          "output_type": "execute_result",
          "data": {
            "text/plain": [
              "array([ 0,  1,  3,  6, 10, 15, 21, 28])"
            ]
          },
          "metadata": {},
          "execution_count": 252
        }
      ]
    },
    {
      "cell_type": "code",
      "source": [
        "arr = np.arange(9).reshape(3, 3)\n",
        "arr"
      ],
      "metadata": {
        "id": "JBt7OiV8KmhO",
        "colab": {
          "base_uri": "https://localhost:8080/"
        },
        "outputId": "adb597c4-c430-42e1-f136-a14f8dd10439"
      },
      "execution_count": 253,
      "outputs": [
        {
          "output_type": "execute_result",
          "data": {
            "text/plain": [
              "array([[0, 1, 2],\n",
              "       [3, 4, 5],\n",
              "       [6, 7, 8]])"
            ]
          },
          "metadata": {},
          "execution_count": 253
        }
      ]
    },
    {
      "cell_type": "code",
      "source": [
        "arr.cumsum(axis=0)"
      ],
      "metadata": {
        "id": "yv39EC27KuXC",
        "colab": {
          "base_uri": "https://localhost:8080/"
        },
        "outputId": "39c102db-d97c-41f9-fdd6-a7a4bd8ee861"
      },
      "execution_count": 254,
      "outputs": [
        {
          "output_type": "execute_result",
          "data": {
            "text/plain": [
              "array([[ 0,  1,  2],\n",
              "       [ 3,  5,  7],\n",
              "       [ 9, 12, 15]])"
            ]
          },
          "metadata": {},
          "execution_count": 254
        }
      ]
    },
    {
      "cell_type": "code",
      "source": [
        "arr.cumsum(axis=1)"
      ],
      "metadata": {
        "id": "4KouWEAQK7FT",
        "colab": {
          "base_uri": "https://localhost:8080/"
        },
        "outputId": "dad173e7-2b12-4c40-efcd-2aabeae9c599"
      },
      "execution_count": 255,
      "outputs": [
        {
          "output_type": "execute_result",
          "data": {
            "text/plain": [
              "array([[ 0,  1,  3],\n",
              "       [ 3,  7, 12],\n",
              "       [ 6, 13, 21]])"
            ]
          },
          "metadata": {},
          "execution_count": 255
        }
      ]
    },
    {
      "cell_type": "markdown",
      "source": [
        "## 배열을 이용한 배열 기반 프로그래밍\n",
        "- 불리언 배열 메서드 예제\n",
        "  - sum(), all(), any()\n",
        "  - 데이터 정제시 빈번히 사용됨\n",
        "- 정렬\n",
        "  - 리스트 자료형의 정렬 메서드처럼 정렬 가능\n",
        "  - 축 지정 가능\n",
        "  - np.sort 함수는 sorted와 유사하게 정렬 후 복사본 반환"
      ],
      "metadata": {
        "id": "P3jDPwcOLIko"
      }
    },
    {
      "cell_type": "code",
      "source": [
        "arr = rng.standard_normal(100)\n",
        "(arr > 0).sum() # 양수 값의 합"
      ],
      "metadata": {
        "id": "wvfSMgtzLBCV",
        "colab": {
          "base_uri": "https://localhost:8080/"
        },
        "outputId": "9a276558-62ca-4807-fbe3-829f8f9f5158"
      },
      "execution_count": 256,
      "outputs": [
        {
          "output_type": "execute_result",
          "data": {
            "text/plain": [
              "50"
            ]
          },
          "metadata": {},
          "execution_count": 256
        }
      ]
    },
    {
      "cell_type": "code",
      "source": [
        "(arr <= 0).sum() # 음수 값 합"
      ],
      "metadata": {
        "id": "sIsPsbB3LavU",
        "colab": {
          "base_uri": "https://localhost:8080/"
        },
        "outputId": "88670483-7ac3-44a9-8b6c-a2f4b3394532"
      },
      "execution_count": 257,
      "outputs": [
        {
          "output_type": "execute_result",
          "data": {
            "text/plain": [
              "50"
            ]
          },
          "metadata": {},
          "execution_count": 257
        }
      ]
    },
    {
      "cell_type": "code",
      "source": [
        "bools = np.array([False, False, True, False])\n",
        "bools.any() # True가 하나라도 있으면 True 반환"
      ],
      "metadata": {
        "id": "VtIlKRg0Lk3b",
        "colab": {
          "base_uri": "https://localhost:8080/"
        },
        "outputId": "c8b1b399-643d-40e4-8c25-8d7e78d48172"
      },
      "execution_count": 258,
      "outputs": [
        {
          "output_type": "execute_result",
          "data": {
            "text/plain": [
              "True"
            ]
          },
          "metadata": {},
          "execution_count": 258
        }
      ]
    },
    {
      "cell_type": "code",
      "source": [
        "bools.all() # 모두 True여야 True 반환"
      ],
      "metadata": {
        "id": "3AYcVbxOLqB9",
        "colab": {
          "base_uri": "https://localhost:8080/"
        },
        "outputId": "3fad22fe-3ca3-49d8-b4f7-69857fccc16a"
      },
      "execution_count": 259,
      "outputs": [
        {
          "output_type": "execute_result",
          "data": {
            "text/plain": [
              "False"
            ]
          },
          "metadata": {},
          "execution_count": 259
        }
      ]
    },
    {
      "cell_type": "code",
      "source": [
        "# 정렬\n",
        "arr = rng.standard_normal(6)\n",
        "arr"
      ],
      "metadata": {
        "id": "CEHHXHo5LwCF",
        "colab": {
          "base_uri": "https://localhost:8080/"
        },
        "outputId": "44e95580-8f36-4910-e14c-2044c9f681a5"
      },
      "execution_count": 260,
      "outputs": [
        {
          "output_type": "execute_result",
          "data": {
            "text/plain": [
              "array([-0.09986088, -0.12950676, -1.39670506,  0.19380935, -0.12929273,\n",
              "        0.35447909])"
            ]
          },
          "metadata": {},
          "execution_count": 260
        }
      ]
    },
    {
      "cell_type": "code",
      "source": [
        "arr.sort() # 오름차순\n",
        "arr"
      ],
      "metadata": {
        "id": "FB8IzrKcL1W0",
        "colab": {
          "base_uri": "https://localhost:8080/"
        },
        "outputId": "66a2a07b-7f89-44c3-a115-e9df02f6e72f"
      },
      "execution_count": 261,
      "outputs": [
        {
          "output_type": "execute_result",
          "data": {
            "text/plain": [
              "array([-1.39670506, -0.12950676, -0.12929273, -0.09986088,  0.19380935,\n",
              "        0.35447909])"
            ]
          },
          "metadata": {},
          "execution_count": 261
        }
      ]
    },
    {
      "cell_type": "code",
      "source": [
        "arr = rng.standard_normal((5, 3))\n",
        "arr"
      ],
      "metadata": {
        "id": "WLaTWm8iL287",
        "colab": {
          "base_uri": "https://localhost:8080/"
        },
        "outputId": "cb2e8b47-98be-4b16-b325-15b1e8dab96a"
      },
      "execution_count": 262,
      "outputs": [
        {
          "output_type": "execute_result",
          "data": {
            "text/plain": [
              "array([[-1.08287264,  0.24493923,  0.22082079],\n",
              "       [-0.66043248, -0.21853515, -0.55599901],\n",
              "       [ 1.35638101, -3.11960863, -1.4476717 ],\n",
              "       [-1.70578539, -0.37811992, -0.67849392],\n",
              "       [-0.41124593,  0.71901264, -1.63251948]])"
            ]
          },
          "metadata": {},
          "execution_count": 262
        }
      ]
    },
    {
      "cell_type": "code",
      "source": [
        "arr.sort(axis=0)\n",
        "arr"
      ],
      "metadata": {
        "id": "_gmf46NHL7tw",
        "colab": {
          "base_uri": "https://localhost:8080/"
        },
        "outputId": "f73e0702-0ca7-49ce-b157-bc64825e44bb"
      },
      "execution_count": 263,
      "outputs": [
        {
          "output_type": "execute_result",
          "data": {
            "text/plain": [
              "array([[-1.70578539, -3.11960863, -1.63251948],\n",
              "       [-1.08287264, -0.37811992, -1.4476717 ],\n",
              "       [-0.66043248, -0.21853515, -0.67849392],\n",
              "       [-0.41124593,  0.24493923, -0.55599901],\n",
              "       [ 1.35638101,  0.71901264,  0.22082079]])"
            ]
          },
          "metadata": {},
          "execution_count": 263
        }
      ]
    },
    {
      "cell_type": "code",
      "source": [
        "arr.sort(axis=1)\n",
        "arr"
      ],
      "metadata": {
        "id": "Gfc9YRxsL_4g",
        "colab": {
          "base_uri": "https://localhost:8080/"
        },
        "outputId": "a0424c79-218b-4aab-e502-415c48e9d5ee"
      },
      "execution_count": 264,
      "outputs": [
        {
          "output_type": "execute_result",
          "data": {
            "text/plain": [
              "array([[-3.11960863, -1.70578539, -1.63251948],\n",
              "       [-1.4476717 , -1.08287264, -0.37811992],\n",
              "       [-0.67849392, -0.66043248, -0.21853515],\n",
              "       [-0.55599901, -0.41124593,  0.24493923],\n",
              "       [ 0.22082079,  0.71901264,  1.35638101]])"
            ]
          },
          "metadata": {},
          "execution_count": 264
        }
      ]
    },
    {
      "cell_type": "code",
      "source": [
        "arr2 = np.array([5, -10, 7, 1, 0, -3])\n",
        "sorted_arr2 = np.sort(arr2)\n",
        "sorted_arr2"
      ],
      "metadata": {
        "id": "7B-4SlQBL6yW",
        "colab": {
          "base_uri": "https://localhost:8080/"
        },
        "outputId": "fd1d09ab-5ccf-4b14-f98c-1daebd98552a"
      },
      "execution_count": 265,
      "outputs": [
        {
          "output_type": "execute_result",
          "data": {
            "text/plain": [
              "array([-10,  -3,   0,   1,   5,   7])"
            ]
          },
          "metadata": {},
          "execution_count": 265
        }
      ]
    }
  ]
}